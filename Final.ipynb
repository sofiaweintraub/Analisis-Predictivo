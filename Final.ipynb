{
  "nbformat": 4,
  "nbformat_minor": 0,
  "metadata": {
    "colab": {
      "provenance": [],
      "authorship_tag": "ABX9TyM7yLi/EmUGVZtG2qjh0VWI",
      "include_colab_link": true
    },
    "kernelspec": {
      "name": "python3",
      "display_name": "Python 3"
    },
    "language_info": {
      "name": "python"
    }
  },
  "cells": [
    {
      "cell_type": "markdown",
      "metadata": {
        "id": "view-in-github",
        "colab_type": "text"
      },
      "source": [
        "<a href=\"https://colab.research.google.com/github/sofiaweintraub/Analisis-Predictivo/blob/main/Final.ipynb\" target=\"_parent\"><img src=\"https://colab.research.google.com/assets/colab-badge.svg\" alt=\"Open In Colab\"/></a>"
      ]
    },
    {
      "cell_type": "markdown",
      "source": [
        "## **Examen Final - Analisis Predictivo**\n",
        "Sofía Weintraub - 62583"
      ],
      "metadata": {
        "id": "isN2buVY6bn5"
      }
    },
    {
      "cell_type": "markdown",
      "source": [
        "El objetivo de este trabajo final para la materia Analisis Predictivo "
      ],
      "metadata": {
        "id": "d5C-ZGqVpj5u"
      }
    },
    {
      "cell_type": "markdown",
      "source": [
        "## Lectura Base de Datos"
      ],
      "metadata": {
        "id": "ViAuO-DpJs0W"
      }
    },
    {
      "cell_type": "code",
      "execution_count": 500,
      "metadata": {
        "id": "PDaACoG1HLbt"
      },
      "outputs": [],
      "source": [
        "import pandas as pd\n",
        "import numpy as np\n",
        "import matplotlib.pyplot as plt\n",
        "import seaborn as sb"
      ]
    },
    {
      "cell_type": "code",
      "source": [
        "import json\n",
        "from google.colab import drive\n",
        "\n",
        "!mkdir ~/.kaggle\n",
        "!touch ~/.kaggle/kaggle.json\n",
        "\n",
        "drive.mount('/content/drive' , force_remount = True)\n",
        "with open(\"/content/drive/My Drive/kaggle.json\" , 'r') as f:\n",
        "  api_token = json.load(f)\n",
        "\n",
        "  with open('/root/.kaggle/kaggle.json' , 'w') as file:\n",
        "    json.dump(api_token , file)\n",
        "\n",
        "!chmod 600 ~/.kaggle/kaggle.json\n",
        "\n",
        "!kaggle datasets download -d jessemostipak/hotel-booking-demand\n",
        "\n",
        "import zipfile\n",
        "import os\n",
        "\n",
        "os.listdir()\n",
        "\n",
        "for file in os.listdir():\n",
        "  if file.endswith('.zip'):\n",
        "    zip_ref = zipfile.ZipFile(file, 'r')\n",
        "    zip_ref.extractall()\n",
        "    zip_ref.close()\n"
      ],
      "metadata": {
        "colab": {
          "base_uri": "https://localhost:8080/"
        },
        "id": "rQDTGt2fJTBs",
        "outputId": "224a9718-27c1-47b1-9ca2-dfbcbdb08d4a"
      },
      "execution_count": 501,
      "outputs": [
        {
          "output_type": "stream",
          "name": "stdout",
          "text": [
            "mkdir: cannot create directory ‘/root/.kaggle’: File exists\n",
            "Mounted at /content/drive\n",
            "hotel-booking-demand.zip: Skipping, found more recently modified local copy (use --force to force download)\n"
          ]
        }
      ]
    },
    {
      "cell_type": "code",
      "source": [
        "base = pd.read_csv(\"hotel_bookings.csv\")"
      ],
      "metadata": {
        "id": "4G2OR-UnKdwz"
      },
      "execution_count": 502,
      "outputs": []
    },
    {
      "cell_type": "markdown",
      "source": [
        "## Análisis Exploratorio de Datos"
      ],
      "metadata": {
        "id": "E5CprXmVLTep"
      }
    },
    {
      "cell_type": "code",
      "source": [
        "base.head(10)"
      ],
      "metadata": {
        "colab": {
          "base_uri": "https://localhost:8080/",
          "height": 0
        },
        "id": "azfuaws3LWOo",
        "outputId": "bf463da3-ecf5-42cc-e1a9-7cdb1dbe9107"
      },
      "execution_count": 503,
      "outputs": [
        {
          "output_type": "execute_result",
          "data": {
            "text/plain": [
              "          hotel  is_canceled  lead_time  arrival_date_year arrival_date_month  \\\n",
              "0  Resort Hotel            0        342               2015               July   \n",
              "1  Resort Hotel            0        737               2015               July   \n",
              "2  Resort Hotel            0          7               2015               July   \n",
              "3  Resort Hotel            0         13               2015               July   \n",
              "4  Resort Hotel            0         14               2015               July   \n",
              "5  Resort Hotel            0         14               2015               July   \n",
              "6  Resort Hotel            0          0               2015               July   \n",
              "7  Resort Hotel            0          9               2015               July   \n",
              "8  Resort Hotel            1         85               2015               July   \n",
              "9  Resort Hotel            1         75               2015               July   \n",
              "\n",
              "   arrival_date_week_number  arrival_date_day_of_month  \\\n",
              "0                        27                          1   \n",
              "1                        27                          1   \n",
              "2                        27                          1   \n",
              "3                        27                          1   \n",
              "4                        27                          1   \n",
              "5                        27                          1   \n",
              "6                        27                          1   \n",
              "7                        27                          1   \n",
              "8                        27                          1   \n",
              "9                        27                          1   \n",
              "\n",
              "   stays_in_weekend_nights  stays_in_week_nights  adults  ...  deposit_type  \\\n",
              "0                        0                     0       2  ...    No Deposit   \n",
              "1                        0                     0       2  ...    No Deposit   \n",
              "2                        0                     1       1  ...    No Deposit   \n",
              "3                        0                     1       1  ...    No Deposit   \n",
              "4                        0                     2       2  ...    No Deposit   \n",
              "5                        0                     2       2  ...    No Deposit   \n",
              "6                        0                     2       2  ...    No Deposit   \n",
              "7                        0                     2       2  ...    No Deposit   \n",
              "8                        0                     3       2  ...    No Deposit   \n",
              "9                        0                     3       2  ...    No Deposit   \n",
              "\n",
              "   agent company days_in_waiting_list customer_type    adr  \\\n",
              "0    NaN     NaN                    0     Transient    0.0   \n",
              "1    NaN     NaN                    0     Transient    0.0   \n",
              "2    NaN     NaN                    0     Transient   75.0   \n",
              "3  304.0     NaN                    0     Transient   75.0   \n",
              "4  240.0     NaN                    0     Transient   98.0   \n",
              "5  240.0     NaN                    0     Transient   98.0   \n",
              "6    NaN     NaN                    0     Transient  107.0   \n",
              "7  303.0     NaN                    0     Transient  103.0   \n",
              "8  240.0     NaN                    0     Transient   82.0   \n",
              "9   15.0     NaN                    0     Transient  105.5   \n",
              "\n",
              "   required_car_parking_spaces  total_of_special_requests  reservation_status  \\\n",
              "0                            0                          0           Check-Out   \n",
              "1                            0                          0           Check-Out   \n",
              "2                            0                          0           Check-Out   \n",
              "3                            0                          0           Check-Out   \n",
              "4                            0                          1           Check-Out   \n",
              "5                            0                          1           Check-Out   \n",
              "6                            0                          0           Check-Out   \n",
              "7                            0                          1           Check-Out   \n",
              "8                            0                          1            Canceled   \n",
              "9                            0                          0            Canceled   \n",
              "\n",
              "  reservation_status_date  \n",
              "0              2015-07-01  \n",
              "1              2015-07-01  \n",
              "2              2015-07-02  \n",
              "3              2015-07-02  \n",
              "4              2015-07-03  \n",
              "5              2015-07-03  \n",
              "6              2015-07-03  \n",
              "7              2015-07-03  \n",
              "8              2015-05-06  \n",
              "9              2015-04-22  \n",
              "\n",
              "[10 rows x 32 columns]"
            ],
            "text/html": [
              "\n",
              "  <div id=\"df-e983a14a-ad09-4194-89ae-d7afc0329710\">\n",
              "    <div class=\"colab-df-container\">\n",
              "      <div>\n",
              "<style scoped>\n",
              "    .dataframe tbody tr th:only-of-type {\n",
              "        vertical-align: middle;\n",
              "    }\n",
              "\n",
              "    .dataframe tbody tr th {\n",
              "        vertical-align: top;\n",
              "    }\n",
              "\n",
              "    .dataframe thead th {\n",
              "        text-align: right;\n",
              "    }\n",
              "</style>\n",
              "<table border=\"1\" class=\"dataframe\">\n",
              "  <thead>\n",
              "    <tr style=\"text-align: right;\">\n",
              "      <th></th>\n",
              "      <th>hotel</th>\n",
              "      <th>is_canceled</th>\n",
              "      <th>lead_time</th>\n",
              "      <th>arrival_date_year</th>\n",
              "      <th>arrival_date_month</th>\n",
              "      <th>arrival_date_week_number</th>\n",
              "      <th>arrival_date_day_of_month</th>\n",
              "      <th>stays_in_weekend_nights</th>\n",
              "      <th>stays_in_week_nights</th>\n",
              "      <th>adults</th>\n",
              "      <th>...</th>\n",
              "      <th>deposit_type</th>\n",
              "      <th>agent</th>\n",
              "      <th>company</th>\n",
              "      <th>days_in_waiting_list</th>\n",
              "      <th>customer_type</th>\n",
              "      <th>adr</th>\n",
              "      <th>required_car_parking_spaces</th>\n",
              "      <th>total_of_special_requests</th>\n",
              "      <th>reservation_status</th>\n",
              "      <th>reservation_status_date</th>\n",
              "    </tr>\n",
              "  </thead>\n",
              "  <tbody>\n",
              "    <tr>\n",
              "      <th>0</th>\n",
              "      <td>Resort Hotel</td>\n",
              "      <td>0</td>\n",
              "      <td>342</td>\n",
              "      <td>2015</td>\n",
              "      <td>July</td>\n",
              "      <td>27</td>\n",
              "      <td>1</td>\n",
              "      <td>0</td>\n",
              "      <td>0</td>\n",
              "      <td>2</td>\n",
              "      <td>...</td>\n",
              "      <td>No Deposit</td>\n",
              "      <td>NaN</td>\n",
              "      <td>NaN</td>\n",
              "      <td>0</td>\n",
              "      <td>Transient</td>\n",
              "      <td>0.0</td>\n",
              "      <td>0</td>\n",
              "      <td>0</td>\n",
              "      <td>Check-Out</td>\n",
              "      <td>2015-07-01</td>\n",
              "    </tr>\n",
              "    <tr>\n",
              "      <th>1</th>\n",
              "      <td>Resort Hotel</td>\n",
              "      <td>0</td>\n",
              "      <td>737</td>\n",
              "      <td>2015</td>\n",
              "      <td>July</td>\n",
              "      <td>27</td>\n",
              "      <td>1</td>\n",
              "      <td>0</td>\n",
              "      <td>0</td>\n",
              "      <td>2</td>\n",
              "      <td>...</td>\n",
              "      <td>No Deposit</td>\n",
              "      <td>NaN</td>\n",
              "      <td>NaN</td>\n",
              "      <td>0</td>\n",
              "      <td>Transient</td>\n",
              "      <td>0.0</td>\n",
              "      <td>0</td>\n",
              "      <td>0</td>\n",
              "      <td>Check-Out</td>\n",
              "      <td>2015-07-01</td>\n",
              "    </tr>\n",
              "    <tr>\n",
              "      <th>2</th>\n",
              "      <td>Resort Hotel</td>\n",
              "      <td>0</td>\n",
              "      <td>7</td>\n",
              "      <td>2015</td>\n",
              "      <td>July</td>\n",
              "      <td>27</td>\n",
              "      <td>1</td>\n",
              "      <td>0</td>\n",
              "      <td>1</td>\n",
              "      <td>1</td>\n",
              "      <td>...</td>\n",
              "      <td>No Deposit</td>\n",
              "      <td>NaN</td>\n",
              "      <td>NaN</td>\n",
              "      <td>0</td>\n",
              "      <td>Transient</td>\n",
              "      <td>75.0</td>\n",
              "      <td>0</td>\n",
              "      <td>0</td>\n",
              "      <td>Check-Out</td>\n",
              "      <td>2015-07-02</td>\n",
              "    </tr>\n",
              "    <tr>\n",
              "      <th>3</th>\n",
              "      <td>Resort Hotel</td>\n",
              "      <td>0</td>\n",
              "      <td>13</td>\n",
              "      <td>2015</td>\n",
              "      <td>July</td>\n",
              "      <td>27</td>\n",
              "      <td>1</td>\n",
              "      <td>0</td>\n",
              "      <td>1</td>\n",
              "      <td>1</td>\n",
              "      <td>...</td>\n",
              "      <td>No Deposit</td>\n",
              "      <td>304.0</td>\n",
              "      <td>NaN</td>\n",
              "      <td>0</td>\n",
              "      <td>Transient</td>\n",
              "      <td>75.0</td>\n",
              "      <td>0</td>\n",
              "      <td>0</td>\n",
              "      <td>Check-Out</td>\n",
              "      <td>2015-07-02</td>\n",
              "    </tr>\n",
              "    <tr>\n",
              "      <th>4</th>\n",
              "      <td>Resort Hotel</td>\n",
              "      <td>0</td>\n",
              "      <td>14</td>\n",
              "      <td>2015</td>\n",
              "      <td>July</td>\n",
              "      <td>27</td>\n",
              "      <td>1</td>\n",
              "      <td>0</td>\n",
              "      <td>2</td>\n",
              "      <td>2</td>\n",
              "      <td>...</td>\n",
              "      <td>No Deposit</td>\n",
              "      <td>240.0</td>\n",
              "      <td>NaN</td>\n",
              "      <td>0</td>\n",
              "      <td>Transient</td>\n",
              "      <td>98.0</td>\n",
              "      <td>0</td>\n",
              "      <td>1</td>\n",
              "      <td>Check-Out</td>\n",
              "      <td>2015-07-03</td>\n",
              "    </tr>\n",
              "    <tr>\n",
              "      <th>5</th>\n",
              "      <td>Resort Hotel</td>\n",
              "      <td>0</td>\n",
              "      <td>14</td>\n",
              "      <td>2015</td>\n",
              "      <td>July</td>\n",
              "      <td>27</td>\n",
              "      <td>1</td>\n",
              "      <td>0</td>\n",
              "      <td>2</td>\n",
              "      <td>2</td>\n",
              "      <td>...</td>\n",
              "      <td>No Deposit</td>\n",
              "      <td>240.0</td>\n",
              "      <td>NaN</td>\n",
              "      <td>0</td>\n",
              "      <td>Transient</td>\n",
              "      <td>98.0</td>\n",
              "      <td>0</td>\n",
              "      <td>1</td>\n",
              "      <td>Check-Out</td>\n",
              "      <td>2015-07-03</td>\n",
              "    </tr>\n",
              "    <tr>\n",
              "      <th>6</th>\n",
              "      <td>Resort Hotel</td>\n",
              "      <td>0</td>\n",
              "      <td>0</td>\n",
              "      <td>2015</td>\n",
              "      <td>July</td>\n",
              "      <td>27</td>\n",
              "      <td>1</td>\n",
              "      <td>0</td>\n",
              "      <td>2</td>\n",
              "      <td>2</td>\n",
              "      <td>...</td>\n",
              "      <td>No Deposit</td>\n",
              "      <td>NaN</td>\n",
              "      <td>NaN</td>\n",
              "      <td>0</td>\n",
              "      <td>Transient</td>\n",
              "      <td>107.0</td>\n",
              "      <td>0</td>\n",
              "      <td>0</td>\n",
              "      <td>Check-Out</td>\n",
              "      <td>2015-07-03</td>\n",
              "    </tr>\n",
              "    <tr>\n",
              "      <th>7</th>\n",
              "      <td>Resort Hotel</td>\n",
              "      <td>0</td>\n",
              "      <td>9</td>\n",
              "      <td>2015</td>\n",
              "      <td>July</td>\n",
              "      <td>27</td>\n",
              "      <td>1</td>\n",
              "      <td>0</td>\n",
              "      <td>2</td>\n",
              "      <td>2</td>\n",
              "      <td>...</td>\n",
              "      <td>No Deposit</td>\n",
              "      <td>303.0</td>\n",
              "      <td>NaN</td>\n",
              "      <td>0</td>\n",
              "      <td>Transient</td>\n",
              "      <td>103.0</td>\n",
              "      <td>0</td>\n",
              "      <td>1</td>\n",
              "      <td>Check-Out</td>\n",
              "      <td>2015-07-03</td>\n",
              "    </tr>\n",
              "    <tr>\n",
              "      <th>8</th>\n",
              "      <td>Resort Hotel</td>\n",
              "      <td>1</td>\n",
              "      <td>85</td>\n",
              "      <td>2015</td>\n",
              "      <td>July</td>\n",
              "      <td>27</td>\n",
              "      <td>1</td>\n",
              "      <td>0</td>\n",
              "      <td>3</td>\n",
              "      <td>2</td>\n",
              "      <td>...</td>\n",
              "      <td>No Deposit</td>\n",
              "      <td>240.0</td>\n",
              "      <td>NaN</td>\n",
              "      <td>0</td>\n",
              "      <td>Transient</td>\n",
              "      <td>82.0</td>\n",
              "      <td>0</td>\n",
              "      <td>1</td>\n",
              "      <td>Canceled</td>\n",
              "      <td>2015-05-06</td>\n",
              "    </tr>\n",
              "    <tr>\n",
              "      <th>9</th>\n",
              "      <td>Resort Hotel</td>\n",
              "      <td>1</td>\n",
              "      <td>75</td>\n",
              "      <td>2015</td>\n",
              "      <td>July</td>\n",
              "      <td>27</td>\n",
              "      <td>1</td>\n",
              "      <td>0</td>\n",
              "      <td>3</td>\n",
              "      <td>2</td>\n",
              "      <td>...</td>\n",
              "      <td>No Deposit</td>\n",
              "      <td>15.0</td>\n",
              "      <td>NaN</td>\n",
              "      <td>0</td>\n",
              "      <td>Transient</td>\n",
              "      <td>105.5</td>\n",
              "      <td>0</td>\n",
              "      <td>0</td>\n",
              "      <td>Canceled</td>\n",
              "      <td>2015-04-22</td>\n",
              "    </tr>\n",
              "  </tbody>\n",
              "</table>\n",
              "<p>10 rows × 32 columns</p>\n",
              "</div>\n",
              "      <button class=\"colab-df-convert\" onclick=\"convertToInteractive('df-e983a14a-ad09-4194-89ae-d7afc0329710')\"\n",
              "              title=\"Convert this dataframe to an interactive table.\"\n",
              "              style=\"display:none;\">\n",
              "        \n",
              "  <svg xmlns=\"http://www.w3.org/2000/svg\" height=\"24px\"viewBox=\"0 0 24 24\"\n",
              "       width=\"24px\">\n",
              "    <path d=\"M0 0h24v24H0V0z\" fill=\"none\"/>\n",
              "    <path d=\"M18.56 5.44l.94 2.06.94-2.06 2.06-.94-2.06-.94-.94-2.06-.94 2.06-2.06.94zm-11 1L8.5 8.5l.94-2.06 2.06-.94-2.06-.94L8.5 2.5l-.94 2.06-2.06.94zm10 10l.94 2.06.94-2.06 2.06-.94-2.06-.94-.94-2.06-.94 2.06-2.06.94z\"/><path d=\"M17.41 7.96l-1.37-1.37c-.4-.4-.92-.59-1.43-.59-.52 0-1.04.2-1.43.59L10.3 9.45l-7.72 7.72c-.78.78-.78 2.05 0 2.83L4 21.41c.39.39.9.59 1.41.59.51 0 1.02-.2 1.41-.59l7.78-7.78 2.81-2.81c.8-.78.8-2.07 0-2.86zM5.41 20L4 18.59l7.72-7.72 1.47 1.35L5.41 20z\"/>\n",
              "  </svg>\n",
              "      </button>\n",
              "      \n",
              "  <style>\n",
              "    .colab-df-container {\n",
              "      display:flex;\n",
              "      flex-wrap:wrap;\n",
              "      gap: 12px;\n",
              "    }\n",
              "\n",
              "    .colab-df-convert {\n",
              "      background-color: #E8F0FE;\n",
              "      border: none;\n",
              "      border-radius: 50%;\n",
              "      cursor: pointer;\n",
              "      display: none;\n",
              "      fill: #1967D2;\n",
              "      height: 32px;\n",
              "      padding: 0 0 0 0;\n",
              "      width: 32px;\n",
              "    }\n",
              "\n",
              "    .colab-df-convert:hover {\n",
              "      background-color: #E2EBFA;\n",
              "      box-shadow: 0px 1px 2px rgba(60, 64, 67, 0.3), 0px 1px 3px 1px rgba(60, 64, 67, 0.15);\n",
              "      fill: #174EA6;\n",
              "    }\n",
              "\n",
              "    [theme=dark] .colab-df-convert {\n",
              "      background-color: #3B4455;\n",
              "      fill: #D2E3FC;\n",
              "    }\n",
              "\n",
              "    [theme=dark] .colab-df-convert:hover {\n",
              "      background-color: #434B5C;\n",
              "      box-shadow: 0px 1px 3px 1px rgba(0, 0, 0, 0.15);\n",
              "      filter: drop-shadow(0px 1px 2px rgba(0, 0, 0, 0.3));\n",
              "      fill: #FFFFFF;\n",
              "    }\n",
              "  </style>\n",
              "\n",
              "      <script>\n",
              "        const buttonEl =\n",
              "          document.querySelector('#df-e983a14a-ad09-4194-89ae-d7afc0329710 button.colab-df-convert');\n",
              "        buttonEl.style.display =\n",
              "          google.colab.kernel.accessAllowed ? 'block' : 'none';\n",
              "\n",
              "        async function convertToInteractive(key) {\n",
              "          const element = document.querySelector('#df-e983a14a-ad09-4194-89ae-d7afc0329710');\n",
              "          const dataTable =\n",
              "            await google.colab.kernel.invokeFunction('convertToInteractive',\n",
              "                                                     [key], {});\n",
              "          if (!dataTable) return;\n",
              "\n",
              "          const docLinkHtml = 'Like what you see? Visit the ' +\n",
              "            '<a target=\"_blank\" href=https://colab.research.google.com/notebooks/data_table.ipynb>data table notebook</a>'\n",
              "            + ' to learn more about interactive tables.';\n",
              "          element.innerHTML = '';\n",
              "          dataTable['output_type'] = 'display_data';\n",
              "          await google.colab.output.renderOutput(dataTable, element);\n",
              "          const docLink = document.createElement('div');\n",
              "          docLink.innerHTML = docLinkHtml;\n",
              "          element.appendChild(docLink);\n",
              "        }\n",
              "      </script>\n",
              "    </div>\n",
              "  </div>\n",
              "  "
            ]
          },
          "metadata": {},
          "execution_count": 503
        }
      ]
    },
    {
      "cell_type": "code",
      "source": [
        "base.info()"
      ],
      "metadata": {
        "id": "AptV9S01LeGQ",
        "colab": {
          "base_uri": "https://localhost:8080/"
        },
        "outputId": "3299945c-8352-4e62-9f96-0504c1954ae1"
      },
      "execution_count": 504,
      "outputs": [
        {
          "output_type": "stream",
          "name": "stdout",
          "text": [
            "<class 'pandas.core.frame.DataFrame'>\n",
            "RangeIndex: 119390 entries, 0 to 119389\n",
            "Data columns (total 32 columns):\n",
            " #   Column                          Non-Null Count   Dtype  \n",
            "---  ------                          --------------   -----  \n",
            " 0   hotel                           119390 non-null  object \n",
            " 1   is_canceled                     119390 non-null  int64  \n",
            " 2   lead_time                       119390 non-null  int64  \n",
            " 3   arrival_date_year               119390 non-null  int64  \n",
            " 4   arrival_date_month              119390 non-null  object \n",
            " 5   arrival_date_week_number        119390 non-null  int64  \n",
            " 6   arrival_date_day_of_month       119390 non-null  int64  \n",
            " 7   stays_in_weekend_nights         119390 non-null  int64  \n",
            " 8   stays_in_week_nights            119390 non-null  int64  \n",
            " 9   adults                          119390 non-null  int64  \n",
            " 10  children                        119386 non-null  float64\n",
            " 11  babies                          119390 non-null  int64  \n",
            " 12  meal                            119390 non-null  object \n",
            " 13  country                         118902 non-null  object \n",
            " 14  market_segment                  119390 non-null  object \n",
            " 15  distribution_channel            119390 non-null  object \n",
            " 16  is_repeated_guest               119390 non-null  int64  \n",
            " 17  previous_cancellations          119390 non-null  int64  \n",
            " 18  previous_bookings_not_canceled  119390 non-null  int64  \n",
            " 19  reserved_room_type              119390 non-null  object \n",
            " 20  assigned_room_type              119390 non-null  object \n",
            " 21  booking_changes                 119390 non-null  int64  \n",
            " 22  deposit_type                    119390 non-null  object \n",
            " 23  agent                           103050 non-null  float64\n",
            " 24  company                         6797 non-null    float64\n",
            " 25  days_in_waiting_list            119390 non-null  int64  \n",
            " 26  customer_type                   119390 non-null  object \n",
            " 27  adr                             119390 non-null  float64\n",
            " 28  required_car_parking_spaces     119390 non-null  int64  \n",
            " 29  total_of_special_requests       119390 non-null  int64  \n",
            " 30  reservation_status              119390 non-null  object \n",
            " 31  reservation_status_date         119390 non-null  object \n",
            "dtypes: float64(4), int64(16), object(12)\n",
            "memory usage: 29.1+ MB\n"
          ]
        }
      ]
    },
    {
      "cell_type": "code",
      "source": [
        "#Tamaño\n",
        "print('Cantidad de Filas y Columnas:',base.shape)\n",
        "\n",
        "#Columnas\n",
        "print('Nombre columnas:',base.columns)"
      ],
      "metadata": {
        "colab": {
          "base_uri": "https://localhost:8080/"
        },
        "id": "YaWUXQk9LgRm",
        "outputId": "9785e06d-789e-4003-bdbe-26baa31d3ec2"
      },
      "execution_count": 505,
      "outputs": [
        {
          "output_type": "stream",
          "name": "stdout",
          "text": [
            "Cantidad de Filas y Columnas: (119390, 32)\n",
            "Nombre columnas: Index(['hotel', 'is_canceled', 'lead_time', 'arrival_date_year',\n",
            "       'arrival_date_month', 'arrival_date_week_number',\n",
            "       'arrival_date_day_of_month', 'stays_in_weekend_nights',\n",
            "       'stays_in_week_nights', 'adults', 'children', 'babies', 'meal',\n",
            "       'country', 'market_segment', 'distribution_channel',\n",
            "       'is_repeated_guest', 'previous_cancellations',\n",
            "       'previous_bookings_not_canceled', 'reserved_room_type',\n",
            "       'assigned_room_type', 'booking_changes', 'deposit_type', 'agent',\n",
            "       'company', 'days_in_waiting_list', 'customer_type', 'adr',\n",
            "       'required_car_parking_spaces', 'total_of_special_requests',\n",
            "       'reservation_status', 'reservation_status_date'],\n",
            "      dtype='object')\n"
          ]
        }
      ]
    },
    {
      "cell_type": "code",
      "source": [
        "base.duplicated().sum()"
      ],
      "metadata": {
        "colab": {
          "base_uri": "https://localhost:8080/"
        },
        "id": "Yd6sTzwRLlYr",
        "outputId": "8eded4bc-3c85-4879-c66e-ce1217c6f63d"
      },
      "execution_count": 506,
      "outputs": [
        {
          "output_type": "execute_result",
          "data": {
            "text/plain": [
              "31994"
            ]
          },
          "metadata": {},
          "execution_count": 506
        }
      ]
    },
    {
      "cell_type": "code",
      "source": [
        "#Elimino los registros duplicados\n",
        "base.drop_duplicates(inplace = True)"
      ],
      "metadata": {
        "id": "T5WyDOqE32wn"
      },
      "execution_count": 507,
      "outputs": []
    },
    {
      "cell_type": "code",
      "source": [
        "#Chequeo\n",
        "base.duplicated().sum()"
      ],
      "metadata": {
        "colab": {
          "base_uri": "https://localhost:8080/"
        },
        "id": "799V8dLW4YA0",
        "outputId": "3a15d727-d237-4204-bfd7-a5aeb57c3cf6"
      },
      "execution_count": 508,
      "outputs": [
        {
          "output_type": "execute_result",
          "data": {
            "text/plain": [
              "0"
            ]
          },
          "metadata": {},
          "execution_count": 508
        }
      ]
    },
    {
      "cell_type": "code",
      "source": [
        "base.describe()"
      ],
      "metadata": {
        "colab": {
          "base_uri": "https://localhost:8080/",
          "height": 0
        },
        "id": "0vBWEDSZLpPF",
        "outputId": "460693e8-7573-41e3-f4a2-87969cefb44c"
      },
      "execution_count": 509,
      "outputs": [
        {
          "output_type": "execute_result",
          "data": {
            "text/plain": [
              "        is_canceled     lead_time  arrival_date_year  \\\n",
              "count  87396.000000  87396.000000       87396.000000   \n",
              "mean       0.274898     79.891368        2016.210296   \n",
              "std        0.446466     86.052325           0.686102   \n",
              "min        0.000000      0.000000        2015.000000   \n",
              "25%        0.000000     11.000000        2016.000000   \n",
              "50%        0.000000     49.000000        2016.000000   \n",
              "75%        1.000000    125.000000        2017.000000   \n",
              "max        1.000000    737.000000        2017.000000   \n",
              "\n",
              "       arrival_date_week_number  arrival_date_day_of_month  \\\n",
              "count              87396.000000               87396.000000   \n",
              "mean                  26.838334                  15.815541   \n",
              "std                   13.674572                   8.835146   \n",
              "min                    1.000000                   1.000000   \n",
              "25%                   16.000000                   8.000000   \n",
              "50%                   27.000000                  16.000000   \n",
              "75%                   37.000000                  23.000000   \n",
              "max                   53.000000                  31.000000   \n",
              "\n",
              "       stays_in_weekend_nights  stays_in_week_nights        adults  \\\n",
              "count             87396.000000          87396.000000  87396.000000   \n",
              "mean                  1.005263              2.625395      1.875795   \n",
              "std                   1.031921              2.053584      0.626500   \n",
              "min                   0.000000              0.000000      0.000000   \n",
              "25%                   0.000000              1.000000      2.000000   \n",
              "50%                   1.000000              2.000000      2.000000   \n",
              "75%                   2.000000              4.000000      2.000000   \n",
              "max                  19.000000             50.000000     55.000000   \n",
              "\n",
              "           children        babies  is_repeated_guest  previous_cancellations  \\\n",
              "count  87392.000000  87396.000000       87396.000000            87396.000000   \n",
              "mean       0.138640      0.010824           0.039075                0.030413   \n",
              "std        0.455881      0.113597           0.193775                0.369145   \n",
              "min        0.000000      0.000000           0.000000                0.000000   \n",
              "25%        0.000000      0.000000           0.000000                0.000000   \n",
              "50%        0.000000      0.000000           0.000000                0.000000   \n",
              "75%        0.000000      0.000000           0.000000                0.000000   \n",
              "max       10.000000     10.000000           1.000000               26.000000   \n",
              "\n",
              "       previous_bookings_not_canceled  booking_changes         agent  \\\n",
              "count                    87396.000000     87396.000000  75203.000000   \n",
              "mean                         0.183990         0.271603     94.138306   \n",
              "std                          1.731894         0.727245    113.188172   \n",
              "min                          0.000000         0.000000      1.000000   \n",
              "25%                          0.000000         0.000000      9.000000   \n",
              "50%                          0.000000         0.000000     14.000000   \n",
              "75%                          0.000000         0.000000    240.000000   \n",
              "max                         72.000000        21.000000    535.000000   \n",
              "\n",
              "           company  days_in_waiting_list           adr  \\\n",
              "count  5259.000000          87396.000000  87396.000000   \n",
              "mean    183.081384              0.749565    106.337246   \n",
              "std     130.557608             10.015731     55.013953   \n",
              "min       6.000000              0.000000     -6.380000   \n",
              "25%      47.000000              0.000000     72.000000   \n",
              "50%     169.000000              0.000000     98.100000   \n",
              "75%     263.000000              0.000000    134.000000   \n",
              "max     543.000000            391.000000   5400.000000   \n",
              "\n",
              "       required_car_parking_spaces  total_of_special_requests  \n",
              "count                 87396.000000               87396.000000  \n",
              "mean                      0.084226                   0.698567  \n",
              "std                       0.281533                   0.831946  \n",
              "min                       0.000000                   0.000000  \n",
              "25%                       0.000000                   0.000000  \n",
              "50%                       0.000000                   0.000000  \n",
              "75%                       0.000000                   1.000000  \n",
              "max                       8.000000                   5.000000  "
            ],
            "text/html": [
              "\n",
              "  <div id=\"df-397c5fe2-2b29-44b3-b29b-8188665f60be\">\n",
              "    <div class=\"colab-df-container\">\n",
              "      <div>\n",
              "<style scoped>\n",
              "    .dataframe tbody tr th:only-of-type {\n",
              "        vertical-align: middle;\n",
              "    }\n",
              "\n",
              "    .dataframe tbody tr th {\n",
              "        vertical-align: top;\n",
              "    }\n",
              "\n",
              "    .dataframe thead th {\n",
              "        text-align: right;\n",
              "    }\n",
              "</style>\n",
              "<table border=\"1\" class=\"dataframe\">\n",
              "  <thead>\n",
              "    <tr style=\"text-align: right;\">\n",
              "      <th></th>\n",
              "      <th>is_canceled</th>\n",
              "      <th>lead_time</th>\n",
              "      <th>arrival_date_year</th>\n",
              "      <th>arrival_date_week_number</th>\n",
              "      <th>arrival_date_day_of_month</th>\n",
              "      <th>stays_in_weekend_nights</th>\n",
              "      <th>stays_in_week_nights</th>\n",
              "      <th>adults</th>\n",
              "      <th>children</th>\n",
              "      <th>babies</th>\n",
              "      <th>is_repeated_guest</th>\n",
              "      <th>previous_cancellations</th>\n",
              "      <th>previous_bookings_not_canceled</th>\n",
              "      <th>booking_changes</th>\n",
              "      <th>agent</th>\n",
              "      <th>company</th>\n",
              "      <th>days_in_waiting_list</th>\n",
              "      <th>adr</th>\n",
              "      <th>required_car_parking_spaces</th>\n",
              "      <th>total_of_special_requests</th>\n",
              "    </tr>\n",
              "  </thead>\n",
              "  <tbody>\n",
              "    <tr>\n",
              "      <th>count</th>\n",
              "      <td>87396.000000</td>\n",
              "      <td>87396.000000</td>\n",
              "      <td>87396.000000</td>\n",
              "      <td>87396.000000</td>\n",
              "      <td>87396.000000</td>\n",
              "      <td>87396.000000</td>\n",
              "      <td>87396.000000</td>\n",
              "      <td>87396.000000</td>\n",
              "      <td>87392.000000</td>\n",
              "      <td>87396.000000</td>\n",
              "      <td>87396.000000</td>\n",
              "      <td>87396.000000</td>\n",
              "      <td>87396.000000</td>\n",
              "      <td>87396.000000</td>\n",
              "      <td>75203.000000</td>\n",
              "      <td>5259.000000</td>\n",
              "      <td>87396.000000</td>\n",
              "      <td>87396.000000</td>\n",
              "      <td>87396.000000</td>\n",
              "      <td>87396.000000</td>\n",
              "    </tr>\n",
              "    <tr>\n",
              "      <th>mean</th>\n",
              "      <td>0.274898</td>\n",
              "      <td>79.891368</td>\n",
              "      <td>2016.210296</td>\n",
              "      <td>26.838334</td>\n",
              "      <td>15.815541</td>\n",
              "      <td>1.005263</td>\n",
              "      <td>2.625395</td>\n",
              "      <td>1.875795</td>\n",
              "      <td>0.138640</td>\n",
              "      <td>0.010824</td>\n",
              "      <td>0.039075</td>\n",
              "      <td>0.030413</td>\n",
              "      <td>0.183990</td>\n",
              "      <td>0.271603</td>\n",
              "      <td>94.138306</td>\n",
              "      <td>183.081384</td>\n",
              "      <td>0.749565</td>\n",
              "      <td>106.337246</td>\n",
              "      <td>0.084226</td>\n",
              "      <td>0.698567</td>\n",
              "    </tr>\n",
              "    <tr>\n",
              "      <th>std</th>\n",
              "      <td>0.446466</td>\n",
              "      <td>86.052325</td>\n",
              "      <td>0.686102</td>\n",
              "      <td>13.674572</td>\n",
              "      <td>8.835146</td>\n",
              "      <td>1.031921</td>\n",
              "      <td>2.053584</td>\n",
              "      <td>0.626500</td>\n",
              "      <td>0.455881</td>\n",
              "      <td>0.113597</td>\n",
              "      <td>0.193775</td>\n",
              "      <td>0.369145</td>\n",
              "      <td>1.731894</td>\n",
              "      <td>0.727245</td>\n",
              "      <td>113.188172</td>\n",
              "      <td>130.557608</td>\n",
              "      <td>10.015731</td>\n",
              "      <td>55.013953</td>\n",
              "      <td>0.281533</td>\n",
              "      <td>0.831946</td>\n",
              "    </tr>\n",
              "    <tr>\n",
              "      <th>min</th>\n",
              "      <td>0.000000</td>\n",
              "      <td>0.000000</td>\n",
              "      <td>2015.000000</td>\n",
              "      <td>1.000000</td>\n",
              "      <td>1.000000</td>\n",
              "      <td>0.000000</td>\n",
              "      <td>0.000000</td>\n",
              "      <td>0.000000</td>\n",
              "      <td>0.000000</td>\n",
              "      <td>0.000000</td>\n",
              "      <td>0.000000</td>\n",
              "      <td>0.000000</td>\n",
              "      <td>0.000000</td>\n",
              "      <td>0.000000</td>\n",
              "      <td>1.000000</td>\n",
              "      <td>6.000000</td>\n",
              "      <td>0.000000</td>\n",
              "      <td>-6.380000</td>\n",
              "      <td>0.000000</td>\n",
              "      <td>0.000000</td>\n",
              "    </tr>\n",
              "    <tr>\n",
              "      <th>25%</th>\n",
              "      <td>0.000000</td>\n",
              "      <td>11.000000</td>\n",
              "      <td>2016.000000</td>\n",
              "      <td>16.000000</td>\n",
              "      <td>8.000000</td>\n",
              "      <td>0.000000</td>\n",
              "      <td>1.000000</td>\n",
              "      <td>2.000000</td>\n",
              "      <td>0.000000</td>\n",
              "      <td>0.000000</td>\n",
              "      <td>0.000000</td>\n",
              "      <td>0.000000</td>\n",
              "      <td>0.000000</td>\n",
              "      <td>0.000000</td>\n",
              "      <td>9.000000</td>\n",
              "      <td>47.000000</td>\n",
              "      <td>0.000000</td>\n",
              "      <td>72.000000</td>\n",
              "      <td>0.000000</td>\n",
              "      <td>0.000000</td>\n",
              "    </tr>\n",
              "    <tr>\n",
              "      <th>50%</th>\n",
              "      <td>0.000000</td>\n",
              "      <td>49.000000</td>\n",
              "      <td>2016.000000</td>\n",
              "      <td>27.000000</td>\n",
              "      <td>16.000000</td>\n",
              "      <td>1.000000</td>\n",
              "      <td>2.000000</td>\n",
              "      <td>2.000000</td>\n",
              "      <td>0.000000</td>\n",
              "      <td>0.000000</td>\n",
              "      <td>0.000000</td>\n",
              "      <td>0.000000</td>\n",
              "      <td>0.000000</td>\n",
              "      <td>0.000000</td>\n",
              "      <td>14.000000</td>\n",
              "      <td>169.000000</td>\n",
              "      <td>0.000000</td>\n",
              "      <td>98.100000</td>\n",
              "      <td>0.000000</td>\n",
              "      <td>0.000000</td>\n",
              "    </tr>\n",
              "    <tr>\n",
              "      <th>75%</th>\n",
              "      <td>1.000000</td>\n",
              "      <td>125.000000</td>\n",
              "      <td>2017.000000</td>\n",
              "      <td>37.000000</td>\n",
              "      <td>23.000000</td>\n",
              "      <td>2.000000</td>\n",
              "      <td>4.000000</td>\n",
              "      <td>2.000000</td>\n",
              "      <td>0.000000</td>\n",
              "      <td>0.000000</td>\n",
              "      <td>0.000000</td>\n",
              "      <td>0.000000</td>\n",
              "      <td>0.000000</td>\n",
              "      <td>0.000000</td>\n",
              "      <td>240.000000</td>\n",
              "      <td>263.000000</td>\n",
              "      <td>0.000000</td>\n",
              "      <td>134.000000</td>\n",
              "      <td>0.000000</td>\n",
              "      <td>1.000000</td>\n",
              "    </tr>\n",
              "    <tr>\n",
              "      <th>max</th>\n",
              "      <td>1.000000</td>\n",
              "      <td>737.000000</td>\n",
              "      <td>2017.000000</td>\n",
              "      <td>53.000000</td>\n",
              "      <td>31.000000</td>\n",
              "      <td>19.000000</td>\n",
              "      <td>50.000000</td>\n",
              "      <td>55.000000</td>\n",
              "      <td>10.000000</td>\n",
              "      <td>10.000000</td>\n",
              "      <td>1.000000</td>\n",
              "      <td>26.000000</td>\n",
              "      <td>72.000000</td>\n",
              "      <td>21.000000</td>\n",
              "      <td>535.000000</td>\n",
              "      <td>543.000000</td>\n",
              "      <td>391.000000</td>\n",
              "      <td>5400.000000</td>\n",
              "      <td>8.000000</td>\n",
              "      <td>5.000000</td>\n",
              "    </tr>\n",
              "  </tbody>\n",
              "</table>\n",
              "</div>\n",
              "      <button class=\"colab-df-convert\" onclick=\"convertToInteractive('df-397c5fe2-2b29-44b3-b29b-8188665f60be')\"\n",
              "              title=\"Convert this dataframe to an interactive table.\"\n",
              "              style=\"display:none;\">\n",
              "        \n",
              "  <svg xmlns=\"http://www.w3.org/2000/svg\" height=\"24px\"viewBox=\"0 0 24 24\"\n",
              "       width=\"24px\">\n",
              "    <path d=\"M0 0h24v24H0V0z\" fill=\"none\"/>\n",
              "    <path d=\"M18.56 5.44l.94 2.06.94-2.06 2.06-.94-2.06-.94-.94-2.06-.94 2.06-2.06.94zm-11 1L8.5 8.5l.94-2.06 2.06-.94-2.06-.94L8.5 2.5l-.94 2.06-2.06.94zm10 10l.94 2.06.94-2.06 2.06-.94-2.06-.94-.94-2.06-.94 2.06-2.06.94z\"/><path d=\"M17.41 7.96l-1.37-1.37c-.4-.4-.92-.59-1.43-.59-.52 0-1.04.2-1.43.59L10.3 9.45l-7.72 7.72c-.78.78-.78 2.05 0 2.83L4 21.41c.39.39.9.59 1.41.59.51 0 1.02-.2 1.41-.59l7.78-7.78 2.81-2.81c.8-.78.8-2.07 0-2.86zM5.41 20L4 18.59l7.72-7.72 1.47 1.35L5.41 20z\"/>\n",
              "  </svg>\n",
              "      </button>\n",
              "      \n",
              "  <style>\n",
              "    .colab-df-container {\n",
              "      display:flex;\n",
              "      flex-wrap:wrap;\n",
              "      gap: 12px;\n",
              "    }\n",
              "\n",
              "    .colab-df-convert {\n",
              "      background-color: #E8F0FE;\n",
              "      border: none;\n",
              "      border-radius: 50%;\n",
              "      cursor: pointer;\n",
              "      display: none;\n",
              "      fill: #1967D2;\n",
              "      height: 32px;\n",
              "      padding: 0 0 0 0;\n",
              "      width: 32px;\n",
              "    }\n",
              "\n",
              "    .colab-df-convert:hover {\n",
              "      background-color: #E2EBFA;\n",
              "      box-shadow: 0px 1px 2px rgba(60, 64, 67, 0.3), 0px 1px 3px 1px rgba(60, 64, 67, 0.15);\n",
              "      fill: #174EA6;\n",
              "    }\n",
              "\n",
              "    [theme=dark] .colab-df-convert {\n",
              "      background-color: #3B4455;\n",
              "      fill: #D2E3FC;\n",
              "    }\n",
              "\n",
              "    [theme=dark] .colab-df-convert:hover {\n",
              "      background-color: #434B5C;\n",
              "      box-shadow: 0px 1px 3px 1px rgba(0, 0, 0, 0.15);\n",
              "      filter: drop-shadow(0px 1px 2px rgba(0, 0, 0, 0.3));\n",
              "      fill: #FFFFFF;\n",
              "    }\n",
              "  </style>\n",
              "\n",
              "      <script>\n",
              "        const buttonEl =\n",
              "          document.querySelector('#df-397c5fe2-2b29-44b3-b29b-8188665f60be button.colab-df-convert');\n",
              "        buttonEl.style.display =\n",
              "          google.colab.kernel.accessAllowed ? 'block' : 'none';\n",
              "\n",
              "        async function convertToInteractive(key) {\n",
              "          const element = document.querySelector('#df-397c5fe2-2b29-44b3-b29b-8188665f60be');\n",
              "          const dataTable =\n",
              "            await google.colab.kernel.invokeFunction('convertToInteractive',\n",
              "                                                     [key], {});\n",
              "          if (!dataTable) return;\n",
              "\n",
              "          const docLinkHtml = 'Like what you see? Visit the ' +\n",
              "            '<a target=\"_blank\" href=https://colab.research.google.com/notebooks/data_table.ipynb>data table notebook</a>'\n",
              "            + ' to learn more about interactive tables.';\n",
              "          element.innerHTML = '';\n",
              "          dataTable['output_type'] = 'display_data';\n",
              "          await google.colab.output.renderOutput(dataTable, element);\n",
              "          const docLink = document.createElement('div');\n",
              "          docLink.innerHTML = docLinkHtml;\n",
              "          element.appendChild(docLink);\n",
              "        }\n",
              "      </script>\n",
              "    </div>\n",
              "  </div>\n",
              "  "
            ]
          },
          "metadata": {},
          "execution_count": 509
        }
      ]
    },
    {
      "cell_type": "markdown",
      "source": [
        "## Missings"
      ],
      "metadata": {
        "id": "cRLrCd_fLwqk"
      }
    },
    {
      "cell_type": "markdown",
      "source": [
        "Es importante determinar la prevalencia de los datos faltantes y su aleatoriedad, ya que pueden implicar una reducción del tamaño de la muestra"
      ],
      "metadata": {
        "id": "lkKC5gypL0nI"
      }
    },
    {
      "cell_type": "code",
      "source": [
        "total = base.isnull().sum()\n",
        "total1 = base.isnull().sum().sort_values(ascending = False)\n",
        "percent = (base.isnull().sum() / base.isnull().count()).sort_values(ascending = False)\n",
        "missing_data = pd.concat([total1, percent], axis = 1, keys = ['Total', 'Percent'])\n",
        "missing_data"
      ],
      "metadata": {
        "colab": {
          "base_uri": "https://localhost:8080/",
          "height": 0
        },
        "id": "UGb6BdeRLyHl",
        "outputId": "db71442f-a92c-4116-c09e-daf994a073bc"
      },
      "execution_count": 510,
      "outputs": [
        {
          "output_type": "execute_result",
          "data": {
            "text/plain": [
              "                                Total   Percent\n",
              "company                         82137  0.939826\n",
              "agent                           12193  0.139514\n",
              "country                           452  0.005172\n",
              "children                            4  0.000046\n",
              "reserved_room_type                  0  0.000000\n",
              "assigned_room_type                  0  0.000000\n",
              "booking_changes                     0  0.000000\n",
              "deposit_type                        0  0.000000\n",
              "hotel                               0  0.000000\n",
              "previous_cancellations              0  0.000000\n",
              "days_in_waiting_list                0  0.000000\n",
              "customer_type                       0  0.000000\n",
              "adr                                 0  0.000000\n",
              "required_car_parking_spaces         0  0.000000\n",
              "total_of_special_requests           0  0.000000\n",
              "reservation_status                  0  0.000000\n",
              "previous_bookings_not_canceled      0  0.000000\n",
              "is_repeated_guest                   0  0.000000\n",
              "is_canceled                         0  0.000000\n",
              "distribution_channel                0  0.000000\n",
              "market_segment                      0  0.000000\n",
              "meal                                0  0.000000\n",
              "babies                              0  0.000000\n",
              "adults                              0  0.000000\n",
              "stays_in_week_nights                0  0.000000\n",
              "stays_in_weekend_nights             0  0.000000\n",
              "arrival_date_day_of_month           0  0.000000\n",
              "arrival_date_week_number            0  0.000000\n",
              "arrival_date_month                  0  0.000000\n",
              "arrival_date_year                   0  0.000000\n",
              "lead_time                           0  0.000000\n",
              "reservation_status_date             0  0.000000"
            ],
            "text/html": [
              "\n",
              "  <div id=\"df-f7cc1bac-aa55-4dbd-a312-19b4807eb357\">\n",
              "    <div class=\"colab-df-container\">\n",
              "      <div>\n",
              "<style scoped>\n",
              "    .dataframe tbody tr th:only-of-type {\n",
              "        vertical-align: middle;\n",
              "    }\n",
              "\n",
              "    .dataframe tbody tr th {\n",
              "        vertical-align: top;\n",
              "    }\n",
              "\n",
              "    .dataframe thead th {\n",
              "        text-align: right;\n",
              "    }\n",
              "</style>\n",
              "<table border=\"1\" class=\"dataframe\">\n",
              "  <thead>\n",
              "    <tr style=\"text-align: right;\">\n",
              "      <th></th>\n",
              "      <th>Total</th>\n",
              "      <th>Percent</th>\n",
              "    </tr>\n",
              "  </thead>\n",
              "  <tbody>\n",
              "    <tr>\n",
              "      <th>company</th>\n",
              "      <td>82137</td>\n",
              "      <td>0.939826</td>\n",
              "    </tr>\n",
              "    <tr>\n",
              "      <th>agent</th>\n",
              "      <td>12193</td>\n",
              "      <td>0.139514</td>\n",
              "    </tr>\n",
              "    <tr>\n",
              "      <th>country</th>\n",
              "      <td>452</td>\n",
              "      <td>0.005172</td>\n",
              "    </tr>\n",
              "    <tr>\n",
              "      <th>children</th>\n",
              "      <td>4</td>\n",
              "      <td>0.000046</td>\n",
              "    </tr>\n",
              "    <tr>\n",
              "      <th>reserved_room_type</th>\n",
              "      <td>0</td>\n",
              "      <td>0.000000</td>\n",
              "    </tr>\n",
              "    <tr>\n",
              "      <th>assigned_room_type</th>\n",
              "      <td>0</td>\n",
              "      <td>0.000000</td>\n",
              "    </tr>\n",
              "    <tr>\n",
              "      <th>booking_changes</th>\n",
              "      <td>0</td>\n",
              "      <td>0.000000</td>\n",
              "    </tr>\n",
              "    <tr>\n",
              "      <th>deposit_type</th>\n",
              "      <td>0</td>\n",
              "      <td>0.000000</td>\n",
              "    </tr>\n",
              "    <tr>\n",
              "      <th>hotel</th>\n",
              "      <td>0</td>\n",
              "      <td>0.000000</td>\n",
              "    </tr>\n",
              "    <tr>\n",
              "      <th>previous_cancellations</th>\n",
              "      <td>0</td>\n",
              "      <td>0.000000</td>\n",
              "    </tr>\n",
              "    <tr>\n",
              "      <th>days_in_waiting_list</th>\n",
              "      <td>0</td>\n",
              "      <td>0.000000</td>\n",
              "    </tr>\n",
              "    <tr>\n",
              "      <th>customer_type</th>\n",
              "      <td>0</td>\n",
              "      <td>0.000000</td>\n",
              "    </tr>\n",
              "    <tr>\n",
              "      <th>adr</th>\n",
              "      <td>0</td>\n",
              "      <td>0.000000</td>\n",
              "    </tr>\n",
              "    <tr>\n",
              "      <th>required_car_parking_spaces</th>\n",
              "      <td>0</td>\n",
              "      <td>0.000000</td>\n",
              "    </tr>\n",
              "    <tr>\n",
              "      <th>total_of_special_requests</th>\n",
              "      <td>0</td>\n",
              "      <td>0.000000</td>\n",
              "    </tr>\n",
              "    <tr>\n",
              "      <th>reservation_status</th>\n",
              "      <td>0</td>\n",
              "      <td>0.000000</td>\n",
              "    </tr>\n",
              "    <tr>\n",
              "      <th>previous_bookings_not_canceled</th>\n",
              "      <td>0</td>\n",
              "      <td>0.000000</td>\n",
              "    </tr>\n",
              "    <tr>\n",
              "      <th>is_repeated_guest</th>\n",
              "      <td>0</td>\n",
              "      <td>0.000000</td>\n",
              "    </tr>\n",
              "    <tr>\n",
              "      <th>is_canceled</th>\n",
              "      <td>0</td>\n",
              "      <td>0.000000</td>\n",
              "    </tr>\n",
              "    <tr>\n",
              "      <th>distribution_channel</th>\n",
              "      <td>0</td>\n",
              "      <td>0.000000</td>\n",
              "    </tr>\n",
              "    <tr>\n",
              "      <th>market_segment</th>\n",
              "      <td>0</td>\n",
              "      <td>0.000000</td>\n",
              "    </tr>\n",
              "    <tr>\n",
              "      <th>meal</th>\n",
              "      <td>0</td>\n",
              "      <td>0.000000</td>\n",
              "    </tr>\n",
              "    <tr>\n",
              "      <th>babies</th>\n",
              "      <td>0</td>\n",
              "      <td>0.000000</td>\n",
              "    </tr>\n",
              "    <tr>\n",
              "      <th>adults</th>\n",
              "      <td>0</td>\n",
              "      <td>0.000000</td>\n",
              "    </tr>\n",
              "    <tr>\n",
              "      <th>stays_in_week_nights</th>\n",
              "      <td>0</td>\n",
              "      <td>0.000000</td>\n",
              "    </tr>\n",
              "    <tr>\n",
              "      <th>stays_in_weekend_nights</th>\n",
              "      <td>0</td>\n",
              "      <td>0.000000</td>\n",
              "    </tr>\n",
              "    <tr>\n",
              "      <th>arrival_date_day_of_month</th>\n",
              "      <td>0</td>\n",
              "      <td>0.000000</td>\n",
              "    </tr>\n",
              "    <tr>\n",
              "      <th>arrival_date_week_number</th>\n",
              "      <td>0</td>\n",
              "      <td>0.000000</td>\n",
              "    </tr>\n",
              "    <tr>\n",
              "      <th>arrival_date_month</th>\n",
              "      <td>0</td>\n",
              "      <td>0.000000</td>\n",
              "    </tr>\n",
              "    <tr>\n",
              "      <th>arrival_date_year</th>\n",
              "      <td>0</td>\n",
              "      <td>0.000000</td>\n",
              "    </tr>\n",
              "    <tr>\n",
              "      <th>lead_time</th>\n",
              "      <td>0</td>\n",
              "      <td>0.000000</td>\n",
              "    </tr>\n",
              "    <tr>\n",
              "      <th>reservation_status_date</th>\n",
              "      <td>0</td>\n",
              "      <td>0.000000</td>\n",
              "    </tr>\n",
              "  </tbody>\n",
              "</table>\n",
              "</div>\n",
              "      <button class=\"colab-df-convert\" onclick=\"convertToInteractive('df-f7cc1bac-aa55-4dbd-a312-19b4807eb357')\"\n",
              "              title=\"Convert this dataframe to an interactive table.\"\n",
              "              style=\"display:none;\">\n",
              "        \n",
              "  <svg xmlns=\"http://www.w3.org/2000/svg\" height=\"24px\"viewBox=\"0 0 24 24\"\n",
              "       width=\"24px\">\n",
              "    <path d=\"M0 0h24v24H0V0z\" fill=\"none\"/>\n",
              "    <path d=\"M18.56 5.44l.94 2.06.94-2.06 2.06-.94-2.06-.94-.94-2.06-.94 2.06-2.06.94zm-11 1L8.5 8.5l.94-2.06 2.06-.94-2.06-.94L8.5 2.5l-.94 2.06-2.06.94zm10 10l.94 2.06.94-2.06 2.06-.94-2.06-.94-.94-2.06-.94 2.06-2.06.94z\"/><path d=\"M17.41 7.96l-1.37-1.37c-.4-.4-.92-.59-1.43-.59-.52 0-1.04.2-1.43.59L10.3 9.45l-7.72 7.72c-.78.78-.78 2.05 0 2.83L4 21.41c.39.39.9.59 1.41.59.51 0 1.02-.2 1.41-.59l7.78-7.78 2.81-2.81c.8-.78.8-2.07 0-2.86zM5.41 20L4 18.59l7.72-7.72 1.47 1.35L5.41 20z\"/>\n",
              "  </svg>\n",
              "      </button>\n",
              "      \n",
              "  <style>\n",
              "    .colab-df-container {\n",
              "      display:flex;\n",
              "      flex-wrap:wrap;\n",
              "      gap: 12px;\n",
              "    }\n",
              "\n",
              "    .colab-df-convert {\n",
              "      background-color: #E8F0FE;\n",
              "      border: none;\n",
              "      border-radius: 50%;\n",
              "      cursor: pointer;\n",
              "      display: none;\n",
              "      fill: #1967D2;\n",
              "      height: 32px;\n",
              "      padding: 0 0 0 0;\n",
              "      width: 32px;\n",
              "    }\n",
              "\n",
              "    .colab-df-convert:hover {\n",
              "      background-color: #E2EBFA;\n",
              "      box-shadow: 0px 1px 2px rgba(60, 64, 67, 0.3), 0px 1px 3px 1px rgba(60, 64, 67, 0.15);\n",
              "      fill: #174EA6;\n",
              "    }\n",
              "\n",
              "    [theme=dark] .colab-df-convert {\n",
              "      background-color: #3B4455;\n",
              "      fill: #D2E3FC;\n",
              "    }\n",
              "\n",
              "    [theme=dark] .colab-df-convert:hover {\n",
              "      background-color: #434B5C;\n",
              "      box-shadow: 0px 1px 3px 1px rgba(0, 0, 0, 0.15);\n",
              "      filter: drop-shadow(0px 1px 2px rgba(0, 0, 0, 0.3));\n",
              "      fill: #FFFFFF;\n",
              "    }\n",
              "  </style>\n",
              "\n",
              "      <script>\n",
              "        const buttonEl =\n",
              "          document.querySelector('#df-f7cc1bac-aa55-4dbd-a312-19b4807eb357 button.colab-df-convert');\n",
              "        buttonEl.style.display =\n",
              "          google.colab.kernel.accessAllowed ? 'block' : 'none';\n",
              "\n",
              "        async function convertToInteractive(key) {\n",
              "          const element = document.querySelector('#df-f7cc1bac-aa55-4dbd-a312-19b4807eb357');\n",
              "          const dataTable =\n",
              "            await google.colab.kernel.invokeFunction('convertToInteractive',\n",
              "                                                     [key], {});\n",
              "          if (!dataTable) return;\n",
              "\n",
              "          const docLinkHtml = 'Like what you see? Visit the ' +\n",
              "            '<a target=\"_blank\" href=https://colab.research.google.com/notebooks/data_table.ipynb>data table notebook</a>'\n",
              "            + ' to learn more about interactive tables.';\n",
              "          element.innerHTML = '';\n",
              "          dataTable['output_type'] = 'display_data';\n",
              "          await google.colab.output.renderOutput(dataTable, element);\n",
              "          const docLink = document.createElement('div');\n",
              "          docLink.innerHTML = docLinkHtml;\n",
              "          element.appendChild(docLink);\n",
              "        }\n",
              "      </script>\n",
              "    </div>\n",
              "  </div>\n",
              "  "
            ]
          },
          "metadata": {},
          "execution_count": 510
        }
      ]
    },
    {
      "cell_type": "markdown",
      "source": [
        "## Tratamiento Missings"
      ],
      "metadata": {
        "id": "hnzQksvLL_Fe"
      }
    },
    {
      "cell_type": "markdown",
      "source": [
        "**Variable *children***"
      ],
      "metadata": {
        "id": "K-2_RcbdUlSe"
      }
    },
    {
      "cell_type": "code",
      "source": [
        "base.children.mode()"
      ],
      "metadata": {
        "id": "ScVscJZaMAeO",
        "colab": {
          "base_uri": "https://localhost:8080/"
        },
        "outputId": "b250e19c-828a-4115-f02c-d53e97170b95"
      },
      "execution_count": 511,
      "outputs": [
        {
          "output_type": "execute_result",
          "data": {
            "text/plain": [
              "0    0.0\n",
              "dtype: float64"
            ]
          },
          "metadata": {},
          "execution_count": 511
        }
      ]
    },
    {
      "cell_type": "code",
      "source": [
        "base['children'] = base.children.fillna(0)"
      ],
      "metadata": {
        "id": "0QeLzfxFVmVD"
      },
      "execution_count": 512,
      "outputs": []
    },
    {
      "cell_type": "markdown",
      "source": [
        "**Variable *country***\n",
        "\n",
        "Los missings de la variable country que figuran vacíos los clasificaré como *Otros*"
      ],
      "metadata": {
        "id": "JTTCzmwKV_PM"
      }
    },
    {
      "cell_type": "code",
      "source": [
        "base['country'] = base.country.fillna('Other')"
      ],
      "metadata": {
        "id": "fD7zpP4rWLFj"
      },
      "execution_count": 513,
      "outputs": []
    },
    {
      "cell_type": "markdown",
      "source": [
        "**Variable *agent***"
      ],
      "metadata": {
        "id": "DpRvfqnUYS9R"
      }
    },
    {
      "cell_type": "code",
      "source": [
        "base.agent.describe()"
      ],
      "metadata": {
        "colab": {
          "base_uri": "https://localhost:8080/"
        },
        "id": "64Hp1y5XZ3Wu",
        "outputId": "ec9042f9-e63d-4d69-c834-da809cfaa12a"
      },
      "execution_count": 514,
      "outputs": [
        {
          "output_type": "execute_result",
          "data": {
            "text/plain": [
              "count    75203.000000\n",
              "mean        94.138306\n",
              "std        113.188172\n",
              "min          1.000000\n",
              "25%          9.000000\n",
              "50%         14.000000\n",
              "75%        240.000000\n",
              "max        535.000000\n",
              "Name: agent, dtype: float64"
            ]
          },
          "metadata": {},
          "execution_count": 514
        }
      ]
    },
    {
      "cell_type": "markdown",
      "source": [
        "Creo un nuevo ID = 536 para aquellos registros que están vacíos"
      ],
      "metadata": {
        "id": "ShRXZUHaby0A"
      }
    },
    {
      "cell_type": "code",
      "source": [
        "base['agent'] = base.agent.fillna(536)"
      ],
      "metadata": {
        "id": "ERx6DwXKb1aC"
      },
      "execution_count": 515,
      "outputs": []
    },
    {
      "cell_type": "markdown",
      "source": [
        "**Variable *company***\n",
        "\n",
        "Más del 93% de sus valores son faltantes, por lo que se decide eliminar esta variable"
      ],
      "metadata": {
        "id": "3tdSq-ANZbv3"
      }
    },
    {
      "cell_type": "code",
      "source": [
        "base = base.drop(columns = 'company' , axis=1)"
      ],
      "metadata": {
        "id": "e6GYU_PGZgkx"
      },
      "execution_count": 516,
      "outputs": []
    },
    {
      "cell_type": "markdown",
      "source": [
        "## Creación de Variables"
      ],
      "metadata": {
        "id": "2ay6Jmcyh4Y2"
      }
    },
    {
      "cell_type": "markdown",
      "source": [
        "**Cantidad de Noches Totales**\n",
        "\n",
        "Se calcula en base a las noches reservadas en la semana (de lunes a viernes) y las noches reservadas que son fin de semana (sabados y domingos)"
      ],
      "metadata": {
        "id": "Q5J8qf_voZt9"
      }
    },
    {
      "cell_type": "code",
      "source": [
        "base['noches_totales'] = base['stays_in_week_nights'] + base['stays_in_weekend_nights']"
      ],
      "metadata": {
        "id": "4yqpRyvMh6c1"
      },
      "execution_count": 517,
      "outputs": []
    },
    {
      "cell_type": "code",
      "source": [
        "base.isnull().sum()"
      ],
      "metadata": {
        "id": "Jk8PAsPJ51uk",
        "colab": {
          "base_uri": "https://localhost:8080/"
        },
        "outputId": "b37f6643-a663-4591-e2c5-d6b9f48eacf4"
      },
      "execution_count": 518,
      "outputs": [
        {
          "output_type": "execute_result",
          "data": {
            "text/plain": [
              "hotel                             0\n",
              "is_canceled                       0\n",
              "lead_time                         0\n",
              "arrival_date_year                 0\n",
              "arrival_date_month                0\n",
              "arrival_date_week_number          0\n",
              "arrival_date_day_of_month         0\n",
              "stays_in_weekend_nights           0\n",
              "stays_in_week_nights              0\n",
              "adults                            0\n",
              "children                          0\n",
              "babies                            0\n",
              "meal                              0\n",
              "country                           0\n",
              "market_segment                    0\n",
              "distribution_channel              0\n",
              "is_repeated_guest                 0\n",
              "previous_cancellations            0\n",
              "previous_bookings_not_canceled    0\n",
              "reserved_room_type                0\n",
              "assigned_room_type                0\n",
              "booking_changes                   0\n",
              "deposit_type                      0\n",
              "agent                             0\n",
              "days_in_waiting_list              0\n",
              "customer_type                     0\n",
              "adr                               0\n",
              "required_car_parking_spaces       0\n",
              "total_of_special_requests         0\n",
              "reservation_status                0\n",
              "reservation_status_date           0\n",
              "noches_totales                    0\n",
              "dtype: int64"
            ]
          },
          "metadata": {},
          "execution_count": 518
        }
      ]
    },
    {
      "cell_type": "markdown",
      "source": [
        "**Fecha de Llegada**\n",
        "\n",
        "En base al anio, mes y dia, se crea una variable que unifica la fecha de llegada del cliente al hotel. "
      ],
      "metadata": {
        "id": "WU_-avysoq1s"
      }
    },
    {
      "cell_type": "code",
      "source": [
        "base['llegada'] = base['arrival_date_day_of_month'].astype('str') + '/' + base['arrival_date_month'].astype('str') + '/' + base['arrival_date_year'].astype('str')"
      ],
      "metadata": {
        "id": "TY2QyTYtpOAg"
      },
      "execution_count": 519,
      "outputs": []
    },
    {
      "cell_type": "code",
      "source": [
        "base['llegada'] = pd.to_datetime(base['llegada'], dayfirst= True)"
      ],
      "metadata": {
        "id": "ag5WxPMgrgbP"
      },
      "execution_count": 520,
      "outputs": []
    },
    {
      "cell_type": "markdown",
      "source": [
        "**Familia**\n",
        "\n",
        "Se considera una familia cuando hay adultos e hijos (ya sean ninios y/o bebes)"
      ],
      "metadata": {
        "id": "LRaJDkUBrnwl"
      }
    },
    {
      "cell_type": "code",
      "source": [
        "base['familia'] = np.where((base['adults'] > 0) & (base['children'] + base['babies']) > 0,1,0)"
      ],
      "metadata": {
        "id": "ZXfQxjD5rvpK"
      },
      "execution_count": 521,
      "outputs": []
    },
    {
      "cell_type": "markdown",
      "source": [
        "**Ninios**"
      ],
      "metadata": {
        "id": "5EJWfqiAX64B"
      }
    },
    {
      "cell_type": "code",
      "source": [
        "base['total_child'] = (base['children'] + base['babies'] > 0).astype(int)"
      ],
      "metadata": {
        "id": "eacoQS7iX9aQ"
      },
      "execution_count": 522,
      "outputs": []
    },
    {
      "cell_type": "markdown",
      "source": [
        "## Transformación de Variables"
      ],
      "metadata": {
        "id": "vpclGxu7MCuZ"
      }
    },
    {
      "cell_type": "markdown",
      "source": [
        "**Variable *country***\n",
        "\n",
        "Creación de dummies"
      ],
      "metadata": {
        "id": "Gw-duJ32XcMW"
      }
    },
    {
      "cell_type": "code",
      "source": [
        "dummies = base['country'].str.get_dummies(sep=',')"
      ],
      "metadata": {
        "id": "YgT48dCIdYIS"
      },
      "execution_count": 523,
      "outputs": []
    },
    {
      "cell_type": "code",
      "source": [
        "repetidos = dummies.sum().sort_values(ascending=False)\n",
        "repetidos = pd.DataFrame(repetidos, columns = ['count']).head(10)\n",
        "repetidos"
      ],
      "metadata": {
        "colab": {
          "base_uri": "https://localhost:8080/",
          "height": 0
        },
        "id": "3AiwLC79e4-3",
        "outputId": "1c20546a-53a1-4984-808b-e38d8a500064"
      },
      "execution_count": 524,
      "outputs": [
        {
          "output_type": "execute_result",
          "data": {
            "text/plain": [
              "     count\n",
              "PRT  27453\n",
              "GBR  10433\n",
              "FRA   8837\n",
              "ESP   7252\n",
              "DEU   5387\n",
              "ITA   3066\n",
              "IRL   3016\n",
              "BEL   2081\n",
              "BRA   1995\n",
              "NLD   1911"
            ],
            "text/html": [
              "\n",
              "  <div id=\"df-d72b0340-ef84-44b9-b76a-fae750e32faf\">\n",
              "    <div class=\"colab-df-container\">\n",
              "      <div>\n",
              "<style scoped>\n",
              "    .dataframe tbody tr th:only-of-type {\n",
              "        vertical-align: middle;\n",
              "    }\n",
              "\n",
              "    .dataframe tbody tr th {\n",
              "        vertical-align: top;\n",
              "    }\n",
              "\n",
              "    .dataframe thead th {\n",
              "        text-align: right;\n",
              "    }\n",
              "</style>\n",
              "<table border=\"1\" class=\"dataframe\">\n",
              "  <thead>\n",
              "    <tr style=\"text-align: right;\">\n",
              "      <th></th>\n",
              "      <th>count</th>\n",
              "    </tr>\n",
              "  </thead>\n",
              "  <tbody>\n",
              "    <tr>\n",
              "      <th>PRT</th>\n",
              "      <td>27453</td>\n",
              "    </tr>\n",
              "    <tr>\n",
              "      <th>GBR</th>\n",
              "      <td>10433</td>\n",
              "    </tr>\n",
              "    <tr>\n",
              "      <th>FRA</th>\n",
              "      <td>8837</td>\n",
              "    </tr>\n",
              "    <tr>\n",
              "      <th>ESP</th>\n",
              "      <td>7252</td>\n",
              "    </tr>\n",
              "    <tr>\n",
              "      <th>DEU</th>\n",
              "      <td>5387</td>\n",
              "    </tr>\n",
              "    <tr>\n",
              "      <th>ITA</th>\n",
              "      <td>3066</td>\n",
              "    </tr>\n",
              "    <tr>\n",
              "      <th>IRL</th>\n",
              "      <td>3016</td>\n",
              "    </tr>\n",
              "    <tr>\n",
              "      <th>BEL</th>\n",
              "      <td>2081</td>\n",
              "    </tr>\n",
              "    <tr>\n",
              "      <th>BRA</th>\n",
              "      <td>1995</td>\n",
              "    </tr>\n",
              "    <tr>\n",
              "      <th>NLD</th>\n",
              "      <td>1911</td>\n",
              "    </tr>\n",
              "  </tbody>\n",
              "</table>\n",
              "</div>\n",
              "      <button class=\"colab-df-convert\" onclick=\"convertToInteractive('df-d72b0340-ef84-44b9-b76a-fae750e32faf')\"\n",
              "              title=\"Convert this dataframe to an interactive table.\"\n",
              "              style=\"display:none;\">\n",
              "        \n",
              "  <svg xmlns=\"http://www.w3.org/2000/svg\" height=\"24px\"viewBox=\"0 0 24 24\"\n",
              "       width=\"24px\">\n",
              "    <path d=\"M0 0h24v24H0V0z\" fill=\"none\"/>\n",
              "    <path d=\"M18.56 5.44l.94 2.06.94-2.06 2.06-.94-2.06-.94-.94-2.06-.94 2.06-2.06.94zm-11 1L8.5 8.5l.94-2.06 2.06-.94-2.06-.94L8.5 2.5l-.94 2.06-2.06.94zm10 10l.94 2.06.94-2.06 2.06-.94-2.06-.94-.94-2.06-.94 2.06-2.06.94z\"/><path d=\"M17.41 7.96l-1.37-1.37c-.4-.4-.92-.59-1.43-.59-.52 0-1.04.2-1.43.59L10.3 9.45l-7.72 7.72c-.78.78-.78 2.05 0 2.83L4 21.41c.39.39.9.59 1.41.59.51 0 1.02-.2 1.41-.59l7.78-7.78 2.81-2.81c.8-.78.8-2.07 0-2.86zM5.41 20L4 18.59l7.72-7.72 1.47 1.35L5.41 20z\"/>\n",
              "  </svg>\n",
              "      </button>\n",
              "      \n",
              "  <style>\n",
              "    .colab-df-container {\n",
              "      display:flex;\n",
              "      flex-wrap:wrap;\n",
              "      gap: 12px;\n",
              "    }\n",
              "\n",
              "    .colab-df-convert {\n",
              "      background-color: #E8F0FE;\n",
              "      border: none;\n",
              "      border-radius: 50%;\n",
              "      cursor: pointer;\n",
              "      display: none;\n",
              "      fill: #1967D2;\n",
              "      height: 32px;\n",
              "      padding: 0 0 0 0;\n",
              "      width: 32px;\n",
              "    }\n",
              "\n",
              "    .colab-df-convert:hover {\n",
              "      background-color: #E2EBFA;\n",
              "      box-shadow: 0px 1px 2px rgba(60, 64, 67, 0.3), 0px 1px 3px 1px rgba(60, 64, 67, 0.15);\n",
              "      fill: #174EA6;\n",
              "    }\n",
              "\n",
              "    [theme=dark] .colab-df-convert {\n",
              "      background-color: #3B4455;\n",
              "      fill: #D2E3FC;\n",
              "    }\n",
              "\n",
              "    [theme=dark] .colab-df-convert:hover {\n",
              "      background-color: #434B5C;\n",
              "      box-shadow: 0px 1px 3px 1px rgba(0, 0, 0, 0.15);\n",
              "      filter: drop-shadow(0px 1px 2px rgba(0, 0, 0, 0.3));\n",
              "      fill: #FFFFFF;\n",
              "    }\n",
              "  </style>\n",
              "\n",
              "      <script>\n",
              "        const buttonEl =\n",
              "          document.querySelector('#df-d72b0340-ef84-44b9-b76a-fae750e32faf button.colab-df-convert');\n",
              "        buttonEl.style.display =\n",
              "          google.colab.kernel.accessAllowed ? 'block' : 'none';\n",
              "\n",
              "        async function convertToInteractive(key) {\n",
              "          const element = document.querySelector('#df-d72b0340-ef84-44b9-b76a-fae750e32faf');\n",
              "          const dataTable =\n",
              "            await google.colab.kernel.invokeFunction('convertToInteractive',\n",
              "                                                     [key], {});\n",
              "          if (!dataTable) return;\n",
              "\n",
              "          const docLinkHtml = 'Like what you see? Visit the ' +\n",
              "            '<a target=\"_blank\" href=https://colab.research.google.com/notebooks/data_table.ipynb>data table notebook</a>'\n",
              "            + ' to learn more about interactive tables.';\n",
              "          element.innerHTML = '';\n",
              "          dataTable['output_type'] = 'display_data';\n",
              "          await google.colab.output.renderOutput(dataTable, element);\n",
              "          const docLink = document.createElement('div');\n",
              "          docLink.innerHTML = docLinkHtml;\n",
              "          element.appendChild(docLink);\n",
              "        }\n",
              "      </script>\n",
              "    </div>\n",
              "  </div>\n",
              "  "
            ]
          },
          "metadata": {},
          "execution_count": 524
        }
      ]
    },
    {
      "cell_type": "markdown",
      "source": [
        "Estos 10 países son los más visitados, por lo tanto, trabajaré unicamente con estos para el armado del modelo\n",
        "\n"
      ],
      "metadata": {
        "id": "XzNm8MJdgFgp"
      }
    },
    {
      "cell_type": "code",
      "source": [
        "dummies = dummies[['PRT', 'GBR', 'FRA', 'ESP', 'DEU', 'ITA', 'IRL', 'BEL', 'BRA', 'NLD']]\n",
        "dummies['PRT'] = dummies['PRT'].astype(int)\n",
        "dummies['GBR'] = dummies['GBR'].astype(int)\n",
        "dummies['FRA'] = dummies['FRA'].astype(int)\n",
        "dummies['ESP'] = dummies['ESP'].astype(int)\n",
        "dummies['DEU'] = dummies['DEU'].astype(int)\n",
        "dummies['ITA'] = dummies['ITA'].astype(int)\n",
        "dummies['IRL'] = dummies['IRL'].astype(int)\n",
        "dummies['BEL'] = dummies['BEL'].astype(int)\n",
        "dummies['BRA'] = dummies['BRA'].astype(int)\n",
        "dummies['NLD'] = dummies['NLD'].astype(int)"
      ],
      "metadata": {
        "id": "F-PexPwEgMr7"
      },
      "execution_count": 525,
      "outputs": []
    },
    {
      "cell_type": "markdown",
      "source": [
        "**Agrupo por continente**"
      ],
      "metadata": {
        "id": "LFBVQzfHdt7d"
      }
    },
    {
      "cell_type": "code",
      "source": [
        "europa = ['PRT','GBR','ESP','IRL','FRA','ROU','NOR','POL','DEU','BEL','CHE','GRC','ITA','NLD','DNK','RUS','SWE','EST',\n",
        "       'CZE','FIN','LUX','SVN','ALB','UKR','SMR','LVA','SRB','AUT','BLR','LTU','TUR','HUN','HRV','GEO','AND','SVK',\n",
        "       'MKD','BIH','BGR','MLT','ISL','MCO','LIE','MNE']\n",
        "\n",
        "nortea = ['USA','MEX','PRI','CRI','CUB','HND','NIC','GAB','PAN','SLV','GTM']\n",
        "\n",
        "suda = ['ARG','BRA','CHL','URY','COL','VEN','SUR','PER','ECU','BOL','PRY','GUY']\n",
        "\n",
        "asia = ['OMN','CN','IND','CHN','ISR','KOR','ARE','HKG','IRN','CYP','KWT','MDV','KAZ','PAK','IDN','LBN','PHL','AZE','BHR',\n",
        "     'THA','MYS','ARM','JPN','LKA','JOR','SYR','SGP','SAU','VNM','QAT','UZB','NPL','MAC','TWN','IRQ','KHM','BGD','TJK',\n",
        "     'TMP','MMR','LAO']\n",
        "\n",
        "africa = ['MOZ','BWA','MAR','ZAF','AGO','ZMB','ZWE','DZA','TUN','CAF','NGA','SEN','SYC','CMR','MUS','COM','UGA','CIV',\n",
        "       'BDI','EGY','MWI','MDG','TGO','DJI','STP','ETH','RWA','BEN','TZA','GHA','KEN','GNB','BFA','LBY','MLI','NAM',\n",
        "       'MRT','SDN','SLE']\n",
        "\n",
        "oceania = ['AUS', 'NZL','FJI']\n",
        "\n",
        "otros = ['CYM','CPV','JAM','GIB','JEY','GGY','DOM','PLW','BHS','KNA','IMN','VGB','GLP','UMI','MYT','FRO',\n",
        "       'BRB','ABW','AIA','DMA','PYF','LCA','ATA','ASM','NCL','KIR','ATF', 'Other' ]"
      ],
      "metadata": {
        "id": "5UUnaeFEdtYY"
      },
      "execution_count": 526,
      "outputs": []
    },
    {
      "cell_type": "code",
      "source": [
        "base['continente'] = np.where(base['country'].isin(europa),\"Europa\", np.where(base['country'].isin(nortea),\"Norteamerica\",np.where(base['country'].isin(suda),\"Sudamerica\",np.where(base['country'].isin(asia),\"Asia\",np.where(base['country'].isin(africa),\"Africa\",np.where(base['country'].isin(oceania),\"Oceania\",np.where(base['country'].isin(otros),\"Otros\",0)))))))"
      ],
      "metadata": {
        "id": "7l2Z6WqNd-8S"
      },
      "execution_count": 527,
      "outputs": []
    },
    {
      "cell_type": "code",
      "source": [
        "# Agrego las variables binarias al DataFrame\n",
        "base = pd.concat([base, dummies], axis = 1)\n",
        "\n",
        "# Elimino la vairable original: country\n",
        "base = base.drop(columns=['country'])"
      ],
      "metadata": {
        "id": "1TLG_g_bgqpQ"
      },
      "execution_count": 528,
      "outputs": []
    },
    {
      "cell_type": "markdown",
      "source": [
        "**Variable *hotel***"
      ],
      "metadata": {
        "id": "az1bDNBeh-4R"
      }
    },
    {
      "cell_type": "code",
      "source": [
        "base.hotel.unique()"
      ],
      "metadata": {
        "colab": {
          "base_uri": "https://localhost:8080/"
        },
        "id": "o4iG4NQ_iAuv",
        "outputId": "029ab112-fa85-4f56-af52-96322ac52a35"
      },
      "execution_count": 529,
      "outputs": [
        {
          "output_type": "execute_result",
          "data": {
            "text/plain": [
              "array(['Resort Hotel', 'City Hotel'], dtype=object)"
            ]
          },
          "metadata": {},
          "execution_count": 529
        }
      ]
    },
    {
      "cell_type": "code",
      "source": [
        "base.loc[base['hotel'] == \"Resort Hotel\", 'hotel'] = '1'\n",
        "base.loc[base['hotel'] == \"City Hotel\", 'hotel'] = '2'\n",
        "base['hotel'] = pd.to_numeric(base.hotel,errors='coerce').astype('int16')"
      ],
      "metadata": {
        "id": "hGZuS_--iDSG"
      },
      "execution_count": 530,
      "outputs": []
    },
    {
      "cell_type": "markdown",
      "source": [
        "**Variable *meal***"
      ],
      "metadata": {
        "id": "lCW_I7ZyihGt"
      }
    },
    {
      "cell_type": "code",
      "source": [
        "base.meal.unique()"
      ],
      "metadata": {
        "colab": {
          "base_uri": "https://localhost:8080/"
        },
        "id": "zRhDRgWtiixw",
        "outputId": "77d4a1a7-bc6a-44d1-cb9f-e4a1172084e1"
      },
      "execution_count": 531,
      "outputs": [
        {
          "output_type": "execute_result",
          "data": {
            "text/plain": [
              "array(['BB', 'FB', 'HB', 'SC', 'Undefined'], dtype=object)"
            ]
          },
          "metadata": {},
          "execution_count": 531
        }
      ]
    },
    {
      "cell_type": "code",
      "source": [
        "base.loc[base['meal'] == \"BB\", 'meal'] = '1'\n",
        "base.loc[base['meal'] == \"FB\", 'meal'] = '2'\n",
        "base.loc[base['meal'] == \"HB\", 'meal'] = '3'\n",
        "base.loc[base['meal'] == \"SC\", 'meal'] = '4'\n",
        "base.loc[base['meal'] == \"Undefined\", 'meal'] = '5'\n",
        "\n",
        "base['meal'] = pd.to_numeric(base.meal,errors='coerce').astype('int16')"
      ],
      "metadata": {
        "id": "Zwf0k2dBimXx"
      },
      "execution_count": 532,
      "outputs": []
    },
    {
      "cell_type": "markdown",
      "source": [
        "**Variable *Market Segment***"
      ],
      "metadata": {
        "id": "vtcSRswzi8Y5"
      }
    },
    {
      "cell_type": "code",
      "source": [
        "base.market_segment.unique()"
      ],
      "metadata": {
        "colab": {
          "base_uri": "https://localhost:8080/"
        },
        "id": "CUkCm4pAjBHP",
        "outputId": "4f12ccc3-aba2-431b-e69f-5e80de9d4c81"
      },
      "execution_count": 533,
      "outputs": [
        {
          "output_type": "execute_result",
          "data": {
            "text/plain": [
              "array(['Direct', 'Corporate', 'Online TA', 'Offline TA/TO',\n",
              "       'Complementary', 'Groups', 'Undefined', 'Aviation'], dtype=object)"
            ]
          },
          "metadata": {},
          "execution_count": 533
        }
      ]
    },
    {
      "cell_type": "code",
      "source": [
        "base.loc[base['market_segment'] == \"Direct\", 'market_segment'] = '1'\n",
        "base.loc[base['market_segment'] == \"Corporate\", 'market_segment'] = '2'\n",
        "base.loc[base['market_segment'] == \"Online TA\", 'market_segment'] = '3'\n",
        "base.loc[base['market_segment'] == \"Offline TA/TO\", 'market_segment'] = '4'\n",
        "base.loc[base['market_segment'] == \"Complementary\", 'market_segment'] = '5'\n",
        "base.loc[base['market_segment'] == \"Groups\", 'market_segment'] = '6'\n",
        "base.loc[base['market_segment'] == \"Aviation\", 'market_segment'] = '7'\n",
        "base.loc[base['market_segment'] == \"Undefined\", 'market_segment'] = '8'\n",
        "\n",
        "base['market_segment'] = pd.to_numeric(base.market_segment,errors='coerce').astype('int16')"
      ],
      "metadata": {
        "id": "8VWzSaWfjI0r"
      },
      "execution_count": 534,
      "outputs": []
    },
    {
      "cell_type": "markdown",
      "source": [
        "**Variable *Distribution Channel***"
      ],
      "metadata": {
        "id": "BdCb0ITSj2k0"
      }
    },
    {
      "cell_type": "code",
      "source": [
        "base.distribution_channel.unique()"
      ],
      "metadata": {
        "colab": {
          "base_uri": "https://localhost:8080/"
        },
        "id": "h0OWcx3OkOZ1",
        "outputId": "7d0468c0-cfaf-492d-ccd4-dca43424b19f"
      },
      "execution_count": 535,
      "outputs": [
        {
          "output_type": "execute_result",
          "data": {
            "text/plain": [
              "array(['Direct', 'Corporate', 'TA/TO', 'Undefined', 'GDS'], dtype=object)"
            ]
          },
          "metadata": {},
          "execution_count": 535
        }
      ]
    },
    {
      "cell_type": "code",
      "source": [
        "base.loc[base['distribution_channel'] == \"Direct\", 'distribution_channel'] = '1'\n",
        "base.loc[base['distribution_channel'] == \"Coroporate\", 'distribution_channel'] = '2'\n",
        "base.loc[base['distribution_channel'] == \"TA/TO\", 'distribution_channel'] = '3'\n",
        "base.loc[base['distribution_channel'] == \"GDS\", 'distribution_channel'] = '4'\n",
        "base.loc[base['distribution_channel'] == \"Undefined\", 'distribution_channel'] = '5'\n",
        "base['distribution_channel'] = pd.to_numeric(base.distribution_channel,errors='coerce').fillna('5').astype('int16')"
      ],
      "metadata": {
        "id": "CGvveXVMj9TT"
      },
      "execution_count": 536,
      "outputs": []
    },
    {
      "cell_type": "markdown",
      "source": [
        "**Variable *Reserved Room Type***"
      ],
      "metadata": {
        "id": "f_3FR9o2lkHi"
      }
    },
    {
      "cell_type": "code",
      "source": [
        "base.reserved_room_type.unique()"
      ],
      "metadata": {
        "colab": {
          "base_uri": "https://localhost:8080/"
        },
        "id": "egvOocKplj4r",
        "outputId": "239b0bb1-990a-4827-aea0-2887a89c355e"
      },
      "execution_count": 537,
      "outputs": [
        {
          "output_type": "execute_result",
          "data": {
            "text/plain": [
              "array(['C', 'A', 'D', 'E', 'G', 'F', 'H', 'L', 'P', 'B'], dtype=object)"
            ]
          },
          "metadata": {},
          "execution_count": 537
        }
      ]
    },
    {
      "cell_type": "code",
      "source": [
        "base.loc[base['reserved_room_type'] == \"A\", 'reserved_room_type'] = '1'\n",
        "base.loc[base['reserved_room_type'] == \"B\", 'reserved_room_type'] = '2'\n",
        "base.loc[base['reserved_room_type'] == \"C\", 'reserved_room_type'] = '3'\n",
        "base.loc[base['reserved_room_type'] == \"D\", 'reserved_room_type'] = '4'\n",
        "base.loc[base['reserved_room_type'] == \"E\", 'reserved_room_type'] = '5'\n",
        "base.loc[base['reserved_room_type'] == \"F\", 'reserved_room_type'] = '6'\n",
        "base.loc[base['reserved_room_type'] == \"G\", 'reserved_room_type'] = '7'\n",
        "base.loc[base['reserved_room_type'] == \"H\", 'reserved_room_type'] = '8'\n",
        "base.loc[base['reserved_room_type'] == \"L\", 'reserved_room_type'] = '9'\n",
        "base.loc[base['reserved_room_type'] == \"P\", 'reserved_room_type'] = '10'\n",
        "\n",
        "base['reserved_room_type'] = pd.to_numeric(base.reserved_room_type,errors='coerce').astype('int16')"
      ],
      "metadata": {
        "id": "jgq9mPM-mTL5"
      },
      "execution_count": 538,
      "outputs": []
    },
    {
      "cell_type": "markdown",
      "source": [
        "**Variable *Assigned Room Type***"
      ],
      "metadata": {
        "id": "DEWA1i56mpif"
      }
    },
    {
      "cell_type": "code",
      "source": [
        "base.assigned_room_type.unique()"
      ],
      "metadata": {
        "colab": {
          "base_uri": "https://localhost:8080/"
        },
        "id": "3PPet_Kgmsic",
        "outputId": "165b8ed0-7d04-4646-dd3e-85f1a412718e"
      },
      "execution_count": 539,
      "outputs": [
        {
          "output_type": "execute_result",
          "data": {
            "text/plain": [
              "array(['C', 'A', 'D', 'E', 'G', 'F', 'I', 'B', 'H', 'P', 'L', 'K'],\n",
              "      dtype=object)"
            ]
          },
          "metadata": {},
          "execution_count": 539
        }
      ]
    },
    {
      "cell_type": "code",
      "source": [
        "base.loc[base['assigned_room_type'] == \"A\", 'assigned_room_type'] = '1'\n",
        "base.loc[base['assigned_room_type'] == \"B\", 'assigned_room_type'] = '2'\n",
        "base.loc[base['assigned_room_type'] == \"C\", 'assigned_room_type'] = '3'\n",
        "base.loc[base['assigned_room_type'] == \"D\", 'assigned_room_type'] = '4'\n",
        "base.loc[base['assigned_room_type'] == \"E\", 'assigned_room_type'] = '5'\n",
        "base.loc[base['assigned_room_type'] == \"F\", 'assigned_room_type'] = '6'\n",
        "base.loc[base['assigned_room_type'] == \"G\", 'assigned_room_type'] = '7'\n",
        "base.loc[base['assigned_room_type'] == \"H\", 'assigned_room_type'] = '8'\n",
        "base.loc[base['assigned_room_type'] == \"I\", 'assigned_room_type'] = '9'\n",
        "base.loc[base['assigned_room_type'] == \"K\", 'assigned_room_type'] = '10'\n",
        "base.loc[base['assigned_room_type'] == \"L\", 'assigned_room_type'] = '11'\n",
        "base.loc[base['assigned_room_type'] == \"P\", 'assigned_room_type'] = '12'\n",
        "\n",
        "\n",
        "base['assigned_room_type'] = pd.to_numeric(base.assigned_room_type,errors='coerce').astype('int16')"
      ],
      "metadata": {
        "id": "-7_lyem3m5Pl"
      },
      "execution_count": 540,
      "outputs": []
    },
    {
      "cell_type": "markdown",
      "source": [
        "**Variable *Deposit Type***"
      ],
      "metadata": {
        "id": "NWpzozYqnQgf"
      }
    },
    {
      "cell_type": "code",
      "source": [
        "base.deposit_type.unique()"
      ],
      "metadata": {
        "colab": {
          "base_uri": "https://localhost:8080/"
        },
        "id": "l4oRbsK7nUEo",
        "outputId": "6bb6c80c-b89c-48ab-9fd0-b551fd4fddf2"
      },
      "execution_count": 541,
      "outputs": [
        {
          "output_type": "execute_result",
          "data": {
            "text/plain": [
              "array(['No Deposit', 'Refundable', 'Non Refund'], dtype=object)"
            ]
          },
          "metadata": {},
          "execution_count": 541
        }
      ]
    },
    {
      "cell_type": "code",
      "source": [
        "base.loc[base['deposit_type'] == \"No Deposit\", 'deposit_type'] = '1'\n",
        "base.loc[base['deposit_type'] == \"Refundable\", 'deposit_type'] = '2'\n",
        "base.loc[base['deposit_type'] == \"Non Refund\", 'deposit_type'] = '3'\n",
        "\n",
        "base['deposit_type'] = pd.to_numeric(base.deposit_type,errors='coerce').astype('int16')"
      ],
      "metadata": {
        "id": "GHvaVavyna2W"
      },
      "execution_count": 542,
      "outputs": []
    },
    {
      "cell_type": "markdown",
      "source": [
        "**Variable *Customer Type***"
      ],
      "metadata": {
        "id": "YUrW6h4Gnj4x"
      }
    },
    {
      "cell_type": "code",
      "source": [
        "base.customer_type.unique()"
      ],
      "metadata": {
        "colab": {
          "base_uri": "https://localhost:8080/"
        },
        "id": "xIRcXME8nl6g",
        "outputId": "3ad01359-d05d-497a-b8fa-d2e6a01e13ef"
      },
      "execution_count": 543,
      "outputs": [
        {
          "output_type": "execute_result",
          "data": {
            "text/plain": [
              "array(['Transient', 'Contract', 'Transient-Party', 'Group'], dtype=object)"
            ]
          },
          "metadata": {},
          "execution_count": 543
        }
      ]
    },
    {
      "cell_type": "code",
      "source": [
        "base.loc[base['customer_type'] == \"Transient\", 'customer_type'] = '1'\n",
        "base.loc[base['customer_type'] == \"Contract\", 'customer_type'] = '2'\n",
        "base.loc[base['customer_type'] == \"Transient-Party\", 'customer_type'] = '3'\n",
        "base.loc[base['customer_type'] == \"Group\", 'customer_type'] = '4'\n",
        "\n",
        "base['customer_type'] = pd.to_numeric(base.customer_type,errors='coerce').astype('int16')"
      ],
      "metadata": {
        "id": "ZStYzkGinqRw"
      },
      "execution_count": 544,
      "outputs": []
    },
    {
      "cell_type": "markdown",
      "source": [
        "**Variable *Reservation Status***"
      ],
      "metadata": {
        "id": "beqjtWkNn5B0"
      }
    },
    {
      "cell_type": "code",
      "source": [
        "base.reservation_status.unique()"
      ],
      "metadata": {
        "colab": {
          "base_uri": "https://localhost:8080/"
        },
        "id": "yQ3yT_Onn6z7",
        "outputId": "dc9ada76-fbd0-449e-b73b-513c32aa069a"
      },
      "execution_count": 545,
      "outputs": [
        {
          "output_type": "execute_result",
          "data": {
            "text/plain": [
              "array(['Check-Out', 'Canceled', 'No-Show'], dtype=object)"
            ]
          },
          "metadata": {},
          "execution_count": 545
        }
      ]
    },
    {
      "cell_type": "code",
      "source": [
        "base.loc[base['reservation_status'] == \"Check-Out\", 'reservation_status'] = '1'\n",
        "base.loc[base['reservation_status'] == \"Canceled\", 'reservation_status'] = '2'\n",
        "base.loc[base['reservation_status'] == \"No-Show\", 'reservation_status'] = '3'\n",
        "\n",
        "base['reservation_status'] = pd.to_numeric(base.reservation_status,errors='coerce').astype('int16')"
      ],
      "metadata": {
        "id": "TnJieTLTn-ya"
      },
      "execution_count": 546,
      "outputs": []
    },
    {
      "cell_type": "markdown",
      "source": [
        "**Variable *Arrival Date Month***"
      ],
      "metadata": {
        "id": "5pL4T2xdqhLu"
      }
    },
    {
      "cell_type": "code",
      "source": [
        "base.loc[base['arrival_date_month'] == \"January\", 'arrival_date_month'] = '01'\n",
        "base.loc[base['arrival_date_month'] == \"February\", 'arrival_date_month'] = '02'\n",
        "base.loc[base['arrival_date_month'] == \"March\", 'arrival_date_month'] = '03'\n",
        "base.loc[base['arrival_date_month'] == \"April\", 'arrival_date_month'] = '04'\n",
        "base.loc[base['arrival_date_month'] == \"May\", 'arrival_date_month'] = '05'\n",
        "base.loc[base['arrival_date_month'] == \"June\", 'arrival_date_month'] = '06'\n",
        "base.loc[base['arrival_date_month'] == \"July\", 'arrival_date_month'] = '07'\n",
        "base.loc[base['arrival_date_month'] == \"August\", 'arrival_date_month'] = '08'\n",
        "base.loc[base['arrival_date_month'] == \"September\", 'arrival_date_month'] = '09'\n",
        "base.loc[base['arrival_date_month'] == \"October\", 'arrival_date_month'] = '10'\n",
        "base.loc[base['arrival_date_month'] == \"November\", 'arrival_date_month'] = '11'\n",
        "base.loc[base['arrival_date_month'] == \"December\", 'arrival_date_month'] = '12'\n",
        "\n",
        "base['arrival_date_month'] = pd.to_numeric(base.arrival_date_month,errors='coerce').astype('int16')"
      ],
      "metadata": {
        "id": "4hF_Wgrlqlmq"
      },
      "execution_count": 547,
      "outputs": []
    },
    {
      "cell_type": "markdown",
      "source": [
        "## Outliers"
      ],
      "metadata": {
        "id": "AJU4qcRKMKo7"
      }
    },
    {
      "cell_type": "code",
      "source": [
        "fig, axs = plt.subplots(4,3, figsize=(15, 8))\n",
        "\n",
        "sb.boxplot(x=base[\"lead_time\"],ax=axs[0,0])\n",
        "sb.boxplot(x=base[\"adults\"],ax=axs[0,1])\n",
        "sb.boxplot(x=base[\"children\"],ax=axs[0,2])\n",
        "sb.boxplot(x=base[\"babies\"],ax=axs[1,0])\n",
        "sb.boxplot(x=base[\"previous_cancellations\"],ax=axs[1,1])\n",
        "sb.boxplot(x=base[\"days_in_waiting_list\"],ax=axs[1,2])\n",
        "sb.boxplot(x=base[\"adr\"],ax=axs[2,0])\n",
        "sb.boxplot(x=base[\"total_of_special_requests\"],ax=axs[2,1])\n",
        "sb.boxplot(x=base[\"booking_changes\"],ax=axs[2,2])\n",
        "sb.boxplot(x=base[\"previous_bookings_not_canceled\"],ax=axs[3,0])\n",
        "sb.boxplot(x=base[\"required_car_parking_spaces\"],ax=axs[3,1])"
      ],
      "metadata": {
        "id": "h489EYVPMMDf",
        "colab": {
          "base_uri": "https://localhost:8080/",
          "height": 0
        },
        "outputId": "cbee7534-409a-4bf3-e8e3-23fa94af738f"
      },
      "execution_count": 548,
      "outputs": [
        {
          "output_type": "execute_result",
          "data": {
            "text/plain": [
              "<matplotlib.axes._subplots.AxesSubplot at 0x7fb531dbf0a0>"
            ]
          },
          "metadata": {},
          "execution_count": 548
        },
        {
          "output_type": "display_data",
          "data": {
            "text/plain": [
              "<Figure size 1080x576 with 12 Axes>"
            ],
            "image/png": "[encoded data removed]"
          },
          "metadata": {}
        }
      ]
    },
    {
      "cell_type": "code",
      "source": [
        "fig, axs = plt.subplots(4,3, figsize=(15, 8))\n",
        "\n",
        "sb.histplot(x=base[\"lead_time\"],ax=axs[0,0])\n",
        "sb.histplot(x=base[\"adults\"],ax=axs[0,1])\n",
        "sb.histplot(x=base[\"children\"],ax=axs[0,2])\n",
        "sb.histplot(x=base[\"babies\"],ax=axs[1,0])\n",
        "sb.histplot(x=base[\"previous_cancellations\"],ax=axs[1,1])\n",
        "sb.histplot(x=base[\"days_in_waiting_list\"],ax=axs[1,2])\n",
        "sb.histplot(x=base[\"adr\"],ax=axs[2,0])\n",
        "sb.histplot(x=base[\"total_of_special_requests\"],ax=axs[2,1])\n",
        "sb.histplot(x=base[\"booking_changes\"],ax=axs[2,2])\n",
        "sb.histplot(x=base[\"previous_bookings_not_canceled\"],ax=axs[3,0])\n",
        "sb.histplot(x=base[\"required_car_parking_spaces\"],ax=axs[3,1])"
      ],
      "metadata": {
        "colab": {
          "base_uri": "https://localhost:8080/",
          "height": 0
        },
        "id": "uLtFRRHQcywV",
        "outputId": "fc15b7a5-b7a3-4a9f-d24a-30edb239b458"
      },
      "execution_count": 549,
      "outputs": [
        {
          "output_type": "execute_result",
          "data": {
            "text/plain": [
              "<matplotlib.axes._subplots.AxesSubplot at 0x7fb5318f88e0>"
            ]
          },
          "metadata": {},
          "execution_count": 549
        },
        {
          "output_type": "display_data",
          "data": {
            "text/plain": [
              "<Figure size 1080x576 with 12 Axes>"
            ],
            "image/png": "[encoded data removed]"
          },
          "metadata": {}
        }
      ]
    },
    {
      "cell_type": "markdown",
      "source": [
        "## Tratamiento Outliers"
      ],
      "metadata": {
        "id": "-7s_CdPJr_AA"
      }
    },
    {
      "cell_type": "markdown",
      "source": [
        "**Lead Time**"
      ],
      "metadata": {
        "id": "3356bYPLPked"
      }
    },
    {
      "cell_type": "code",
      "source": [
        "lt_i = base.loc[base['lead_time'] == 0].index"
      ],
      "metadata": {
        "id": "tkzIDxyVOKwj"
      },
      "execution_count": 550,
      "outputs": []
    },
    {
      "cell_type": "code",
      "source": [
        "base.drop(lt_i , axis=0,inplace = True)"
      ],
      "metadata": {
        "id": "mmFx64fkPVJt"
      },
      "execution_count": 551,
      "outputs": []
    },
    {
      "cell_type": "markdown",
      "source": [
        "**Adults**"
      ],
      "metadata": {
        "id": "a_y-qCsTPlo_"
      }
    },
    {
      "cell_type": "code",
      "source": [
        "ai = base.loc[base['adults'] < 1].index"
      ],
      "metadata": {
        "id": "tdhEf3_cPmgV"
      },
      "execution_count": 552,
      "outputs": []
    },
    {
      "cell_type": "code",
      "source": [
        "base.drop(ai , axis=0,inplace = True)"
      ],
      "metadata": {
        "id": "dEzNBmm-Ppnz"
      },
      "execution_count": 553,
      "outputs": []
    },
    {
      "cell_type": "markdown",
      "source": [
        "**Children**"
      ],
      "metadata": {
        "id": "YEE4DCqBP0MI"
      }
    },
    {
      "cell_type": "code",
      "source": [
        "base = base.drop(base[base['children']==10].index)"
      ],
      "metadata": {
        "id": "Su3ielsgP1MX"
      },
      "execution_count": 554,
      "outputs": []
    },
    {
      "cell_type": "markdown",
      "source": [
        "**Babies**"
      ],
      "metadata": {
        "id": "a2q_2mgIQ5xE"
      }
    },
    {
      "cell_type": "code",
      "source": [
        "base.loc[base['babies'] > 2, ['babies']] = 0"
      ],
      "metadata": {
        "id": "bSQDVKbXQ64o"
      },
      "execution_count": 555,
      "outputs": []
    },
    {
      "cell_type": "markdown",
      "source": [
        "**Previous Cancellations**"
      ],
      "metadata": {
        "id": "i_27gMiPRqEb"
      }
    },
    {
      "cell_type": "code",
      "source": [
        "base.loc[base['previous_cancellations'] > 2, ['previous_cancellations']] = 0"
      ],
      "metadata": {
        "id": "AhlMrpyjRsbG"
      },
      "execution_count": 556,
      "outputs": []
    },
    {
      "cell_type": "markdown",
      "source": [
        "**Days in waiting list**"
      ],
      "metadata": {
        "id": "vGsjB2pMSBuU"
      }
    },
    {
      "cell_type": "code",
      "source": [
        "base.loc[base['days_in_waiting_list'] > 0, ['days_in_waiting_list']] = 0"
      ],
      "metadata": {
        "id": "BqJnQNebSDRO"
      },
      "execution_count": 557,
      "outputs": []
    },
    {
      "cell_type": "markdown",
      "source": [
        "**ADR**"
      ],
      "metadata": {
        "id": "2MZw3ouOSHVB"
      }
    },
    {
      "cell_type": "code",
      "source": [
        "base = base.drop(base[base['adr'] < 0].index)\n",
        "base = base.drop(base[base['adr'] == 5400].index)"
      ],
      "metadata": {
        "id": "OJ_DIsY2SIP4"
      },
      "execution_count": 558,
      "outputs": []
    },
    {
      "cell_type": "markdown",
      "source": [
        "**Total of special requests**"
      ],
      "metadata": {
        "id": "WN3ojkL8tigA"
      }
    },
    {
      "cell_type": "code",
      "source": [
        "base.total_of_special_requests.median()"
      ],
      "metadata": {
        "colab": {
          "base_uri": "https://localhost:8080/"
        },
        "id": "01QfwCgLTJVG",
        "outputId": "5feca59c-88e9-4fa9-f017-319a84e90ac2"
      },
      "execution_count": 559,
      "outputs": [
        {
          "output_type": "execute_result",
          "data": {
            "text/plain": [
              "1.0"
            ]
          },
          "metadata": {},
          "execution_count": 559
        }
      ]
    },
    {
      "cell_type": "code",
      "source": [
        "base.loc[base['total_of_special_requests'] > 3, ['total_of_special_requests']] = 1"
      ],
      "metadata": {
        "id": "vDgqijzxSh0t"
      },
      "execution_count": 560,
      "outputs": []
    },
    {
      "cell_type": "markdown",
      "source": [
        "**Booking changes**"
      ],
      "metadata": {
        "id": "Boc7pzRQuwIy"
      }
    },
    {
      "cell_type": "code",
      "source": [
        "base.booking_changes.median()"
      ],
      "metadata": {
        "colab": {
          "base_uri": "https://localhost:8080/"
        },
        "id": "2K9xlLfZTQzC",
        "outputId": "98d97dc4-f7ad-440f-f68a-e49897d86985"
      },
      "execution_count": 561,
      "outputs": [
        {
          "output_type": "execute_result",
          "data": {
            "text/plain": [
              "0.0"
            ]
          },
          "metadata": {},
          "execution_count": 561
        }
      ]
    },
    {
      "cell_type": "code",
      "source": [
        "base.loc[base['booking_changes'] > 4, ['booking_changes']] = 0"
      ],
      "metadata": {
        "id": "6P8cBR6cuxiz"
      },
      "execution_count": 562,
      "outputs": []
    },
    {
      "cell_type": "markdown",
      "source": [
        "**Required car parking spaces**"
      ],
      "metadata": {
        "id": "TGJT13KtUGgX"
      }
    },
    {
      "cell_type": "code",
      "source": [
        "base = base.drop(base[base['required_car_parking_spaces'] == 8].index)\n",
        "base.loc[base['required_car_parking_spaces'] > 1, ['required_car_parking_spaces']] = 0"
      ],
      "metadata": {
        "id": "hYReYDfsUGCh"
      },
      "execution_count": 563,
      "outputs": []
    },
    {
      "cell_type": "markdown",
      "source": [
        "## Graficos Exploratorios"
      ],
      "metadata": {
        "id": "c69FlDzvVNuv"
      }
    },
    {
      "cell_type": "code",
      "source": [
        "base['hotelobj'] = np.where((base['hotel'] ==1),\"Resort Hotel\",\"City Hotel\")"
      ],
      "metadata": {
        "id": "o0nWk3Q3VNuv"
      },
      "execution_count": null,
      "outputs": []
    },
    {
      "cell_type": "code",
      "source": [
        "graph = sb.histplot(data=base, x=\"arrival_date_month\", binwidth = 2)\n",
        "graph.set_xlabel('Mes', fontsize = 12)\n",
        "graph.set_ylabel('Cantidad', fontsize = 12)"
      ],
      "metadata": {
        "colab": {
          "base_uri": "https://localhost:8080/",
          "height": 737
        },
        "outputId": "e9eb61b6-11f6-4ad4-80d0-178c86097cb2",
        "id": "W2sQ61eWVNuv"
      },
      "execution_count": null,
      "outputs": [
        {
          "output_type": "execute_result",
          "data": {
            "text/plain": [
              "Text(0, 0.5, 'Cantidad')"
            ]
          },
          "metadata": {},
          "execution_count": 362
        },
        {
          "output_type": "display_data",
          "data": {
            "text/plain": [
              "<Figure size 1008x864 with 1 Axes>"
            ],
            "image/png": "[encoded data removed]"
          },
          "metadata": {}
        }
      ]
    },
    {
      "cell_type": "code",
      "source": [
        "sb.set(rc={'figure.figsize':(14,12)})\n",
        "graph = sb.countplot(x = 'arrival_date_month',hue='hotelobj', data=base)\n",
        "graph.set(title='Tipo de Hotel por mes')\n",
        "graph.set_xlabel('Mes', fontsize = 12)\n",
        "graph.set_ylabel('Cantidad', fontsize = 12)\n",
        "plt.show()"
      ],
      "metadata": {
        "colab": {
          "base_uri": "https://localhost:8080/",
          "height": 736
        },
        "outputId": "2eb66ce6-78f1-4e2d-9059-6acb912185be",
        "id": "AIBi7ZXAVNuv"
      },
      "execution_count": null,
      "outputs": [
        {
          "output_type": "display_data",
          "data": {
            "text/plain": [
              "<Figure size 1008x864 with 1 Axes>"
            ],
            "image/png": "[encoded data removed]"
          },
          "metadata": {}
        }
      ]
    },
    {
      "cell_type": "code",
      "source": [
        "sb.barplot(x=\"arrival_date_month\", y=\"is_canceled\", data=base)"
      ],
      "metadata": {
        "colab": {
          "base_uri": "https://localhost:8080/",
          "height": 297
        },
        "outputId": "84497c9a-e3cd-44fc-9c20-66baa092f44c",
        "id": "iucRBwxEVNuw"
      },
      "execution_count": null,
      "outputs": [
        {
          "output_type": "execute_result",
          "data": {
            "text/plain": [
              "<matplotlib.axes._subplots.AxesSubplot at 0x7fb53e640e50>"
            ]
          },
          "metadata": {},
          "execution_count": 112
        },
        {
          "output_type": "display_data",
          "data": {
            "text/plain": [
              "<Figure size 432x288 with 1 Axes>"
            ],
            "image/png": "[encoded data removed]"
          },
          "metadata": {
            "needs_background": "light"
          }
        }
      ]
    },
    {
      "cell_type": "markdown",
      "source": [
        "Claro está que quienes viajan, eligen hacerlo principalmente en Agosto. "
      ],
      "metadata": {
        "id": "et2LLUr3VNuw"
      }
    },
    {
      "cell_type": "markdown",
      "source": [
        "Ahora me pregunto si será mas determinante la epoca del anio dependiendo de quien viaja: Importa que sea una familia, por ejemplo?"
      ],
      "metadata": {
        "id": "uWgE5KRWVNuw"
      }
    },
    {
      "cell_type": "code",
      "source": [
        "base['es_familia'] = np.where((base['familia'] == 1),1,0)"
      ],
      "metadata": {
        "id": "6FhL82vEVNuw"
      },
      "execution_count": null,
      "outputs": []
    },
    {
      "cell_type": "code",
      "source": [
        "data_familia = base[base['es_familia'] == 1]\n",
        "data_nofamilia = base[base['es_familia'] == 0]"
      ],
      "metadata": {
        "id": "H4NfJM-RVNuw"
      },
      "execution_count": null,
      "outputs": []
    },
    {
      "cell_type": "code",
      "source": [
        "sb.histplot(data=data_familia, x=\"arrival_date_month\", binwidth = 2)"
      ],
      "metadata": {
        "colab": {
          "base_uri": "https://localhost:8080/",
          "height": 737
        },
        "outputId": "268e1337-62ee-49bc-ff57-06fd3902fcd3",
        "id": "bczrdvSAVNuw"
      },
      "execution_count": null,
      "outputs": [
        {
          "output_type": "execute_result",
          "data": {
            "text/plain": [
              "<matplotlib.axes._subplots.AxesSubplot at 0x7fb53582cc70>"
            ]
          },
          "metadata": {},
          "execution_count": 360
        },
        {
          "output_type": "display_data",
          "data": {
            "text/plain": [
              "<Figure size 1008x864 with 1 Axes>"
            ],
            "image/png": "[encoded data removed]"
          },
          "metadata": {}
        }
      ]
    },
    {
      "cell_type": "code",
      "source": [
        "sb.histplot(data=data_nofamilia, x=\"arrival_date_month\", binwidth = 2)"
      ],
      "metadata": {
        "colab": {
          "base_uri": "https://localhost:8080/",
          "height": 737
        },
        "outputId": "51c2b235-c31f-4d8d-f32b-2c9c15b5ce48",
        "id": "ZctH0PgIVNuw"
      },
      "execution_count": null,
      "outputs": [
        {
          "output_type": "execute_result",
          "data": {
            "text/plain": [
              "<matplotlib.axes._subplots.AxesSubplot at 0x7fb535527670>"
            ]
          },
          "metadata": {},
          "execution_count": 361
        },
        {
          "output_type": "display_data",
          "data": {
            "text/plain": [
              "<Figure size 1008x864 with 1 Axes>"
            ],
            "image/png": "[encoded data removed]"
          },
          "metadata": {}
        }
      ]
    },
    {
      "cell_type": "markdown",
      "source": [
        "Se observa que las familias que viajan lo hacen principalmente (y con una diferencia notoria) en Agosto.\n",
        "\n",
        "Mientras que aquellos que no viajan en familia lo hacen de una forma mas pareja a lo largo del anio. Aunque, se observa que Agosto tambien es el mes mas elegido por ellos para viajar."
      ],
      "metadata": {
        "id": "-jGEXv0PVNuw"
      }
    },
    {
      "cell_type": "code",
      "source": [
        "#Como es el comportamiento entre los meses, de las personas que viajan con hijos\n",
        "cm = base[base['total_child'] == 1].groupby(['arrival_date_month'], as_index=False).size()\n",
        "\n",
        "cm.rename(columns={\"arrival_date_month\": \"Mes\", \"size\": \"Cantidad\"}, inplace=True)\n",
        "\n",
        "plt.figure(figsize=(12,6))\n",
        "sb.lineplot(\n",
        "    data=cm,\n",
        "    x='Mes', y='Cantidad'\n",
        ")\n",
        "plt.title('Con hijos)', fontsize = 16)\n",
        "sb.despine(left=True)"
      ],
      "metadata": {
        "colab": {
          "base_uri": "https://localhost:8080/",
          "height": 412
        },
        "outputId": "be556f9a-7838-4ae3-d362-dfba2ee1a1e2",
        "id": "k8OJz2G6VNuw"
      },
      "execution_count": null,
      "outputs": [
        {
          "output_type": "display_data",
          "data": {
            "text/plain": [
              "<Figure size 864x432 with 1 Axes>"
            ],
            "image/png": "[encoded data removed]"
          },
          "metadata": {}
        }
      ]
    },
    {
      "cell_type": "code",
      "source": [
        "#Como es el comportamiento entre los meses, de las personas que viajan sin hijos\n",
        "cm = base[base['total_child'] == 0].groupby(['arrival_date_month'], as_index=False).size()\n",
        "\n",
        "cm.rename(columns={\"arrival_date_month\": \"Mes\", \"size\": \"Cantidad\"}, inplace=True)\n",
        "\n",
        "plt.figure(figsize=(12,6))\n",
        "sb.lineplot(\n",
        "    data=cm,\n",
        "    x='Mes', y='Cantidad'\n",
        ")\n",
        "plt.title('Sin hijos)', fontsize = 16)\n",
        "sb.despine(left=True)"
      ],
      "metadata": {
        "colab": {
          "base_uri": "https://localhost:8080/",
          "height": 412
        },
        "outputId": "9272ed51-bde7-4847-cc2f-34b2c1f5f53c",
        "id": "0D79Rjr4VNuw"
      },
      "execution_count": null,
      "outputs": [
        {
          "output_type": "display_data",
          "data": {
            "text/plain": [
              "<Figure size 864x432 with 1 Axes>"
            ],
            "image/png": "[encoded data removed]"
          },
          "metadata": {}
        }
      ]
    },
    {
      "cell_type": "markdown",
      "source": [
        "Ya sea en familia, o no, se puede observar un comportamiento similar dado que en ambos casos se observa un pico en Agosto. "
      ],
      "metadata": {
        "id": "Yd8ZBp35VNux"
      }
    },
    {
      "cell_type": "code",
      "source": [
        "def season(x):\n",
        "    if x in [12,1,2]:\n",
        "        return \"Winter\"\n",
        "    if x in[3,4,5]:\n",
        "        return \"Spring\"\n",
        "    if x in[6,7,8]:\n",
        "        return \"Summer\"\n",
        "    if x in[9,10,11]:\n",
        "        return \"Autum\""
      ],
      "metadata": {
        "id": "7SI1Qgn5VNux"
      },
      "execution_count": null,
      "outputs": []
    },
    {
      "cell_type": "code",
      "source": [
        "base['season']=base['arrival_date_month'].apply(season)"
      ],
      "metadata": {
        "id": "jvogQuVGVNux"
      },
      "execution_count": null,
      "outputs": []
    },
    {
      "cell_type": "code",
      "source": [
        "sb.histplot(data=base, x=\"season\", binwidth = 2)"
      ],
      "metadata": {
        "colab": {
          "base_uri": "https://localhost:8080/",
          "height": 302
        },
        "outputId": "c177edf3-b577-4452-c04b-fde70f6f4299",
        "id": "pPfNQ0cxVNux"
      },
      "execution_count": null,
      "outputs": [
        {
          "output_type": "execute_result",
          "data": {
            "text/plain": [
              "<matplotlib.axes._subplots.AxesSubplot at 0x7fb536391c70>"
            ]
          },
          "metadata": {},
          "execution_count": 331
        },
        {
          "output_type": "display_data",
          "data": {
            "text/plain": [
              "<Figure size 432x288 with 1 Axes>"
            ],
            "image/png": "[encoded data removed]"
          },
          "metadata": {}
        }
      ]
    },
    {
      "cell_type": "code",
      "source": [
        "sb.set(rc={'figure.figsize':(14,12)})\n",
        "graph = sb.countplot(x = 'season',hue='hotelobj', data=base)\n",
        "graph.set(title='.')\n",
        "graph.set_xlabel('x', fontsize = 12)\n",
        "graph.set_ylabel('y', fontsize = 12)\n",
        "plt.show()"
      ],
      "metadata": {
        "colab": {
          "base_uri": "https://localhost:8080/",
          "height": 736
        },
        "outputId": "9651b85f-0705-4c3a-802e-f9af13897cd6",
        "id": "NDKuvEZUVNux"
      },
      "execution_count": null,
      "outputs": [
        {
          "output_type": "display_data",
          "data": {
            "text/plain": [
              "<Figure size 1008x864 with 1 Axes>"
            ],
            "image/png": "[encoded data removed]"
          },
          "metadata": {}
        }
      ]
    },
    {
      "cell_type": "code",
      "source": [
        "sb.barplot(x=\"season\", y=\"is_canceled\", data=base)"
      ],
      "metadata": {
        "colab": {
          "base_uri": "https://localhost:8080/",
          "height": 302
        },
        "outputId": "5e806a54-64de-4154-edef-6e394093e515",
        "id": "jeHYWLv7VNux"
      },
      "execution_count": null,
      "outputs": [
        {
          "output_type": "execute_result",
          "data": {
            "text/plain": [
              "<matplotlib.axes._subplots.AxesSubplot at 0x7fb5363dedc0>"
            ]
          },
          "metadata": {},
          "execution_count": 332
        },
        {
          "output_type": "display_data",
          "data": {
            "text/plain": [
              "<Figure size 432x288 with 1 Axes>"
            ],
            "image/png": "[encoded data removed]"
          },
          "metadata": {}
        }
      ]
    },
    {
      "cell_type": "markdown",
      "source": [
        "Al hacer esta division por estacion del anio, me pregunto: como varia el precio de la reserva en funcion a cada estacion?"
      ],
      "metadata": {
        "id": "mOF9uVdrVNux"
      }
    },
    {
      "cell_type": "code",
      "source": [
        "sb.barplot(data = base , x='season' , y ='adr')\n",
        "plt.title(\"Tarifa Diaria por Epoca Estacional\", fontsize=16)\n",
        "plt.xlabel(\"Estacion\", fontsize=16)\n",
        "plt.ylabel(\"Precio\", fontsize=16)\n",
        "plt.show()"
      ],
      "metadata": {
        "colab": {
          "base_uri": "https://localhost:8080/",
          "height": 740
        },
        "outputId": "fa49e52d-1182-4287-c71c-ce154ba26129",
        "id": "r9GdYqHqVNux"
      },
      "execution_count": null,
      "outputs": [
        {
          "output_type": "display_data",
          "data": {
            "text/plain": [
              "<Figure size 1008x864 with 1 Axes>"
            ],
            "image/png": "[encoded data removed]"
          },
          "metadata": {}
        }
      ]
    },
    {
      "cell_type": "markdown",
      "source": [
        "Toma sentido entonces que los precios más altos se encuentran en verano. No es casualidad que verano sea también la época del anio mas solicitada para viajar."
      ],
      "metadata": {
        "id": "eZacdmggVNux"
      }
    },
    {
      "cell_type": "markdown",
      "source": [
        "**Zona** (Continente y País)"
      ],
      "metadata": {
        "id": "dIS2p5uYVNux"
      }
    },
    {
      "cell_type": "code",
      "source": [
        "fig, ax = plt.subplots(figsize=(5,5))\n",
        "sb.set_theme(style=\"darkgrid\")\n",
        "ax = sb.countplot(y=\"continente\", data=base, order = base['continente'].value_counts().index)"
      ],
      "metadata": {
        "colab": {
          "base_uri": "https://localhost:8080/",
          "height": 334
        },
        "outputId": "2bc43c62-fe6d-4e3a-8d52-aefce7618607",
        "id": "5BeGUbLOVNux"
      },
      "execution_count": null,
      "outputs": [
        {
          "output_type": "display_data",
          "data": {
            "text/plain": [
              "<Figure size 360x360 with 1 Axes>"
            ],
            "image/png": "[encoded data removed]"
          },
          "metadata": {
            "needs_background": "light"
          }
        }
      ]
    },
    {
      "cell_type": "code",
      "source": [
        "sb.barplot(x=\"continente\", y=\"is_canceled\", data=base)"
      ],
      "metadata": {
        "colab": {
          "base_uri": "https://localhost:8080/",
          "height": 302
        },
        "outputId": "44f97ef9-89e7-4c76-d647-e2a21eb4375e",
        "id": "3InT40hkVNux"
      },
      "execution_count": null,
      "outputs": [
        {
          "output_type": "execute_result",
          "data": {
            "text/plain": [
              "<matplotlib.axes._subplots.AxesSubplot at 0x7fb53d6b5a60>"
            ]
          },
          "metadata": {},
          "execution_count": 123
        },
        {
          "output_type": "display_data",
          "data": {
            "text/plain": [
              "<Figure size 432x288 with 1 Axes>"
            ],
            "image/png": "[encoded data removed]"
          },
          "metadata": {}
        }
      ]
    },
    {
      "cell_type": "markdown",
      "source": [
        "De dónde viene la mayoría de los viajeros?"
      ],
      "metadata": {
        "id": "cu2Ipw5MVNuy"
      }
    },
    {
      "cell_type": "code",
      "source": [
        "# codigo"
      ],
      "metadata": {
        "id": "Gb1D6tl7VNuy"
      },
      "execution_count": null,
      "outputs": []
    },
    {
      "cell_type": "markdown",
      "source": [
        "Qué tipo de hotel eligen de acuerdo a su país de origen?"
      ],
      "metadata": {
        "id": "QBtavff-VNuy"
      }
    },
    {
      "cell_type": "code",
      "source": [
        "#codigo (dispersion)"
      ],
      "metadata": {
        "id": "tEAuSgnxVNuy"
      },
      "execution_count": null,
      "outputs": []
    },
    {
      "cell_type": "code",
      "source": [
        "sb.set(rc={'figure.figsize':(14,12)})\n",
        "graph = sb.countplot(x = 'continente',hue='hotelobj', data=base)\n",
        "graph.set(title='Tipo de Hotel mas elegido por Continente')\n",
        "graph.set_xlabel('Continente', fontsize = 12)\n",
        "graph.set_ylabel('Cantidad', fontsize = 12)\n",
        "plt.show()"
      ],
      "metadata": {
        "colab": {
          "base_uri": "https://localhost:8080/",
          "height": 736
        },
        "outputId": "a8932d2e-bb1e-4da1-9ca2-e7f6a9fcc0c7",
        "id": "IoFkTlzPVNuy"
      },
      "execution_count": null,
      "outputs": [
        {
          "output_type": "display_data",
          "data": {
            "text/plain": [
              "<Figure size 1008x864 with 1 Axes>"
            ],
            "image/png": "[encoded data removed]"
          },
          "metadata": {}
        }
      ]
    },
    {
      "cell_type": "markdown",
      "source": [
        "Se puede observar un comportamiento similar entre los diferentes continentes a la hora de elegir el tipo de hotel para la estadia. Excepto en la agrupacion \"otros\", que predomina el Resort. A diferencia del resto, en donde todos eligen por sobre el Resort, el hotel en la ciudad. "
      ],
      "metadata": {
        "id": "HlZNwuRoVNuy"
      }
    },
    {
      "cell_type": "markdown",
      "source": [
        "## Correlacion"
      ],
      "metadata": {
        "id": "xKt_ZgdF4Tdj"
      }
    },
    {
      "cell_type": "code",
      "source": [
        "base.corr()"
      ],
      "metadata": {
        "colab": {
          "base_uri": "https://localhost:8080/",
          "height": 1000
        },
        "id": "lr1wheyJ4UkO",
        "outputId": "10647d3c-f6f6-47f6-f752-a794e05fa305"
      },
      "execution_count": 564,
      "outputs": [
        {
          "output_type": "execute_result",
          "data": {
            "text/plain": [
              "                                   hotel  is_canceled  lead_time  \\\n",
              "hotel                           1.000000     0.063589  -0.054688   \n",
              "is_canceled                     0.063589     1.000000   0.159417   \n",
              "lead_time                      -0.054688     0.159417   1.000000   \n",
              "arrival_date_year               0.085704     0.084274   0.133320   \n",
              "arrival_date_month             -0.029046    -0.001905   0.106205   \n",
              "arrival_date_week_number       -0.029333    -0.004109   0.101157   \n",
              "arrival_date_day_of_month      -0.008619     0.004275   0.008933   \n",
              "stays_in_weekend_nights        -0.188274     0.042035   0.208979   \n",
              "stays_in_week_nights           -0.248462     0.061779   0.281622   \n",
              "adults                          0.004247     0.072042   0.126939   \n",
              "children                       -0.033744     0.063964   0.015695   \n",
              "babies                         -0.048305    -0.023222  -0.004287   \n",
              "meal                            0.066134     0.043126   0.025086   \n",
              "market_segment                  0.006942     0.008558   0.226988   \n",
              "distribution_channel            0.063860     0.035383  -0.005776   \n",
              "is_repeated_guest              -0.035694    -0.076179  -0.120816   \n",
              "previous_cancellations          0.018894     0.132014   0.032849   \n",
              "previous_bookings_not_canceled  0.007017    -0.048557  -0.072953   \n",
              "reserved_room_type             -0.216726     0.044131   0.006224   \n",
              "assigned_room_type             -0.274499    -0.059499  -0.042298   \n",
              "booking_changes                -0.056279    -0.105059   0.081489   \n",
              "deposit_type                    0.040093     0.162070   0.169530   \n",
              "agent                          -0.562747    -0.107340  -0.091949   \n",
              "days_in_waiting_list                 NaN          NaN        NaN   \n",
              "customer_type                  -0.036944    -0.137245   0.147427   \n",
              "adr                             0.097932     0.124562  -0.004085   \n",
              "required_car_parking_spaces    -0.209797    -0.188392  -0.082514   \n",
              "total_of_special_requests       0.007986    -0.139760   0.001158   \n",
              "reservation_status              0.065549     0.976380   0.142402   \n",
              "noches_totales                 -0.255572     0.061752   0.288020   \n",
              "familia                        -0.038793     0.047108   0.019536   \n",
              "total_child                    -0.038793     0.047108   0.019536   \n",
              "PRT                            -0.182099     0.151139  -0.084106   \n",
              "GBR                            -0.143692    -0.080327   0.151497   \n",
              "FRA                             0.160974    -0.065580  -0.033386   \n",
              "ESP                            -0.055671    -0.013129  -0.106743   \n",
              "DEU                             0.115955    -0.052320   0.067956   \n",
              "ITA                             0.101326     0.030695   0.001286   \n",
              "IRL                            -0.106983    -0.028466   0.068659   \n",
              "BEL                             0.064112    -0.030893   0.020827   \n",
              "BRA                             0.058090     0.030209  -0.001870   \n",
              "NLD                             0.044493    -0.034210  -0.004422   \n",
              "\n",
              "                                arrival_date_year  arrival_date_month  \\\n",
              "hotel                                    0.085704           -0.029046   \n",
              "is_canceled                              0.084274           -0.001905   \n",
              "lead_time                                0.133320            0.106205   \n",
              "arrival_date_year                        1.000000           -0.496844   \n",
              "arrival_date_month                      -0.496844            1.000000   \n",
              "arrival_date_week_number                -0.511672            0.994925   \n",
              "arrival_date_day_of_month               -0.010886           -0.002461   \n",
              "stays_in_weekend_nights                 -0.003089            0.022200   \n",
              "stays_in_week_nights                    -0.007157            0.029790   \n",
              "adults                                   0.035953            0.021568   \n",
              "children                                 0.044300            0.011118   \n",
              "babies                                  -0.026254            0.017092   \n",
              "meal                                     0.094815           -0.016038   \n",
              "market_segment                          -0.069832            0.021380   \n",
              "distribution_channel                    -0.007604            0.005859   \n",
              "is_repeated_guest                        0.031245           -0.028944   \n",
              "previous_cancellations                  -0.126357            0.053769   \n",
              "previous_bookings_not_canceled           0.027080           -0.013545   \n",
              "reserved_room_type                       0.057191            0.002793   \n",
              "assigned_room_type                      -0.006884            0.005974   \n",
              "booking_changes                          0.008022            0.017264   \n",
              "deposit_type                            -0.021400            0.000170   \n",
              "agent                                   -0.045554            0.010411   \n",
              "days_in_waiting_list                          NaN                 NaN   \n",
              "customer_type                           -0.147041            0.041671   \n",
              "adr                                      0.191428            0.103512   \n",
              "required_car_parking_spaces             -0.042170            0.008298   \n",
              "total_of_special_requests                0.053616            0.045933   \n",
              "reservation_status                       0.076672           -0.006853   \n",
              "noches_totales                          -0.006485            0.030503   \n",
              "familia                                  0.036487            0.018393   \n",
              "total_child                              0.036487            0.018393   \n",
              "PRT                                     -0.177852            0.030099   \n",
              "GBR                                      0.056875           -0.008720   \n",
              "FRA                                      0.032828           -0.011747   \n",
              "ESP                                     -0.033209            0.025448   \n",
              "DEU                                      0.051421           -0.018154   \n",
              "ITA                                      0.010066           -0.001199   \n",
              "IRL                                      0.018889           -0.001132   \n",
              "BEL                                      0.031944           -0.003561   \n",
              "BRA                                      0.040240           -0.017059   \n",
              "NLD                                      0.015588           -0.011889   \n",
              "\n",
              "                                arrival_date_week_number  \\\n",
              "hotel                                          -0.029333   \n",
              "is_canceled                                    -0.004109   \n",
              "lead_time                                       0.101157   \n",
              "arrival_date_year                              -0.511672   \n",
              "arrival_date_month                              0.994925   \n",
              "arrival_date_week_number                        1.000000   \n",
              "arrival_date_day_of_month                       0.091841   \n",
              "stays_in_weekend_nights                         0.021916   \n",
              "stays_in_week_nights                            0.025941   \n",
              "adults                                          0.019082   \n",
              "children                                        0.010740   \n",
              "babies                                          0.017231   \n",
              "meal                                           -0.018732   \n",
              "market_segment                                  0.022113   \n",
              "distribution_channel                            0.005680   \n",
              "is_repeated_guest                              -0.028972   \n",
              "previous_cancellations                          0.053112   \n",
              "previous_bookings_not_canceled                 -0.013019   \n",
              "reserved_room_type                              0.002486   \n",
              "assigned_room_type                              0.006405   \n",
              "booking_changes                                 0.017035   \n",
              "deposit_type                                    0.000631   \n",
              "agent                                           0.012168   \n",
              "days_in_waiting_list                                 NaN   \n",
              "customer_type                                   0.042028   \n",
              "adr                                             0.097999   \n",
              "required_car_parking_spaces                     0.010197   \n",
              "total_of_special_requests                       0.043091   \n",
              "reservation_status                             -0.008655   \n",
              "noches_totales                                  0.027531   \n",
              "familia                                         0.018262   \n",
              "total_child                                     0.018262   \n",
              "PRT                                             0.032208   \n",
              "GBR                                            -0.009893   \n",
              "FRA                                            -0.012838   \n",
              "ESP                                             0.024893   \n",
              "DEU                                            -0.017823   \n",
              "ITA                                            -0.000729   \n",
              "IRL                                            -0.002186   \n",
              "BEL                                            -0.003752   \n",
              "BRA                                            -0.016754   \n",
              "NLD                                            -0.011097   \n",
              "\n",
              "                                arrival_date_day_of_month  \\\n",
              "hotel                                           -0.008619   \n",
              "is_canceled                                      0.004275   \n",
              "lead_time                                        0.008933   \n",
              "arrival_date_year                               -0.010886   \n",
              "arrival_date_month                              -0.002461   \n",
              "arrival_date_week_number                         0.091841   \n",
              "arrival_date_day_of_month                        1.000000   \n",
              "stays_in_weekend_nights                         -0.019760   \n",
              "stays_in_week_nights                            -0.031316   \n",
              "adults                                          -0.001238   \n",
              "children                                         0.014164   \n",
              "babies                                          -0.000334   \n",
              "meal                                            -0.008776   \n",
              "market_segment                                   0.001319   \n",
              "distribution_channel                            -0.020670   \n",
              "is_repeated_guest                               -0.007936   \n",
              "previous_cancellations                          -0.004363   \n",
              "previous_bookings_not_canceled                  -0.000763   \n",
              "reserved_room_type                               0.019739   \n",
              "assigned_room_type                               0.015202   \n",
              "booking_changes                                  0.002198   \n",
              "deposit_type                                     0.007122   \n",
              "agent                                            0.012740   \n",
              "days_in_waiting_list                                  NaN   \n",
              "customer_type                                   -0.000725   \n",
              "adr                                              0.022979   \n",
              "required_car_parking_spaces                      0.012148   \n",
              "total_of_special_requests                       -0.003991   \n",
              "reservation_status                               0.004599   \n",
              "noches_totales                                  -0.030721   \n",
              "familia                                          0.014753   \n",
              "total_child                                      0.014753   \n",
              "PRT                                              0.009060   \n",
              "GBR                                             -0.002716   \n",
              "FRA                                             -0.017426   \n",
              "ESP                                             -0.000770   \n",
              "DEU                                              0.002073   \n",
              "ITA                                              0.006287   \n",
              "IRL                                             -0.004259   \n",
              "BEL                                              0.000016   \n",
              "BRA                                              0.004945   \n",
              "NLD                                              0.003932   \n",
              "\n",
              "                                stays_in_weekend_nights  stays_in_week_nights  \\\n",
              "hotel                                         -0.188274             -0.248462   \n",
              "is_canceled                                    0.042035              0.061779   \n",
              "lead_time                                      0.208979              0.281622   \n",
              "arrival_date_year                             -0.003089             -0.007157   \n",
              "arrival_date_month                             0.022200              0.029790   \n",
              "arrival_date_week_number                       0.021916              0.025941   \n",
              "arrival_date_day_of_month                     -0.019760             -0.031316   \n",
              "stays_in_weekend_nights                        1.000000              0.546399   \n",
              "stays_in_week_nights                           0.546399              1.000000   \n",
              "adults                                         0.079020              0.085539   \n",
              "children                                       0.024738              0.024811   \n",
              "babies                                         0.014621              0.017882   \n",
              "meal                                           0.032129              0.030223   \n",
              "market_segment                                 0.056367              0.047707   \n",
              "distribution_channel                          -0.033261             -0.049304   \n",
              "is_repeated_guest                             -0.083359             -0.082425   \n",
              "previous_cancellations                        -0.019552             -0.018075   \n",
              "previous_bookings_not_canceled                -0.051172             -0.053684   \n",
              "reserved_room_type                             0.117468              0.150142   \n",
              "assigned_room_type                             0.055720              0.080637   \n",
              "booking_changes                                0.019784              0.045573   \n",
              "deposit_type                                  -0.034532             -0.036965   \n",
              "agent                                         -0.016494              0.019604   \n",
              "days_in_waiting_list                                NaN                   NaN   \n",
              "customer_type                                 -0.025002             -0.008816   \n",
              "adr                                            0.025636              0.038284   \n",
              "required_car_parking_spaces                   -0.040319             -0.039577   \n",
              "total_of_special_requests                      0.012793              0.013832   \n",
              "reservation_status                             0.042387              0.060440   \n",
              "noches_totales                                 0.782152              0.949219   \n",
              "familia                                        0.028766              0.029210   \n",
              "total_child                                    0.028766              0.029210   \n",
              "PRT                                           -0.101279             -0.089622   \n",
              "GBR                                            0.133899              0.153835   \n",
              "FRA                                           -0.004051             -0.012661   \n",
              "ESP                                           -0.053962             -0.056385   \n",
              "DEU                                            0.011682              0.006013   \n",
              "ITA                                           -0.014125             -0.026052   \n",
              "IRL                                            0.080912              0.098422   \n",
              "BEL                                            0.005710             -0.002967   \n",
              "BRA                                            0.001575             -0.014002   \n",
              "NLD                                           -0.001171             -0.002632   \n",
              "\n",
              "                                  adults  ...       PRT       GBR       FRA  \\\n",
              "hotel                           0.004247  ... -0.182099 -0.143692  0.160974   \n",
              "is_canceled                     0.072042  ...  0.151139 -0.080327 -0.065580   \n",
              "lead_time                       0.126939  ... -0.084106  0.151497 -0.033386   \n",
              "arrival_date_year               0.035953  ... -0.177852  0.056875  0.032828   \n",
              "arrival_date_month              0.021568  ...  0.030099 -0.008720 -0.011747   \n",
              "arrival_date_week_number        0.019082  ...  0.032208 -0.009893 -0.012838   \n",
              "arrival_date_day_of_month      -0.001238  ...  0.009060 -0.002716 -0.017426   \n",
              "stays_in_weekend_nights         0.079020  ... -0.101279  0.133899 -0.004051   \n",
              "stays_in_week_nights            0.085539  ... -0.089622  0.153835 -0.012661   \n",
              "adults                          1.000000  ... -0.109505  0.020579  0.044329   \n",
              "children                        0.047887  ... -0.012759 -0.020434 -0.005797   \n",
              "babies                          0.016647  ...  0.035824 -0.010947 -0.006208   \n",
              "meal                            0.008626  ... -0.065515  0.018433  0.013999   \n",
              "market_segment                 -0.052458  ... -0.016638  0.095683 -0.010122   \n",
              "distribution_channel           -0.133062  ...  0.001599  0.010680 -0.003326   \n",
              "is_repeated_guest              -0.160480  ...  0.209453 -0.050011 -0.044649   \n",
              "previous_cancellations         -0.058467  ...  0.184192 -0.045662 -0.039272   \n",
              "previous_bookings_not_canceled -0.113995  ...  0.125052 -0.032647 -0.027443   \n",
              "reserved_room_type              0.219768  ... -0.047707  0.054121 -0.021395   \n",
              "assigned_room_type              0.168513  ... -0.002490  0.042218 -0.013513   \n",
              "booking_changes                -0.043037  ...  0.002804  0.012247 -0.014721   \n",
              "deposit_type                   -0.034611  ...  0.160797 -0.034378 -0.038492   \n",
              "agent                          -0.160853  ...  0.309824  0.008884 -0.136677   \n",
              "days_in_waiting_list                 NaN  ...       NaN       NaN       NaN   \n",
              "customer_type                  -0.100345  ...  0.071199  0.040822 -0.038937   \n",
              "adr                             0.243141  ... -0.113760 -0.074813  0.032866   \n",
              "required_car_parking_spaces     0.007235  ...  0.067602 -0.041951 -0.025186   \n",
              "total_of_special_requests       0.108604  ... -0.074706 -0.008930  0.027377   \n",
              "reservation_status              0.061131  ...  0.156839 -0.081674 -0.067114   \n",
              "noches_totales                  0.093322  ... -0.104721  0.164747 -0.010941   \n",
              "familia                         0.061239  ... -0.001411 -0.027255 -0.004467   \n",
              "total_child                     0.061239  ... -0.001411 -0.027255 -0.004467   \n",
              "PRT                            -0.109505  ...  1.000000 -0.244816 -0.220271   \n",
              "GBR                             0.020579  ... -0.244816  1.000000 -0.128937   \n",
              "FRA                             0.044329  ... -0.220271 -0.128937  1.000000   \n",
              "ESP                             0.034725  ... -0.196030 -0.114747 -0.103243   \n",
              "DEU                             0.010275  ... -0.169632 -0.099295 -0.089340   \n",
              "ITA                             0.026282  ... -0.125555 -0.073494 -0.066126   \n",
              "IRL                             0.020544  ... -0.125953 -0.073727 -0.066335   \n",
              "BEL                             0.021883  ... -0.102935 -0.060254 -0.054213   \n",
              "BRA                             0.030033  ... -0.099947 -0.058504 -0.052639   \n",
              "NLD                             0.001642  ... -0.098037 -0.057387 -0.051633   \n",
              "\n",
              "                                     ESP       DEU       ITA       IRL  \\\n",
              "hotel                          -0.055671  0.115955  0.101326 -0.106983   \n",
              "is_canceled                    -0.013129 -0.052320  0.030695 -0.028466   \n",
              "lead_time                      -0.106743  0.067956  0.001286  0.068659   \n",
              "arrival_date_year              -0.033209  0.051421  0.010066  0.018889   \n",
              "arrival_date_month              0.025448 -0.018154 -0.001199 -0.001132   \n",
              "arrival_date_week_number        0.024893 -0.017823 -0.000729 -0.002186   \n",
              "arrival_date_day_of_month      -0.000770  0.002073  0.006287 -0.004259   \n",
              "stays_in_weekend_nights        -0.053962  0.011682 -0.014125  0.080912   \n",
              "stays_in_week_nights           -0.056385  0.006013 -0.026052  0.098422   \n",
              "adults                          0.034725  0.010275  0.026282  0.020544   \n",
              "children                        0.036309 -0.031195  0.001936 -0.016317   \n",
              "babies                          0.020773 -0.018843 -0.011186 -0.006277   \n",
              "meal                            0.035672  0.012869  0.033808 -0.023446   \n",
              "market_segment                 -0.026433  0.028335  0.004269 -0.017573   \n",
              "distribution_channel           -0.021585  0.012616  0.017093 -0.034238   \n",
              "is_repeated_guest              -0.038441 -0.040501 -0.022651 -0.022393   \n",
              "previous_cancellations         -0.035752 -0.033470 -0.023444 -0.023069   \n",
              "previous_bookings_not_canceled -0.026162 -0.024174 -0.016538 -0.017170   \n",
              "reserved_room_type              0.012871 -0.032938 -0.016666  0.033956   \n",
              "assigned_room_type              0.017198 -0.046228 -0.024419  0.022527   \n",
              "booking_changes                 0.003001 -0.016214  0.000794 -0.007278   \n",
              "deposit_type                   -0.031177 -0.024894 -0.022564 -0.021478   \n",
              "agent                          -0.004430 -0.109658 -0.086394  0.021166   \n",
              "days_in_waiting_list                 NaN       NaN       NaN       NaN   \n",
              "customer_type                  -0.032990 -0.005945  0.005929 -0.023265   \n",
              "adr                             0.095505 -0.009932  0.032751 -0.028146   \n",
              "required_car_parking_spaces     0.089569 -0.035256 -0.028899 -0.038625   \n",
              "total_of_special_requests       0.025972 -0.005773 -0.002452  0.023672   \n",
              "reservation_status             -0.016696 -0.054387  0.026469 -0.030370   \n",
              "noches_totales                 -0.062219  0.008862 -0.024688  0.103617   \n",
              "familia                         0.043145 -0.033694  0.001660 -0.020585   \n",
              "total_child                     0.043145 -0.033694  0.001660 -0.020585   \n",
              "PRT                            -0.196030 -0.169632 -0.125555 -0.125953   \n",
              "GBR                            -0.114747 -0.099295 -0.073494 -0.073727   \n",
              "FRA                            -0.103243 -0.089340 -0.066126 -0.066335   \n",
              "ESP                             1.000000 -0.079508 -0.058849 -0.059035   \n",
              "DEU                            -0.079508  1.000000 -0.050924 -0.051085   \n",
              "ITA                            -0.058849 -0.050924  1.000000 -0.037811   \n",
              "IRL                            -0.059035 -0.051085 -0.037811  1.000000   \n",
              "BEL                            -0.048247 -0.041750 -0.030901 -0.030999   \n",
              "BRA                            -0.046846 -0.040538 -0.030004 -0.030099   \n",
              "NLD                            -0.045951 -0.039763 -0.029431 -0.029524   \n",
              "\n",
              "                                     BEL       BRA       NLD  \n",
              "hotel                           0.064112  0.058090  0.044493  \n",
              "is_canceled                    -0.030893  0.030209 -0.034210  \n",
              "lead_time                       0.020827 -0.001870 -0.004422  \n",
              "arrival_date_year               0.031944  0.040240  0.015588  \n",
              "arrival_date_month             -0.003561 -0.017059 -0.011889  \n",
              "arrival_date_week_number       -0.003752 -0.016754 -0.011097  \n",
              "arrival_date_day_of_month       0.000016  0.004945  0.003932  \n",
              "stays_in_weekend_nights         0.005710  0.001575 -0.001171  \n",
              "stays_in_week_nights           -0.002967 -0.014002 -0.002632  \n",
              "adults                          0.021883  0.030033  0.001642  \n",
              "children                       -0.002523  0.014850 -0.000030  \n",
              "babies                         -0.008056  0.001197 -0.007673  \n",
              "meal                           -0.012358  0.008831 -0.007804  \n",
              "market_segment                 -0.015019 -0.020407 -0.007039  \n",
              "distribution_channel           -0.003904  0.001587  0.007911  \n",
              "is_repeated_guest              -0.022079 -0.022607 -0.020530  \n",
              "previous_cancellations         -0.019623 -0.019563 -0.019751  \n",
              "previous_bookings_not_canceled -0.014213 -0.013638 -0.013280  \n",
              "reserved_room_type             -0.003157 -0.003907 -0.001787  \n",
              "assigned_room_type             -0.011069 -0.013206 -0.011961  \n",
              "booking_changes                -0.008406  0.004244 -0.000887  \n",
              "deposit_type                   -0.015233 -0.017473 -0.015643  \n",
              "agent                          -0.046860 -0.049844 -0.048592  \n",
              "days_in_waiting_list                 NaN       NaN       NaN  \n",
              "customer_type                  -0.010686 -0.024076 -0.011956  \n",
              "adr                             0.023819  0.016826  0.004506  \n",
              "required_car_parking_spaces    -0.011054 -0.007169  0.002400  \n",
              "total_of_special_requests       0.029538  0.024364  0.018299  \n",
              "reservation_status             -0.031123  0.028986 -0.035017  \n",
              "noches_totales                 -0.000063 -0.009825 -0.002398  \n",
              "familia                        -0.004155  0.020952 -0.003765  \n",
              "total_child                    -0.004155  0.020952 -0.003765  \n",
              "PRT                            -0.102935 -0.099947 -0.098037  \n",
              "GBR                            -0.060254 -0.058504 -0.057387  \n",
              "FRA                            -0.054213 -0.052639 -0.051633  \n",
              "ESP                            -0.048247 -0.046846 -0.045951  \n",
              "DEU                            -0.041750 -0.040538 -0.039763  \n",
              "ITA                            -0.030901 -0.030004 -0.029431  \n",
              "IRL                            -0.030999 -0.030099 -0.029524  \n",
              "BEL                             1.000000 -0.024599 -0.024129  \n",
              "BRA                            -0.024599  1.000000 -0.023428  \n",
              "NLD                            -0.024129 -0.023428  1.000000  \n",
              "\n",
              "[42 rows x 42 columns]"
            ],
            "text/html": [
              "\n",
              "  <div id=\"df-d56a9950-7b9f-4828-91c6-e84aba37c59c\">\n",
              "    <div class=\"colab-df-container\">\n",
              "      <div>\n",
              "<style scoped>\n",
              "    .dataframe tbody tr th:only-of-type {\n",
              "        vertical-align: middle;\n",
              "    }\n",
              "\n",
              "    .dataframe tbody tr th {\n",
              "        vertical-align: top;\n",
              "    }\n",
              "\n",
              "    .dataframe thead th {\n",
              "        text-align: right;\n",
              "    }\n",
              "</style>\n",
              "<table border=\"1\" class=\"dataframe\">\n",
              "  <thead>\n",
              "    <tr style=\"text-align: right;\">\n",
              "      <th></th>\n",
              "      <th>hotel</th>\n",
              "      <th>is_canceled</th>\n",
              "      <th>lead_time</th>\n",
              "      <th>arrival_date_year</th>\n",
              "      <th>arrival_date_month</th>\n",
              "      <th>arrival_date_week_number</th>\n",
              "      <th>arrival_date_day_of_month</th>\n",
              "      <th>stays_in_weekend_nights</th>\n",
              "      <th>stays_in_week_nights</th>\n",
              "      <th>adults</th>\n",
              "      <th>...</th>\n",
              "      <th>PRT</th>\n",
              "      <th>GBR</th>\n",
              "      <th>FRA</th>\n",
              "      <th>ESP</th>\n",
              "      <th>DEU</th>\n",
              "      <th>ITA</th>\n",
              "      <th>IRL</th>\n",
              "      <th>BEL</th>\n",
              "      <th>BRA</th>\n",
              "      <th>NLD</th>\n",
              "    </tr>\n",
              "  </thead>\n",
              "  <tbody>\n",
              "    <tr>\n",
              "      <th>hotel</th>\n",
              "      <td>1.000000</td>\n",
              "      <td>0.063589</td>\n",
              "      <td>-0.054688</td>\n",
              "      <td>0.085704</td>\n",
              "      <td>-0.029046</td>\n",
              "      <td>-0.029333</td>\n",
              "      <td>-0.008619</td>\n",
              "      <td>-0.188274</td>\n",
              "      <td>-0.248462</td>\n",
              "      <td>0.004247</td>\n",
              "      <td>...</td>\n",
              "      <td>-0.182099</td>\n",
              "      <td>-0.143692</td>\n",
              "      <td>0.160974</td>\n",
              "      <td>-0.055671</td>\n",
              "      <td>0.115955</td>\n",
              "      <td>0.101326</td>\n",
              "      <td>-0.106983</td>\n",
              "      <td>0.064112</td>\n",
              "      <td>0.058090</td>\n",
              "      <td>0.044493</td>\n",
              "    </tr>\n",
              "    <tr>\n",
              "      <th>is_canceled</th>\n",
              "      <td>0.063589</td>\n",
              "      <td>1.000000</td>\n",
              "      <td>0.159417</td>\n",
              "      <td>0.084274</td>\n",
              "      <td>-0.001905</td>\n",
              "      <td>-0.004109</td>\n",
              "      <td>0.004275</td>\n",
              "      <td>0.042035</td>\n",
              "      <td>0.061779</td>\n",
              "      <td>0.072042</td>\n",
              "      <td>...</td>\n",
              "      <td>0.151139</td>\n",
              "      <td>-0.080327</td>\n",
              "      <td>-0.065580</td>\n",
              "      <td>-0.013129</td>\n",
              "      <td>-0.052320</td>\n",
              "      <td>0.030695</td>\n",
              "      <td>-0.028466</td>\n",
              "      <td>-0.030893</td>\n",
              "      <td>0.030209</td>\n",
              "      <td>-0.034210</td>\n",
              "    </tr>\n",
              "    <tr>\n",
              "      <th>lead_time</th>\n",
              "      <td>-0.054688</td>\n",
              "      <td>0.159417</td>\n",
              "      <td>1.000000</td>\n",
              "      <td>0.133320</td>\n",
              "      <td>0.106205</td>\n",
              "      <td>0.101157</td>\n",
              "      <td>0.008933</td>\n",
              "      <td>0.208979</td>\n",
              "      <td>0.281622</td>\n",
              "      <td>0.126939</td>\n",
              "      <td>...</td>\n",
              "      <td>-0.084106</td>\n",
              "      <td>0.151497</td>\n",
              "      <td>-0.033386</td>\n",
              "      <td>-0.106743</td>\n",
              "      <td>0.067956</td>\n",
              "      <td>0.001286</td>\n",
              "      <td>0.068659</td>\n",
              "      <td>0.020827</td>\n",
              "      <td>-0.001870</td>\n",
              "      <td>-0.004422</td>\n",
              "    </tr>\n",
              "    <tr>\n",
              "      <th>arrival_date_year</th>\n",
              "      <td>0.085704</td>\n",
              "      <td>0.084274</td>\n",
              "      <td>0.133320</td>\n",
              "      <td>1.000000</td>\n",
              "      <td>-0.496844</td>\n",
              "      <td>-0.511672</td>\n",
              "      <td>-0.010886</td>\n",
              "      <td>-0.003089</td>\n",
              "      <td>-0.007157</td>\n",
              "      <td>0.035953</td>\n",
              "      <td>...</td>\n",
              "      <td>-0.177852</td>\n",
              "      <td>0.056875</td>\n",
              "      <td>0.032828</td>\n",
              "      <td>-0.033209</td>\n",
              "      <td>0.051421</td>\n",
              "      <td>0.010066</td>\n",
              "      <td>0.018889</td>\n",
              "      <td>0.031944</td>\n",
              "      <td>0.040240</td>\n",
              "      <td>0.015588</td>\n",
              "    </tr>\n",
              "    <tr>\n",
              "      <th>arrival_date_month</th>\n",
              "      <td>-0.029046</td>\n",
              "      <td>-0.001905</td>\n",
              "      <td>0.106205</td>\n",
              "      <td>-0.496844</td>\n",
              "      <td>1.000000</td>\n",
              "      <td>0.994925</td>\n",
              "      <td>-0.002461</td>\n",
              "      <td>0.022200</td>\n",
              "      <td>0.029790</td>\n",
              "      <td>0.021568</td>\n",
              "      <td>...</td>\n",
              "      <td>0.030099</td>\n",
              "      <td>-0.008720</td>\n",
              "      <td>-0.011747</td>\n",
              "      <td>0.025448</td>\n",
              "      <td>-0.018154</td>\n",
              "      <td>-0.001199</td>\n",
              "      <td>-0.001132</td>\n",
              "      <td>-0.003561</td>\n",
              "      <td>-0.017059</td>\n",
              "      <td>-0.011889</td>\n",
              "    </tr>\n",
              "    <tr>\n",
              "      <th>arrival_date_week_number</th>\n",
              "      <td>-0.029333</td>\n",
              "      <td>-0.004109</td>\n",
              "      <td>0.101157</td>\n",
              "      <td>-0.511672</td>\n",
              "      <td>0.994925</td>\n",
              "      <td>1.000000</td>\n",
              "      <td>0.091841</td>\n",
              "      <td>0.021916</td>\n",
              "      <td>0.025941</td>\n",
              "      <td>0.019082</td>\n",
              "      <td>...</td>\n",
              "      <td>0.032208</td>\n",
              "      <td>-0.009893</td>\n",
              "      <td>-0.012838</td>\n",
              "      <td>0.024893</td>\n",
              "      <td>-0.017823</td>\n",
              "      <td>-0.000729</td>\n",
              "      <td>-0.002186</td>\n",
              "      <td>-0.003752</td>\n",
              "      <td>-0.016754</td>\n",
              "      <td>-0.011097</td>\n",
              "    </tr>\n",
              "    <tr>\n",
              "      <th>arrival_date_day_of_month</th>\n",
              "      <td>-0.008619</td>\n",
              "      <td>0.004275</td>\n",
              "      <td>0.008933</td>\n",
              "      <td>-0.010886</td>\n",
              "      <td>-0.002461</td>\n",
              "      <td>0.091841</td>\n",
              "      <td>1.000000</td>\n",
              "      <td>-0.019760</td>\n",
              "      <td>-0.031316</td>\n",
              "      <td>-0.001238</td>\n",
              "      <td>...</td>\n",
              "      <td>0.009060</td>\n",
              "      <td>-0.002716</td>\n",
              "      <td>-0.017426</td>\n",
              "      <td>-0.000770</td>\n",
              "      <td>0.002073</td>\n",
              "      <td>0.006287</td>\n",
              "      <td>-0.004259</td>\n",
              "      <td>0.000016</td>\n",
              "      <td>0.004945</td>\n",
              "      <td>0.003932</td>\n",
              "    </tr>\n",
              "    <tr>\n",
              "      <th>stays_in_weekend_nights</th>\n",
              "      <td>-0.188274</td>\n",
              "      <td>0.042035</td>\n",
              "      <td>0.208979</td>\n",
              "      <td>-0.003089</td>\n",
              "      <td>0.022200</td>\n",
              "      <td>0.021916</td>\n",
              "      <td>-0.019760</td>\n",
              "      <td>1.000000</td>\n",
              "      <td>0.546399</td>\n",
              "      <td>0.079020</td>\n",
              "      <td>...</td>\n",
              "      <td>-0.101279</td>\n",
              "      <td>0.133899</td>\n",
              "      <td>-0.004051</td>\n",
              "      <td>-0.053962</td>\n",
              "      <td>0.011682</td>\n",
              "      <td>-0.014125</td>\n",
              "      <td>0.080912</td>\n",
              "      <td>0.005710</td>\n",
              "      <td>0.001575</td>\n",
              "      <td>-0.001171</td>\n",
              "    </tr>\n",
              "    <tr>\n",
              "      <th>stays_in_week_nights</th>\n",
              "      <td>-0.248462</td>\n",
              "      <td>0.061779</td>\n",
              "      <td>0.281622</td>\n",
              "      <td>-0.007157</td>\n",
              "      <td>0.029790</td>\n",
              "      <td>0.025941</td>\n",
              "      <td>-0.031316</td>\n",
              "      <td>0.546399</td>\n",
              "      <td>1.000000</td>\n",
              "      <td>0.085539</td>\n",
              "      <td>...</td>\n",
              "      <td>-0.089622</td>\n",
              "      <td>0.153835</td>\n",
              "      <td>-0.012661</td>\n",
              "      <td>-0.056385</td>\n",
              "      <td>0.006013</td>\n",
              "      <td>-0.026052</td>\n",
              "      <td>0.098422</td>\n",
              "      <td>-0.002967</td>\n",
              "      <td>-0.014002</td>\n",
              "      <td>-0.002632</td>\n",
              "    </tr>\n",
              "    <tr>\n",
              "      <th>adults</th>\n",
              "      <td>0.004247</td>\n",
              "      <td>0.072042</td>\n",
              "      <td>0.126939</td>\n",
              "      <td>0.035953</td>\n",
              "      <td>0.021568</td>\n",
              "      <td>0.019082</td>\n",
              "      <td>-0.001238</td>\n",
              "      <td>0.079020</td>\n",
              "      <td>0.085539</td>\n",
              "      <td>1.000000</td>\n",
              "      <td>...</td>\n",
              "      <td>-0.109505</td>\n",
              "      <td>0.020579</td>\n",
              "      <td>0.044329</td>\n",
              "      <td>0.034725</td>\n",
              "      <td>0.010275</td>\n",
              "      <td>0.026282</td>\n",
              "      <td>0.020544</td>\n",
              "      <td>0.021883</td>\n",
              "      <td>0.030033</td>\n",
              "      <td>0.001642</td>\n",
              "    </tr>\n",
              "    <tr>\n",
              "      <th>children</th>\n",
              "      <td>-0.033744</td>\n",
              "      <td>0.063964</td>\n",
              "      <td>0.015695</td>\n",
              "      <td>0.044300</td>\n",
              "      <td>0.011118</td>\n",
              "      <td>0.010740</td>\n",
              "      <td>0.014164</td>\n",
              "      <td>0.024738</td>\n",
              "      <td>0.024811</td>\n",
              "      <td>0.047887</td>\n",
              "      <td>...</td>\n",
              "      <td>-0.012759</td>\n",
              "      <td>-0.020434</td>\n",
              "      <td>-0.005797</td>\n",
              "      <td>0.036309</td>\n",
              "      <td>-0.031195</td>\n",
              "      <td>0.001936</td>\n",
              "      <td>-0.016317</td>\n",
              "      <td>-0.002523</td>\n",
              "      <td>0.014850</td>\n",
              "      <td>-0.000030</td>\n",
              "    </tr>\n",
              "    <tr>\n",
              "      <th>babies</th>\n",
              "      <td>-0.048305</td>\n",
              "      <td>-0.023222</td>\n",
              "      <td>-0.004287</td>\n",
              "      <td>-0.026254</td>\n",
              "      <td>0.017092</td>\n",
              "      <td>0.017231</td>\n",
              "      <td>-0.000334</td>\n",
              "      <td>0.014621</td>\n",
              "      <td>0.017882</td>\n",
              "      <td>0.016647</td>\n",
              "      <td>...</td>\n",
              "      <td>0.035824</td>\n",
              "      <td>-0.010947</td>\n",
              "      <td>-0.006208</td>\n",
              "      <td>0.020773</td>\n",
              "      <td>-0.018843</td>\n",
              "      <td>-0.011186</td>\n",
              "      <td>-0.006277</td>\n",
              "      <td>-0.008056</td>\n",
              "      <td>0.001197</td>\n",
              "      <td>-0.007673</td>\n",
              "    </tr>\n",
              "    <tr>\n",
              "      <th>meal</th>\n",
              "      <td>0.066134</td>\n",
              "      <td>0.043126</td>\n",
              "      <td>0.025086</td>\n",
              "      <td>0.094815</td>\n",
              "      <td>-0.016038</td>\n",
              "      <td>-0.018732</td>\n",
              "      <td>-0.008776</td>\n",
              "      <td>0.032129</td>\n",
              "      <td>0.030223</td>\n",
              "      <td>0.008626</td>\n",
              "      <td>...</td>\n",
              "      <td>-0.065515</td>\n",
              "      <td>0.018433</td>\n",
              "      <td>0.013999</td>\n",
              "      <td>0.035672</td>\n",
              "      <td>0.012869</td>\n",
              "      <td>0.033808</td>\n",
              "      <td>-0.023446</td>\n",
              "      <td>-0.012358</td>\n",
              "      <td>0.008831</td>\n",
              "      <td>-0.007804</td>\n",
              "    </tr>\n",
              "    <tr>\n",
              "      <th>market_segment</th>\n",
              "      <td>0.006942</td>\n",
              "      <td>0.008558</td>\n",
              "      <td>0.226988</td>\n",
              "      <td>-0.069832</td>\n",
              "      <td>0.021380</td>\n",
              "      <td>0.022113</td>\n",
              "      <td>0.001319</td>\n",
              "      <td>0.056367</td>\n",
              "      <td>0.047707</td>\n",
              "      <td>-0.052458</td>\n",
              "      <td>...</td>\n",
              "      <td>-0.016638</td>\n",
              "      <td>0.095683</td>\n",
              "      <td>-0.010122</td>\n",
              "      <td>-0.026433</td>\n",
              "      <td>0.028335</td>\n",
              "      <td>0.004269</td>\n",
              "      <td>-0.017573</td>\n",
              "      <td>-0.015019</td>\n",
              "      <td>-0.020407</td>\n",
              "      <td>-0.007039</td>\n",
              "    </tr>\n",
              "    <tr>\n",
              "      <th>distribution_channel</th>\n",
              "      <td>0.063860</td>\n",
              "      <td>0.035383</td>\n",
              "      <td>-0.005776</td>\n",
              "      <td>-0.007604</td>\n",
              "      <td>0.005859</td>\n",
              "      <td>0.005680</td>\n",
              "      <td>-0.020670</td>\n",
              "      <td>-0.033261</td>\n",
              "      <td>-0.049304</td>\n",
              "      <td>-0.133062</td>\n",
              "      <td>...</td>\n",
              "      <td>0.001599</td>\n",
              "      <td>0.010680</td>\n",
              "      <td>-0.003326</td>\n",
              "      <td>-0.021585</td>\n",
              "      <td>0.012616</td>\n",
              "      <td>0.017093</td>\n",
              "      <td>-0.034238</td>\n",
              "      <td>-0.003904</td>\n",
              "      <td>0.001587</td>\n",
              "      <td>0.007911</td>\n",
              "    </tr>\n",
              "    <tr>\n",
              "      <th>is_repeated_guest</th>\n",
              "      <td>-0.035694</td>\n",
              "      <td>-0.076179</td>\n",
              "      <td>-0.120816</td>\n",
              "      <td>0.031245</td>\n",
              "      <td>-0.028944</td>\n",
              "      <td>-0.028972</td>\n",
              "      <td>-0.007936</td>\n",
              "      <td>-0.083359</td>\n",
              "      <td>-0.082425</td>\n",
              "      <td>-0.160480</td>\n",
              "      <td>...</td>\n",
              "      <td>0.209453</td>\n",
              "      <td>-0.050011</td>\n",
              "      <td>-0.044649</td>\n",
              "      <td>-0.038441</td>\n",
              "      <td>-0.040501</td>\n",
              "      <td>-0.022651</td>\n",
              "      <td>-0.022393</td>\n",
              "      <td>-0.022079</td>\n",
              "      <td>-0.022607</td>\n",
              "      <td>-0.020530</td>\n",
              "    </tr>\n",
              "    <tr>\n",
              "      <th>previous_cancellations</th>\n",
              "      <td>0.018894</td>\n",
              "      <td>0.132014</td>\n",
              "      <td>0.032849</td>\n",
              "      <td>-0.126357</td>\n",
              "      <td>0.053769</td>\n",
              "      <td>0.053112</td>\n",
              "      <td>-0.004363</td>\n",
              "      <td>-0.019552</td>\n",
              "      <td>-0.018075</td>\n",
              "      <td>-0.058467</td>\n",
              "      <td>...</td>\n",
              "      <td>0.184192</td>\n",
              "      <td>-0.045662</td>\n",
              "      <td>-0.039272</td>\n",
              "      <td>-0.035752</td>\n",
              "      <td>-0.033470</td>\n",
              "      <td>-0.023444</td>\n",
              "      <td>-0.023069</td>\n",
              "      <td>-0.019623</td>\n",
              "      <td>-0.019563</td>\n",
              "      <td>-0.019751</td>\n",
              "    </tr>\n",
              "    <tr>\n",
              "      <th>previous_bookings_not_canceled</th>\n",
              "      <td>0.007017</td>\n",
              "      <td>-0.048557</td>\n",
              "      <td>-0.072953</td>\n",
              "      <td>0.027080</td>\n",
              "      <td>-0.013545</td>\n",
              "      <td>-0.013019</td>\n",
              "      <td>-0.000763</td>\n",
              "      <td>-0.051172</td>\n",
              "      <td>-0.053684</td>\n",
              "      <td>-0.113995</td>\n",
              "      <td>...</td>\n",
              "      <td>0.125052</td>\n",
              "      <td>-0.032647</td>\n",
              "      <td>-0.027443</td>\n",
              "      <td>-0.026162</td>\n",
              "      <td>-0.024174</td>\n",
              "      <td>-0.016538</td>\n",
              "      <td>-0.017170</td>\n",
              "      <td>-0.014213</td>\n",
              "      <td>-0.013638</td>\n",
              "      <td>-0.013280</td>\n",
              "    </tr>\n",
              "    <tr>\n",
              "      <th>reserved_room_type</th>\n",
              "      <td>-0.216726</td>\n",
              "      <td>0.044131</td>\n",
              "      <td>0.006224</td>\n",
              "      <td>0.057191</td>\n",
              "      <td>0.002793</td>\n",
              "      <td>0.002486</td>\n",
              "      <td>0.019739</td>\n",
              "      <td>0.117468</td>\n",
              "      <td>0.150142</td>\n",
              "      <td>0.219768</td>\n",
              "      <td>...</td>\n",
              "      <td>-0.047707</td>\n",
              "      <td>0.054121</td>\n",
              "      <td>-0.021395</td>\n",
              "      <td>0.012871</td>\n",
              "      <td>-0.032938</td>\n",
              "      <td>-0.016666</td>\n",
              "      <td>0.033956</td>\n",
              "      <td>-0.003157</td>\n",
              "      <td>-0.003907</td>\n",
              "      <td>-0.001787</td>\n",
              "    </tr>\n",
              "    <tr>\n",
              "      <th>assigned_room_type</th>\n",
              "      <td>-0.274499</td>\n",
              "      <td>-0.059499</td>\n",
              "      <td>-0.042298</td>\n",
              "      <td>-0.006884</td>\n",
              "      <td>0.005974</td>\n",
              "      <td>0.006405</td>\n",
              "      <td>0.015202</td>\n",
              "      <td>0.055720</td>\n",
              "      <td>0.080637</td>\n",
              "      <td>0.168513</td>\n",
              "      <td>...</td>\n",
              "      <td>-0.002490</td>\n",
              "      <td>0.042218</td>\n",
              "      <td>-0.013513</td>\n",
              "      <td>0.017198</td>\n",
              "      <td>-0.046228</td>\n",
              "      <td>-0.024419</td>\n",
              "      <td>0.022527</td>\n",
              "      <td>-0.011069</td>\n",
              "      <td>-0.013206</td>\n",
              "      <td>-0.011961</td>\n",
              "    </tr>\n",
              "    <tr>\n",
              "      <th>booking_changes</th>\n",
              "      <td>-0.056279</td>\n",
              "      <td>-0.105059</td>\n",
              "      <td>0.081489</td>\n",
              "      <td>0.008022</td>\n",
              "      <td>0.017264</td>\n",
              "      <td>0.017035</td>\n",
              "      <td>0.002198</td>\n",
              "      <td>0.019784</td>\n",
              "      <td>0.045573</td>\n",
              "      <td>-0.043037</td>\n",
              "      <td>...</td>\n",
              "      <td>0.002804</td>\n",
              "      <td>0.012247</td>\n",
              "      <td>-0.014721</td>\n",
              "      <td>0.003001</td>\n",
              "      <td>-0.016214</td>\n",
              "      <td>0.000794</td>\n",
              "      <td>-0.007278</td>\n",
              "      <td>-0.008406</td>\n",
              "      <td>0.004244</td>\n",
              "      <td>-0.000887</td>\n",
              "    </tr>\n",
              "    <tr>\n",
              "      <th>deposit_type</th>\n",
              "      <td>0.040093</td>\n",
              "      <td>0.162070</td>\n",
              "      <td>0.169530</td>\n",
              "      <td>-0.021400</td>\n",
              "      <td>0.000170</td>\n",
              "      <td>0.000631</td>\n",
              "      <td>0.007122</td>\n",
              "      <td>-0.034532</td>\n",
              "      <td>-0.036965</td>\n",
              "      <td>-0.034611</td>\n",
              "      <td>...</td>\n",
              "      <td>0.160797</td>\n",
              "      <td>-0.034378</td>\n",
              "      <td>-0.038492</td>\n",
              "      <td>-0.031177</td>\n",
              "      <td>-0.024894</td>\n",
              "      <td>-0.022564</td>\n",
              "      <td>-0.021478</td>\n",
              "      <td>-0.015233</td>\n",
              "      <td>-0.017473</td>\n",
              "      <td>-0.015643</td>\n",
              "    </tr>\n",
              "    <tr>\n",
              "      <th>agent</th>\n",
              "      <td>-0.562747</td>\n",
              "      <td>-0.107340</td>\n",
              "      <td>-0.091949</td>\n",
              "      <td>-0.045554</td>\n",
              "      <td>0.010411</td>\n",
              "      <td>0.012168</td>\n",
              "      <td>0.012740</td>\n",
              "      <td>-0.016494</td>\n",
              "      <td>0.019604</td>\n",
              "      <td>-0.160853</td>\n",
              "      <td>...</td>\n",
              "      <td>0.309824</td>\n",
              "      <td>0.008884</td>\n",
              "      <td>-0.136677</td>\n",
              "      <td>-0.004430</td>\n",
              "      <td>-0.109658</td>\n",
              "      <td>-0.086394</td>\n",
              "      <td>0.021166</td>\n",
              "      <td>-0.046860</td>\n",
              "      <td>-0.049844</td>\n",
              "      <td>-0.048592</td>\n",
              "    </tr>\n",
              "    <tr>\n",
              "      <th>days_in_waiting_list</th>\n",
              "      <td>NaN</td>\n",
              "      <td>NaN</td>\n",
              "      <td>NaN</td>\n",
              "      <td>NaN</td>\n",
              "      <td>NaN</td>\n",
              "      <td>NaN</td>\n",
              "      <td>NaN</td>\n",
              "      <td>NaN</td>\n",
              "      <td>NaN</td>\n",
              "      <td>NaN</td>\n",
              "      <td>...</td>\n",
              "      <td>NaN</td>\n",
              "      <td>NaN</td>\n",
              "      <td>NaN</td>\n",
              "      <td>NaN</td>\n",
              "      <td>NaN</td>\n",
              "      <td>NaN</td>\n",
              "      <td>NaN</td>\n",
              "      <td>NaN</td>\n",
              "      <td>NaN</td>\n",
              "      <td>NaN</td>\n",
              "    </tr>\n",
              "    <tr>\n",
              "      <th>customer_type</th>\n",
              "      <td>-0.036944</td>\n",
              "      <td>-0.137245</td>\n",
              "      <td>0.147427</td>\n",
              "      <td>-0.147041</td>\n",
              "      <td>0.041671</td>\n",
              "      <td>0.042028</td>\n",
              "      <td>-0.000725</td>\n",
              "      <td>-0.025002</td>\n",
              "      <td>-0.008816</td>\n",
              "      <td>-0.100345</td>\n",
              "      <td>...</td>\n",
              "      <td>0.071199</td>\n",
              "      <td>0.040822</td>\n",
              "      <td>-0.038937</td>\n",
              "      <td>-0.032990</td>\n",
              "      <td>-0.005945</td>\n",
              "      <td>0.005929</td>\n",
              "      <td>-0.023265</td>\n",
              "      <td>-0.010686</td>\n",
              "      <td>-0.024076</td>\n",
              "      <td>-0.011956</td>\n",
              "    </tr>\n",
              "    <tr>\n",
              "      <th>adr</th>\n",
              "      <td>0.097932</td>\n",
              "      <td>0.124562</td>\n",
              "      <td>-0.004085</td>\n",
              "      <td>0.191428</td>\n",
              "      <td>0.103512</td>\n",
              "      <td>0.097999</td>\n",
              "      <td>0.022979</td>\n",
              "      <td>0.025636</td>\n",
              "      <td>0.038284</td>\n",
              "      <td>0.243141</td>\n",
              "      <td>...</td>\n",
              "      <td>-0.113760</td>\n",
              "      <td>-0.074813</td>\n",
              "      <td>0.032866</td>\n",
              "      <td>0.095505</td>\n",
              "      <td>-0.009932</td>\n",
              "      <td>0.032751</td>\n",
              "      <td>-0.028146</td>\n",
              "      <td>0.023819</td>\n",
              "      <td>0.016826</td>\n",
              "      <td>0.004506</td>\n",
              "    </tr>\n",
              "    <tr>\n",
              "      <th>required_car_parking_spaces</th>\n",
              "      <td>-0.209797</td>\n",
              "      <td>-0.188392</td>\n",
              "      <td>-0.082514</td>\n",
              "      <td>-0.042170</td>\n",
              "      <td>0.008298</td>\n",
              "      <td>0.010197</td>\n",
              "      <td>0.012148</td>\n",
              "      <td>-0.040319</td>\n",
              "      <td>-0.039577</td>\n",
              "      <td>0.007235</td>\n",
              "      <td>...</td>\n",
              "      <td>0.067602</td>\n",
              "      <td>-0.041951</td>\n",
              "      <td>-0.025186</td>\n",
              "      <td>0.089569</td>\n",
              "      <td>-0.035256</td>\n",
              "      <td>-0.028899</td>\n",
              "      <td>-0.038625</td>\n",
              "      <td>-0.011054</td>\n",
              "      <td>-0.007169</td>\n",
              "      <td>0.002400</td>\n",
              "    </tr>\n",
              "    <tr>\n",
              "      <th>total_of_special_requests</th>\n",
              "      <td>0.007986</td>\n",
              "      <td>-0.139760</td>\n",
              "      <td>0.001158</td>\n",
              "      <td>0.053616</td>\n",
              "      <td>0.045933</td>\n",
              "      <td>0.043091</td>\n",
              "      <td>-0.003991</td>\n",
              "      <td>0.012793</td>\n",
              "      <td>0.013832</td>\n",
              "      <td>0.108604</td>\n",
              "      <td>...</td>\n",
              "      <td>-0.074706</td>\n",
              "      <td>-0.008930</td>\n",
              "      <td>0.027377</td>\n",
              "      <td>0.025972</td>\n",
              "      <td>-0.005773</td>\n",
              "      <td>-0.002452</td>\n",
              "      <td>0.023672</td>\n",
              "      <td>0.029538</td>\n",
              "      <td>0.024364</td>\n",
              "      <td>0.018299</td>\n",
              "    </tr>\n",
              "    <tr>\n",
              "      <th>reservation_status</th>\n",
              "      <td>0.065549</td>\n",
              "      <td>0.976380</td>\n",
              "      <td>0.142402</td>\n",
              "      <td>0.076672</td>\n",
              "      <td>-0.006853</td>\n",
              "      <td>-0.008655</td>\n",
              "      <td>0.004599</td>\n",
              "      <td>0.042387</td>\n",
              "      <td>0.060440</td>\n",
              "      <td>0.061131</td>\n",
              "      <td>...</td>\n",
              "      <td>0.156839</td>\n",
              "      <td>-0.081674</td>\n",
              "      <td>-0.067114</td>\n",
              "      <td>-0.016696</td>\n",
              "      <td>-0.054387</td>\n",
              "      <td>0.026469</td>\n",
              "      <td>-0.030370</td>\n",
              "      <td>-0.031123</td>\n",
              "      <td>0.028986</td>\n",
              "      <td>-0.035017</td>\n",
              "    </tr>\n",
              "    <tr>\n",
              "      <th>noches_totales</th>\n",
              "      <td>-0.255572</td>\n",
              "      <td>0.061752</td>\n",
              "      <td>0.288020</td>\n",
              "      <td>-0.006485</td>\n",
              "      <td>0.030503</td>\n",
              "      <td>0.027531</td>\n",
              "      <td>-0.030721</td>\n",
              "      <td>0.782152</td>\n",
              "      <td>0.949219</td>\n",
              "      <td>0.093322</td>\n",
              "      <td>...</td>\n",
              "      <td>-0.104721</td>\n",
              "      <td>0.164747</td>\n",
              "      <td>-0.010941</td>\n",
              "      <td>-0.062219</td>\n",
              "      <td>0.008862</td>\n",
              "      <td>-0.024688</td>\n",
              "      <td>0.103617</td>\n",
              "      <td>-0.000063</td>\n",
              "      <td>-0.009825</td>\n",
              "      <td>-0.002398</td>\n",
              "    </tr>\n",
              "    <tr>\n",
              "      <th>familia</th>\n",
              "      <td>-0.038793</td>\n",
              "      <td>0.047108</td>\n",
              "      <td>0.019536</td>\n",
              "      <td>0.036487</td>\n",
              "      <td>0.018393</td>\n",
              "      <td>0.018262</td>\n",
              "      <td>0.014753</td>\n",
              "      <td>0.028766</td>\n",
              "      <td>0.029210</td>\n",
              "      <td>0.061239</td>\n",
              "      <td>...</td>\n",
              "      <td>-0.001411</td>\n",
              "      <td>-0.027255</td>\n",
              "      <td>-0.004467</td>\n",
              "      <td>0.043145</td>\n",
              "      <td>-0.033694</td>\n",
              "      <td>0.001660</td>\n",
              "      <td>-0.020585</td>\n",
              "      <td>-0.004155</td>\n",
              "      <td>0.020952</td>\n",
              "      <td>-0.003765</td>\n",
              "    </tr>\n",
              "    <tr>\n",
              "      <th>total_child</th>\n",
              "      <td>-0.038793</td>\n",
              "      <td>0.047108</td>\n",
              "      <td>0.019536</td>\n",
              "      <td>0.036487</td>\n",
              "      <td>0.018393</td>\n",
              "      <td>0.018262</td>\n",
              "      <td>0.014753</td>\n",
              "      <td>0.028766</td>\n",
              "      <td>0.029210</td>\n",
              "      <td>0.061239</td>\n",
              "      <td>...</td>\n",
              "      <td>-0.001411</td>\n",
              "      <td>-0.027255</td>\n",
              "      <td>-0.004467</td>\n",
              "      <td>0.043145</td>\n",
              "      <td>-0.033694</td>\n",
              "      <td>0.001660</td>\n",
              "      <td>-0.020585</td>\n",
              "      <td>-0.004155</td>\n",
              "      <td>0.020952</td>\n",
              "      <td>-0.003765</td>\n",
              "    </tr>\n",
              "    <tr>\n",
              "      <th>PRT</th>\n",
              "      <td>-0.182099</td>\n",
              "      <td>0.151139</td>\n",
              "      <td>-0.084106</td>\n",
              "      <td>-0.177852</td>\n",
              "      <td>0.030099</td>\n",
              "      <td>0.032208</td>\n",
              "      <td>0.009060</td>\n",
              "      <td>-0.101279</td>\n",
              "      <td>-0.089622</td>\n",
              "      <td>-0.109505</td>\n",
              "      <td>...</td>\n",
              "      <td>1.000000</td>\n",
              "      <td>-0.244816</td>\n",
              "      <td>-0.220271</td>\n",
              "      <td>-0.196030</td>\n",
              "      <td>-0.169632</td>\n",
              "      <td>-0.125555</td>\n",
              "      <td>-0.125953</td>\n",
              "      <td>-0.102935</td>\n",
              "      <td>-0.099947</td>\n",
              "      <td>-0.098037</td>\n",
              "    </tr>\n",
              "    <tr>\n",
              "      <th>GBR</th>\n",
              "      <td>-0.143692</td>\n",
              "      <td>-0.080327</td>\n",
              "      <td>0.151497</td>\n",
              "      <td>0.056875</td>\n",
              "      <td>-0.008720</td>\n",
              "      <td>-0.009893</td>\n",
              "      <td>-0.002716</td>\n",
              "      <td>0.133899</td>\n",
              "      <td>0.153835</td>\n",
              "      <td>0.020579</td>\n",
              "      <td>...</td>\n",
              "      <td>-0.244816</td>\n",
              "      <td>1.000000</td>\n",
              "      <td>-0.128937</td>\n",
              "      <td>-0.114747</td>\n",
              "      <td>-0.099295</td>\n",
              "      <td>-0.073494</td>\n",
              "      <td>-0.073727</td>\n",
              "      <td>-0.060254</td>\n",
              "      <td>-0.058504</td>\n",
              "      <td>-0.057387</td>\n",
              "    </tr>\n",
              "    <tr>\n",
              "      <th>FRA</th>\n",
              "      <td>0.160974</td>\n",
              "      <td>-0.065580</td>\n",
              "      <td>-0.033386</td>\n",
              "      <td>0.032828</td>\n",
              "      <td>-0.011747</td>\n",
              "      <td>-0.012838</td>\n",
              "      <td>-0.017426</td>\n",
              "      <td>-0.004051</td>\n",
              "      <td>-0.012661</td>\n",
              "      <td>0.044329</td>\n",
              "      <td>...</td>\n",
              "      <td>-0.220271</td>\n",
              "      <td>-0.128937</td>\n",
              "      <td>1.000000</td>\n",
              "      <td>-0.103243</td>\n",
              "      <td>-0.089340</td>\n",
              "      <td>-0.066126</td>\n",
              "      <td>-0.066335</td>\n",
              "      <td>-0.054213</td>\n",
              "      <td>-0.052639</td>\n",
              "      <td>-0.051633</td>\n",
              "    </tr>\n",
              "    <tr>\n",
              "      <th>ESP</th>\n",
              "      <td>-0.055671</td>\n",
              "      <td>-0.013129</td>\n",
              "      <td>-0.106743</td>\n",
              "      <td>-0.033209</td>\n",
              "      <td>0.025448</td>\n",
              "      <td>0.024893</td>\n",
              "      <td>-0.000770</td>\n",
              "      <td>-0.053962</td>\n",
              "      <td>-0.056385</td>\n",
              "      <td>0.034725</td>\n",
              "      <td>...</td>\n",
              "      <td>-0.196030</td>\n",
              "      <td>-0.114747</td>\n",
              "      <td>-0.103243</td>\n",
              "      <td>1.000000</td>\n",
              "      <td>-0.079508</td>\n",
              "      <td>-0.058849</td>\n",
              "      <td>-0.059035</td>\n",
              "      <td>-0.048247</td>\n",
              "      <td>-0.046846</td>\n",
              "      <td>-0.045951</td>\n",
              "    </tr>\n",
              "    <tr>\n",
              "      <th>DEU</th>\n",
              "      <td>0.115955</td>\n",
              "      <td>-0.052320</td>\n",
              "      <td>0.067956</td>\n",
              "      <td>0.051421</td>\n",
              "      <td>-0.018154</td>\n",
              "      <td>-0.017823</td>\n",
              "      <td>0.002073</td>\n",
              "      <td>0.011682</td>\n",
              "      <td>0.006013</td>\n",
              "      <td>0.010275</td>\n",
              "      <td>...</td>\n",
              "      <td>-0.169632</td>\n",
              "      <td>-0.099295</td>\n",
              "      <td>-0.089340</td>\n",
              "      <td>-0.079508</td>\n",
              "      <td>1.000000</td>\n",
              "      <td>-0.050924</td>\n",
              "      <td>-0.051085</td>\n",
              "      <td>-0.041750</td>\n",
              "      <td>-0.040538</td>\n",
              "      <td>-0.039763</td>\n",
              "    </tr>\n",
              "    <tr>\n",
              "      <th>ITA</th>\n",
              "      <td>0.101326</td>\n",
              "      <td>0.030695</td>\n",
              "      <td>0.001286</td>\n",
              "      <td>0.010066</td>\n",
              "      <td>-0.001199</td>\n",
              "      <td>-0.000729</td>\n",
              "      <td>0.006287</td>\n",
              "      <td>-0.014125</td>\n",
              "      <td>-0.026052</td>\n",
              "      <td>0.026282</td>\n",
              "      <td>...</td>\n",
              "      <td>-0.125555</td>\n",
              "      <td>-0.073494</td>\n",
              "      <td>-0.066126</td>\n",
              "      <td>-0.058849</td>\n",
              "      <td>-0.050924</td>\n",
              "      <td>1.000000</td>\n",
              "      <td>-0.037811</td>\n",
              "      <td>-0.030901</td>\n",
              "      <td>-0.030004</td>\n",
              "      <td>-0.029431</td>\n",
              "    </tr>\n",
              "    <tr>\n",
              "      <th>IRL</th>\n",
              "      <td>-0.106983</td>\n",
              "      <td>-0.028466</td>\n",
              "      <td>0.068659</td>\n",
              "      <td>0.018889</td>\n",
              "      <td>-0.001132</td>\n",
              "      <td>-0.002186</td>\n",
              "      <td>-0.004259</td>\n",
              "      <td>0.080912</td>\n",
              "      <td>0.098422</td>\n",
              "      <td>0.020544</td>\n",
              "      <td>...</td>\n",
              "      <td>-0.125953</td>\n",
              "      <td>-0.073727</td>\n",
              "      <td>-0.066335</td>\n",
              "      <td>-0.059035</td>\n",
              "      <td>-0.051085</td>\n",
              "      <td>-0.037811</td>\n",
              "      <td>1.000000</td>\n",
              "      <td>-0.030999</td>\n",
              "      <td>-0.030099</td>\n",
              "      <td>-0.029524</td>\n",
              "    </tr>\n",
              "    <tr>\n",
              "      <th>BEL</th>\n",
              "      <td>0.064112</td>\n",
              "      <td>-0.030893</td>\n",
              "      <td>0.020827</td>\n",
              "      <td>0.031944</td>\n",
              "      <td>-0.003561</td>\n",
              "      <td>-0.003752</td>\n",
              "      <td>0.000016</td>\n",
              "      <td>0.005710</td>\n",
              "      <td>-0.002967</td>\n",
              "      <td>0.021883</td>\n",
              "      <td>...</td>\n",
              "      <td>-0.102935</td>\n",
              "      <td>-0.060254</td>\n",
              "      <td>-0.054213</td>\n",
              "      <td>-0.048247</td>\n",
              "      <td>-0.041750</td>\n",
              "      <td>-0.030901</td>\n",
              "      <td>-0.030999</td>\n",
              "      <td>1.000000</td>\n",
              "      <td>-0.024599</td>\n",
              "      <td>-0.024129</td>\n",
              "    </tr>\n",
              "    <tr>\n",
              "      <th>BRA</th>\n",
              "      <td>0.058090</td>\n",
              "      <td>0.030209</td>\n",
              "      <td>-0.001870</td>\n",
              "      <td>0.040240</td>\n",
              "      <td>-0.017059</td>\n",
              "      <td>-0.016754</td>\n",
              "      <td>0.004945</td>\n",
              "      <td>0.001575</td>\n",
              "      <td>-0.014002</td>\n",
              "      <td>0.030033</td>\n",
              "      <td>...</td>\n",
              "      <td>-0.099947</td>\n",
              "      <td>-0.058504</td>\n",
              "      <td>-0.052639</td>\n",
              "      <td>-0.046846</td>\n",
              "      <td>-0.040538</td>\n",
              "      <td>-0.030004</td>\n",
              "      <td>-0.030099</td>\n",
              "      <td>-0.024599</td>\n",
              "      <td>1.000000</td>\n",
              "      <td>-0.023428</td>\n",
              "    </tr>\n",
              "    <tr>\n",
              "      <th>NLD</th>\n",
              "      <td>0.044493</td>\n",
              "      <td>-0.034210</td>\n",
              "      <td>-0.004422</td>\n",
              "      <td>0.015588</td>\n",
              "      <td>-0.011889</td>\n",
              "      <td>-0.011097</td>\n",
              "      <td>0.003932</td>\n",
              "      <td>-0.001171</td>\n",
              "      <td>-0.002632</td>\n",
              "      <td>0.001642</td>\n",
              "      <td>...</td>\n",
              "      <td>-0.098037</td>\n",
              "      <td>-0.057387</td>\n",
              "      <td>-0.051633</td>\n",
              "      <td>-0.045951</td>\n",
              "      <td>-0.039763</td>\n",
              "      <td>-0.029431</td>\n",
              "      <td>-0.029524</td>\n",
              "      <td>-0.024129</td>\n",
              "      <td>-0.023428</td>\n",
              "      <td>1.000000</td>\n",
              "    </tr>\n",
              "  </tbody>\n",
              "</table>\n",
              "<p>42 rows × 42 columns</p>\n",
              "</div>\n",
              "      <button class=\"colab-df-convert\" onclick=\"convertToInteractive('df-d56a9950-7b9f-4828-91c6-e84aba37c59c')\"\n",
              "              title=\"Convert this dataframe to an interactive table.\"\n",
              "              style=\"display:none;\">\n",
              "        \n",
              "  <svg xmlns=\"http://www.w3.org/2000/svg\" height=\"24px\"viewBox=\"0 0 24 24\"\n",
              "       width=\"24px\">\n",
              "    <path d=\"M0 0h24v24H0V0z\" fill=\"none\"/>\n",
              "    <path d=\"M18.56 5.44l.94 2.06.94-2.06 2.06-.94-2.06-.94-.94-2.06-.94 2.06-2.06.94zm-11 1L8.5 8.5l.94-2.06 2.06-.94-2.06-.94L8.5 2.5l-.94 2.06-2.06.94zm10 10l.94 2.06.94-2.06 2.06-.94-2.06-.94-.94-2.06-.94 2.06-2.06.94z\"/><path d=\"M17.41 7.96l-1.37-1.37c-.4-.4-.92-.59-1.43-.59-.52 0-1.04.2-1.43.59L10.3 9.45l-7.72 7.72c-.78.78-.78 2.05 0 2.83L4 21.41c.39.39.9.59 1.41.59.51 0 1.02-.2 1.41-.59l7.78-7.78 2.81-2.81c.8-.78.8-2.07 0-2.86zM5.41 20L4 18.59l7.72-7.72 1.47 1.35L5.41 20z\"/>\n",
              "  </svg>\n",
              "      </button>\n",
              "      \n",
              "  <style>\n",
              "    .colab-df-container {\n",
              "      display:flex;\n",
              "      flex-wrap:wrap;\n",
              "      gap: 12px;\n",
              "    }\n",
              "\n",
              "    .colab-df-convert {\n",
              "      background-color: #E8F0FE;\n",
              "      border: none;\n",
              "      border-radius: 50%;\n",
              "      cursor: pointer;\n",
              "      display: none;\n",
              "      fill: #1967D2;\n",
              "      height: 32px;\n",
              "      padding: 0 0 0 0;\n",
              "      width: 32px;\n",
              "    }\n",
              "\n",
              "    .colab-df-convert:hover {\n",
              "      background-color: #E2EBFA;\n",
              "      box-shadow: 0px 1px 2px rgba(60, 64, 67, 0.3), 0px 1px 3px 1px rgba(60, 64, 67, 0.15);\n",
              "      fill: #174EA6;\n",
              "    }\n",
              "\n",
              "    [theme=dark] .colab-df-convert {\n",
              "      background-color: #3B4455;\n",
              "      fill: #D2E3FC;\n",
              "    }\n",
              "\n",
              "    [theme=dark] .colab-df-convert:hover {\n",
              "      background-color: #434B5C;\n",
              "      box-shadow: 0px 1px 3px 1px rgba(0, 0, 0, 0.15);\n",
              "      filter: drop-shadow(0px 1px 2px rgba(0, 0, 0, 0.3));\n",
              "      fill: #FFFFFF;\n",
              "    }\n",
              "  </style>\n",
              "\n",
              "      <script>\n",
              "        const buttonEl =\n",
              "          document.querySelector('#df-d56a9950-7b9f-4828-91c6-e84aba37c59c button.colab-df-convert');\n",
              "        buttonEl.style.display =\n",
              "          google.colab.kernel.accessAllowed ? 'block' : 'none';\n",
              "\n",
              "        async function convertToInteractive(key) {\n",
              "          const element = document.querySelector('#df-d56a9950-7b9f-4828-91c6-e84aba37c59c');\n",
              "          const dataTable =\n",
              "            await google.colab.kernel.invokeFunction('convertToInteractive',\n",
              "                                                     [key], {});\n",
              "          if (!dataTable) return;\n",
              "\n",
              "          const docLinkHtml = 'Like what you see? Visit the ' +\n",
              "            '<a target=\"_blank\" href=https://colab.research.google.com/notebooks/data_table.ipynb>data table notebook</a>'\n",
              "            + ' to learn more about interactive tables.';\n",
              "          element.innerHTML = '';\n",
              "          dataTable['output_type'] = 'display_data';\n",
              "          await google.colab.output.renderOutput(dataTable, element);\n",
              "          const docLink = document.createElement('div');\n",
              "          docLink.innerHTML = docLinkHtml;\n",
              "          element.appendChild(docLink);\n",
              "        }\n",
              "      </script>\n",
              "    </div>\n",
              "  </div>\n",
              "  "
            ]
          },
          "metadata": {},
          "execution_count": 564
        }
      ]
    },
    {
      "cell_type": "code",
      "source": [
        "corr = base.corr(method = 'spearman')[\"is_canceled\"]\n",
        "corr.abs().sort_values(ascending=False)[1:]"
      ],
      "metadata": {
        "colab": {
          "base_uri": "https://localhost:8080/"
        },
        "id": "iN6_gnzQ4XDa",
        "outputId": "f99fa5aa-f4e3-4278-be9e-247225c66856"
      },
      "execution_count": 565,
      "outputs": [
        {
          "output_type": "execute_result",
          "data": {
            "text/plain": [
              "reservation_status                0.997773\n",
              "lead_time                         0.191412\n",
              "required_car_parking_spaces       0.188392\n",
              "deposit_type                      0.156144\n",
              "PRT                               0.151139\n",
              "total_of_special_requests         0.148921\n",
              "previous_cancellations            0.141410\n",
              "customer_type                     0.140202\n",
              "adr                               0.134103\n",
              "booking_changes                   0.126191\n",
              "agent                             0.112991\n",
              "previous_bookings_not_canceled    0.097778\n",
              "arrival_date_year                 0.083640\n",
              "GBR                               0.080327\n",
              "adults                            0.078473\n",
              "is_repeated_guest                 0.076179\n",
              "noches_totales                    0.072095\n",
              "stays_in_week_nights              0.067735\n",
              "FRA                               0.065580\n",
              "assigned_room_type                0.064310\n",
              "hotel                             0.063589\n",
              "children                          0.057355\n",
              "DEU                               0.052320\n",
              "total_child                       0.047108\n",
              "familia                           0.047108\n",
              "reserved_room_type                0.041086\n",
              "meal                              0.040439\n",
              "stays_in_weekend_nights           0.039759\n",
              "distribution_channel              0.038886\n",
              "NLD                               0.034210\n",
              "BEL                               0.030893\n",
              "ITA                               0.030695\n",
              "BRA                               0.030209\n",
              "IRL                               0.028466\n",
              "babies                            0.023200\n",
              "market_segment                    0.021715\n",
              "ESP                               0.013129\n",
              "arrival_date_week_number          0.004959\n",
              "arrival_date_day_of_month         0.004275\n",
              "arrival_date_month                0.003057\n",
              "days_in_waiting_list                   NaN\n",
              "Name: is_canceled, dtype: float64"
            ]
          },
          "metadata": {},
          "execution_count": 565
        }
      ]
    },
    {
      "cell_type": "markdown",
      "source": [
        "## Split"
      ],
      "metadata": {
        "id": "tpHH00Q8XV8q"
      }
    },
    {
      "cell_type": "code",
      "source": [
        "from sklearn.model_selection import train_test_split"
      ],
      "metadata": {
        "id": "9G_msKYvXW5k"
      },
      "execution_count": 596,
      "outputs": []
    },
    {
      "cell_type": "code",
      "source": [
        "cols_seleccionadas = ['reservation_status', 'lead_time', 'required_car_parking_spaces', 'deposit_type', 'PRT',\n",
        "                      'total_of_special_requests', 'previous_cancellations', 'customer_type', 'adr', \n",
        "                      'booking_changes', 'agent', 'previous_bookings_not_canceled', 'arrival_date_year', 'GBR', 'adults', \n",
        "                      'is_repeated_guest', 'noches_totales', 'stays_in_week_nights', 'FRA', 'assigned_room_type', 'hotel',\n",
        "                      'children', 'DEU']\n",
        "\n",
        "X = base[cols_seleccionadas]\n",
        "y = base['is_canceled']\n",
        "\n",
        "X_train, X_test, y_train, y_test = train_test_split(X, y, test_size=0.15)"
      ],
      "metadata": {
        "id": "ZEve5pdC-Uw0"
      },
      "execution_count": 597,
      "outputs": []
    },
    {
      "cell_type": "code",
      "source": [
        "print(X_train.shape)\n",
        "print(X_test.shape)\n",
        "print(y_train.shape)\n",
        "print(y_test.shape)"
      ],
      "metadata": {
        "colab": {
          "base_uri": "https://localhost:8080/"
        },
        "id": "gxVbamIa-a6p",
        "outputId": "0f904058-97ca-4d13-958a-429c877eb304"
      },
      "execution_count": 598,
      "outputs": [
        {
          "output_type": "stream",
          "name": "stdout",
          "text": [
            "(68940, 23)\n",
            "(12166, 23)\n",
            "(68940,)\n",
            "(12166,)\n"
          ]
        }
      ]
    },
    {
      "cell_type": "markdown",
      "source": [
        "## Modelos"
      ],
      "metadata": {
        "id": "CvQ9ncoi6lq1"
      }
    },
    {
      "cell_type": "markdown",
      "source": [
        "#### Modelo: Regresion Logistica"
      ],
      "metadata": {
        "id": "0UOzL9lWnTY2"
      }
    },
    {
      "cell_type": "code",
      "source": [
        "from sklearn.linear_model import LogisticRegression"
      ],
      "metadata": {
        "id": "BSfOGwnhnWtj"
      },
      "execution_count": 604,
      "outputs": []
    },
    {
      "cell_type": "code",
      "source": [
        "grid={\"C\":np.logspace(-3,3,7)}\n",
        "lr = LogisticRegression()\n",
        "CV_lr = GridSearchCV(lr,grid,cv=10)\n",
        "CV_lr.fit(X_train,y_train)"
      ],
      "metadata": {
        "colab": {
          "base_uri": "https://localhost:8080/"
        },
        "id": "50lrHdFRnYcn",
        "outputId": "58a9f24c-aac1-46be-8127-e477633695fa"
      },
      "execution_count": 605,
      "outputs": [
        {
          "output_type": "stream",
          "name": "stderr",
          "text": [
            "/usr/local/lib/python3.8/dist-packages/sklearn/linear_model/_logistic.py:814: ConvergenceWarning:\n",
            "\n",
            "lbfgs failed to converge (status=1):\n",
            "STOP: TOTAL NO. of ITERATIONS REACHED LIMIT.\n",
            "\n",
            "Increase the number of iterations (max_iter) or scale the data as shown in:\n",
            "    https://scikit-learn.org/stable/modules/preprocessing.html\n",
            "Please also refer to the documentation for alternative solver options:\n",
            "    https://scikit-learn.org/stable/modules/linear_model.html#logistic-regression\n",
            "\n",
            "/usr/local/lib/python3.8/dist-packages/sklearn/linear_model/_logistic.py:814: ConvergenceWarning:\n",
            "\n",
            "lbfgs failed to converge (status=1):\n",
            "STOP: TOTAL NO. of ITERATIONS REACHED LIMIT.\n",
            "\n",
            "Increase the number of iterations (max_iter) or scale the data as shown in:\n",
            "    https://scikit-learn.org/stable/modules/preprocessing.html\n",
            "Please also refer to the documentation for alternative solver options:\n",
            "    https://scikit-learn.org/stable/modules/linear_model.html#logistic-regression\n",
            "\n",
            "/usr/local/lib/python3.8/dist-packages/sklearn/linear_model/_logistic.py:814: ConvergenceWarning:\n",
            "\n",
            "lbfgs failed to converge (status=1):\n",
            "STOP: TOTAL NO. of ITERATIONS REACHED LIMIT.\n",
            "\n",
            "Increase the number of iterations (max_iter) or scale the data as shown in:\n",
            "    https://scikit-learn.org/stable/modules/preprocessing.html\n",
            "Please also refer to the documentation for alternative solver options:\n",
            "    https://scikit-learn.org/stable/modules/linear_model.html#logistic-regression\n",
            "\n",
            "/usr/local/lib/python3.8/dist-packages/sklearn/linear_model/_logistic.py:814: ConvergenceWarning:\n",
            "\n",
            "lbfgs failed to converge (status=1):\n",
            "STOP: TOTAL NO. of ITERATIONS REACHED LIMIT.\n",
            "\n",
            "Increase the number of iterations (max_iter) or scale the data as shown in:\n",
            "    https://scikit-learn.org/stable/modules/preprocessing.html\n",
            "Please also refer to the documentation for alternative solver options:\n",
            "    https://scikit-learn.org/stable/modules/linear_model.html#logistic-regression\n",
            "\n",
            "/usr/local/lib/python3.8/dist-packages/sklearn/linear_model/_logistic.py:814: ConvergenceWarning:\n",
            "\n",
            "lbfgs failed to converge (status=1):\n",
            "STOP: TOTAL NO. of ITERATIONS REACHED LIMIT.\n",
            "\n",
            "Increase the number of iterations (max_iter) or scale the data as shown in:\n",
            "    https://scikit-learn.org/stable/modules/preprocessing.html\n",
            "Please also refer to the documentation for alternative solver options:\n",
            "    https://scikit-learn.org/stable/modules/linear_model.html#logistic-regression\n",
            "\n",
            "/usr/local/lib/python3.8/dist-packages/sklearn/linear_model/_logistic.py:814: ConvergenceWarning:\n",
            "\n",
            "lbfgs failed to converge (status=1):\n",
            "STOP: TOTAL NO. of ITERATIONS REACHED LIMIT.\n",
            "\n",
            "Increase the number of iterations (max_iter) or scale the data as shown in:\n",
            "    https://scikit-learn.org/stable/modules/preprocessing.html\n",
            "Please also refer to the documentation for alternative solver options:\n",
            "    https://scikit-learn.org/stable/modules/linear_model.html#logistic-regression\n",
            "\n",
            "/usr/local/lib/python3.8/dist-packages/sklearn/linear_model/_logistic.py:814: ConvergenceWarning:\n",
            "\n",
            "lbfgs failed to converge (status=1):\n",
            "STOP: TOTAL NO. of ITERATIONS REACHED LIMIT.\n",
            "\n",
            "Increase the number of iterations (max_iter) or scale the data as shown in:\n",
            "    https://scikit-learn.org/stable/modules/preprocessing.html\n",
            "Please also refer to the documentation for alternative solver options:\n",
            "    https://scikit-learn.org/stable/modules/linear_model.html#logistic-regression\n",
            "\n",
            "/usr/local/lib/python3.8/dist-packages/sklearn/linear_model/_logistic.py:814: ConvergenceWarning:\n",
            "\n",
            "lbfgs failed to converge (status=1):\n",
            "STOP: TOTAL NO. of ITERATIONS REACHED LIMIT.\n",
            "\n",
            "Increase the number of iterations (max_iter) or scale the data as shown in:\n",
            "    https://scikit-learn.org/stable/modules/preprocessing.html\n",
            "Please also refer to the documentation for alternative solver options:\n",
            "    https://scikit-learn.org/stable/modules/linear_model.html#logistic-regression\n",
            "\n",
            "/usr/local/lib/python3.8/dist-packages/sklearn/linear_model/_logistic.py:814: ConvergenceWarning:\n",
            "\n",
            "lbfgs failed to converge (status=1):\n",
            "STOP: TOTAL NO. of ITERATIONS REACHED LIMIT.\n",
            "\n",
            "Increase the number of iterations (max_iter) or scale the data as shown in:\n",
            "    https://scikit-learn.org/stable/modules/preprocessing.html\n",
            "Please also refer to the documentation for alternative solver options:\n",
            "    https://scikit-learn.org/stable/modules/linear_model.html#logistic-regression\n",
            "\n",
            "/usr/local/lib/python3.8/dist-packages/sklearn/linear_model/_logistic.py:814: ConvergenceWarning:\n",
            "\n",
            "lbfgs failed to converge (status=1):\n",
            "STOP: TOTAL NO. of ITERATIONS REACHED LIMIT.\n",
            "\n",
            "Increase the number of iterations (max_iter) or scale the data as shown in:\n",
            "    https://scikit-learn.org/stable/modules/preprocessing.html\n",
            "Please also refer to the documentation for alternative solver options:\n",
            "    https://scikit-learn.org/stable/modules/linear_model.html#logistic-regression\n",
            "\n",
            "/usr/local/lib/python3.8/dist-packages/sklearn/linear_model/_logistic.py:814: ConvergenceWarning:\n",
            "\n",
            "lbfgs failed to converge (status=1):\n",
            "STOP: TOTAL NO. of ITERATIONS REACHED LIMIT.\n",
            "\n",
            "Increase the number of iterations (max_iter) or scale the data as shown in:\n",
            "    https://scikit-learn.org/stable/modules/preprocessing.html\n",
            "Please also refer to the documentation for alternative solver options:\n",
            "    https://scikit-learn.org/stable/modules/linear_model.html#logistic-regression\n",
            "\n",
            "/usr/local/lib/python3.8/dist-packages/sklearn/linear_model/_logistic.py:814: ConvergenceWarning:\n",
            "\n",
            "lbfgs failed to converge (status=1):\n",
            "STOP: TOTAL NO. of ITERATIONS REACHED LIMIT.\n",
            "\n",
            "Increase the number of iterations (max_iter) or scale the data as shown in:\n",
            "    https://scikit-learn.org/stable/modules/preprocessing.html\n",
            "Please also refer to the documentation for alternative solver options:\n",
            "    https://scikit-learn.org/stable/modules/linear_model.html#logistic-regression\n",
            "\n",
            "/usr/local/lib/python3.8/dist-packages/sklearn/linear_model/_logistic.py:814: ConvergenceWarning:\n",
            "\n",
            "lbfgs failed to converge (status=1):\n",
            "STOP: TOTAL NO. of ITERATIONS REACHED LIMIT.\n",
            "\n",
            "Increase the number of iterations (max_iter) or scale the data as shown in:\n",
            "    https://scikit-learn.org/stable/modules/preprocessing.html\n",
            "Please also refer to the documentation for alternative solver options:\n",
            "    https://scikit-learn.org/stable/modules/linear_model.html#logistic-regression\n",
            "\n",
            "/usr/local/lib/python3.8/dist-packages/sklearn/linear_model/_logistic.py:814: ConvergenceWarning:\n",
            "\n",
            "lbfgs failed to converge (status=1):\n",
            "STOP: TOTAL NO. of ITERATIONS REACHED LIMIT.\n",
            "\n",
            "Increase the number of iterations (max_iter) or scale the data as shown in:\n",
            "    https://scikit-learn.org/stable/modules/preprocessing.html\n",
            "Please also refer to the documentation for alternative solver options:\n",
            "    https://scikit-learn.org/stable/modules/linear_model.html#logistic-regression\n",
            "\n",
            "/usr/local/lib/python3.8/dist-packages/sklearn/linear_model/_logistic.py:814: ConvergenceWarning:\n",
            "\n",
            "lbfgs failed to converge (status=1):\n",
            "STOP: TOTAL NO. of ITERATIONS REACHED LIMIT.\n",
            "\n",
            "Increase the number of iterations (max_iter) or scale the data as shown in:\n",
            "    https://scikit-learn.org/stable/modules/preprocessing.html\n",
            "Please also refer to the documentation for alternative solver options:\n",
            "    https://scikit-learn.org/stable/modules/linear_model.html#logistic-regression\n",
            "\n",
            "/usr/local/lib/python3.8/dist-packages/sklearn/linear_model/_logistic.py:814: ConvergenceWarning:\n",
            "\n",
            "lbfgs failed to converge (status=1):\n",
            "STOP: TOTAL NO. of ITERATIONS REACHED LIMIT.\n",
            "\n",
            "Increase the number of iterations (max_iter) or scale the data as shown in:\n",
            "    https://scikit-learn.org/stable/modules/preprocessing.html\n",
            "Please also refer to the documentation for alternative solver options:\n",
            "    https://scikit-learn.org/stable/modules/linear_model.html#logistic-regression\n",
            "\n",
            "/usr/local/lib/python3.8/dist-packages/sklearn/linear_model/_logistic.py:814: ConvergenceWarning:\n",
            "\n",
            "lbfgs failed to converge (status=1):\n",
            "STOP: TOTAL NO. of ITERATIONS REACHED LIMIT.\n",
            "\n",
            "Increase the number of iterations (max_iter) or scale the data as shown in:\n",
            "    https://scikit-learn.org/stable/modules/preprocessing.html\n",
            "Please also refer to the documentation for alternative solver options:\n",
            "    https://scikit-learn.org/stable/modules/linear_model.html#logistic-regression\n",
            "\n",
            "/usr/local/lib/python3.8/dist-packages/sklearn/linear_model/_logistic.py:814: ConvergenceWarning:\n",
            "\n",
            "lbfgs failed to converge (status=1):\n",
            "STOP: TOTAL NO. of ITERATIONS REACHED LIMIT.\n",
            "\n",
            "Increase the number of iterations (max_iter) or scale the data as shown in:\n",
            "    https://scikit-learn.org/stable/modules/preprocessing.html\n",
            "Please also refer to the documentation for alternative solver options:\n",
            "    https://scikit-learn.org/stable/modules/linear_model.html#logistic-regression\n",
            "\n",
            "/usr/local/lib/python3.8/dist-packages/sklearn/linear_model/_logistic.py:814: ConvergenceWarning:\n",
            "\n",
            "lbfgs failed to converge (status=1):\n",
            "STOP: TOTAL NO. of ITERATIONS REACHED LIMIT.\n",
            "\n",
            "Increase the number of iterations (max_iter) or scale the data as shown in:\n",
            "    https://scikit-learn.org/stable/modules/preprocessing.html\n",
            "Please also refer to the documentation for alternative solver options:\n",
            "    https://scikit-learn.org/stable/modules/linear_model.html#logistic-regression\n",
            "\n",
            "/usr/local/lib/python3.8/dist-packages/sklearn/linear_model/_logistic.py:814: ConvergenceWarning:\n",
            "\n",
            "lbfgs failed to converge (status=1):\n",
            "STOP: TOTAL NO. of ITERATIONS REACHED LIMIT.\n",
            "\n",
            "Increase the number of iterations (max_iter) or scale the data as shown in:\n",
            "    https://scikit-learn.org/stable/modules/preprocessing.html\n",
            "Please also refer to the documentation for alternative solver options:\n",
            "    https://scikit-learn.org/stable/modules/linear_model.html#logistic-regression\n",
            "\n",
            "/usr/local/lib/python3.8/dist-packages/sklearn/linear_model/_logistic.py:814: ConvergenceWarning:\n",
            "\n",
            "lbfgs failed to converge (status=1):\n",
            "STOP: TOTAL NO. of ITERATIONS REACHED LIMIT.\n",
            "\n",
            "Increase the number of iterations (max_iter) or scale the data as shown in:\n",
            "    https://scikit-learn.org/stable/modules/preprocessing.html\n",
            "Please also refer to the documentation for alternative solver options:\n",
            "    https://scikit-learn.org/stable/modules/linear_model.html#logistic-regression\n",
            "\n",
            "/usr/local/lib/python3.8/dist-packages/sklearn/linear_model/_logistic.py:814: ConvergenceWarning:\n",
            "\n",
            "lbfgs failed to converge (status=1):\n",
            "STOP: TOTAL NO. of ITERATIONS REACHED LIMIT.\n",
            "\n",
            "Increase the number of iterations (max_iter) or scale the data as shown in:\n",
            "    https://scikit-learn.org/stable/modules/preprocessing.html\n",
            "Please also refer to the documentation for alternative solver options:\n",
            "    https://scikit-learn.org/stable/modules/linear_model.html#logistic-regression\n",
            "\n",
            "/usr/local/lib/python3.8/dist-packages/sklearn/linear_model/_logistic.py:814: ConvergenceWarning:\n",
            "\n",
            "lbfgs failed to converge (status=1):\n",
            "STOP: TOTAL NO. of ITERATIONS REACHED LIMIT.\n",
            "\n",
            "Increase the number of iterations (max_iter) or scale the data as shown in:\n",
            "    https://scikit-learn.org/stable/modules/preprocessing.html\n",
            "Please also refer to the documentation for alternative solver options:\n",
            "    https://scikit-learn.org/stable/modules/linear_model.html#logistic-regression\n",
            "\n",
            "/usr/local/lib/python3.8/dist-packages/sklearn/linear_model/_logistic.py:814: ConvergenceWarning:\n",
            "\n",
            "lbfgs failed to converge (status=1):\n",
            "STOP: TOTAL NO. of ITERATIONS REACHED LIMIT.\n",
            "\n",
            "Increase the number of iterations (max_iter) or scale the data as shown in:\n",
            "    https://scikit-learn.org/stable/modules/preprocessing.html\n",
            "Please also refer to the documentation for alternative solver options:\n",
            "    https://scikit-learn.org/stable/modules/linear_model.html#logistic-regression\n",
            "\n",
            "/usr/local/lib/python3.8/dist-packages/sklearn/linear_model/_logistic.py:814: ConvergenceWarning:\n",
            "\n",
            "lbfgs failed to converge (status=1):\n",
            "STOP: TOTAL NO. of ITERATIONS REACHED LIMIT.\n",
            "\n",
            "Increase the number of iterations (max_iter) or scale the data as shown in:\n",
            "    https://scikit-learn.org/stable/modules/preprocessing.html\n",
            "Please also refer to the documentation for alternative solver options:\n",
            "    https://scikit-learn.org/stable/modules/linear_model.html#logistic-regression\n",
            "\n",
            "/usr/local/lib/python3.8/dist-packages/sklearn/linear_model/_logistic.py:814: ConvergenceWarning:\n",
            "\n",
            "lbfgs failed to converge (status=1):\n",
            "STOP: TOTAL NO. of ITERATIONS REACHED LIMIT.\n",
            "\n",
            "Increase the number of iterations (max_iter) or scale the data as shown in:\n",
            "    https://scikit-learn.org/stable/modules/preprocessing.html\n",
            "Please also refer to the documentation for alternative solver options:\n",
            "    https://scikit-learn.org/stable/modules/linear_model.html#logistic-regression\n",
            "\n",
            "/usr/local/lib/python3.8/dist-packages/sklearn/linear_model/_logistic.py:814: ConvergenceWarning:\n",
            "\n",
            "lbfgs failed to converge (status=1):\n",
            "STOP: TOTAL NO. of ITERATIONS REACHED LIMIT.\n",
            "\n",
            "Increase the number of iterations (max_iter) or scale the data as shown in:\n",
            "    https://scikit-learn.org/stable/modules/preprocessing.html\n",
            "Please also refer to the documentation for alternative solver options:\n",
            "    https://scikit-learn.org/stable/modules/linear_model.html#logistic-regression\n",
            "\n",
            "/usr/local/lib/python3.8/dist-packages/sklearn/linear_model/_logistic.py:814: ConvergenceWarning:\n",
            "\n",
            "lbfgs failed to converge (status=1):\n",
            "STOP: TOTAL NO. of ITERATIONS REACHED LIMIT.\n",
            "\n",
            "Increase the number of iterations (max_iter) or scale the data as shown in:\n",
            "    https://scikit-learn.org/stable/modules/preprocessing.html\n",
            "Please also refer to the documentation for alternative solver options:\n",
            "    https://scikit-learn.org/stable/modules/linear_model.html#logistic-regression\n",
            "\n",
            "/usr/local/lib/python3.8/dist-packages/sklearn/linear_model/_logistic.py:814: ConvergenceWarning:\n",
            "\n",
            "lbfgs failed to converge (status=1):\n",
            "STOP: TOTAL NO. of ITERATIONS REACHED LIMIT.\n",
            "\n",
            "Increase the number of iterations (max_iter) or scale the data as shown in:\n",
            "    https://scikit-learn.org/stable/modules/preprocessing.html\n",
            "Please also refer to the documentation for alternative solver options:\n",
            "    https://scikit-learn.org/stable/modules/linear_model.html#logistic-regression\n",
            "\n",
            "/usr/local/lib/python3.8/dist-packages/sklearn/linear_model/_logistic.py:814: ConvergenceWarning:\n",
            "\n",
            "lbfgs failed to converge (status=1):\n",
            "STOP: TOTAL NO. of ITERATIONS REACHED LIMIT.\n",
            "\n",
            "Increase the number of iterations (max_iter) or scale the data as shown in:\n",
            "    https://scikit-learn.org/stable/modules/preprocessing.html\n",
            "Please also refer to the documentation for alternative solver options:\n",
            "    https://scikit-learn.org/stable/modules/linear_model.html#logistic-regression\n",
            "\n",
            "/usr/local/lib/python3.8/dist-packages/sklearn/linear_model/_logistic.py:814: ConvergenceWarning:\n",
            "\n",
            "lbfgs failed to converge (status=1):\n",
            "STOP: TOTAL NO. of ITERATIONS REACHED LIMIT.\n",
            "\n",
            "Increase the number of iterations (max_iter) or scale the data as shown in:\n",
            "    https://scikit-learn.org/stable/modules/preprocessing.html\n",
            "Please also refer to the documentation for alternative solver options:\n",
            "    https://scikit-learn.org/stable/modules/linear_model.html#logistic-regression\n",
            "\n",
            "/usr/local/lib/python3.8/dist-packages/sklearn/linear_model/_logistic.py:814: ConvergenceWarning:\n",
            "\n",
            "lbfgs failed to converge (status=1):\n",
            "STOP: TOTAL NO. of ITERATIONS REACHED LIMIT.\n",
            "\n",
            "Increase the number of iterations (max_iter) or scale the data as shown in:\n",
            "    https://scikit-learn.org/stable/modules/preprocessing.html\n",
            "Please also refer to the documentation for alternative solver options:\n",
            "    https://scikit-learn.org/stable/modules/linear_model.html#logistic-regression\n",
            "\n",
            "/usr/local/lib/python3.8/dist-packages/sklearn/linear_model/_logistic.py:814: ConvergenceWarning:\n",
            "\n",
            "lbfgs failed to converge (status=1):\n",
            "STOP: TOTAL NO. of ITERATIONS REACHED LIMIT.\n",
            "\n",
            "Increase the number of iterations (max_iter) or scale the data as shown in:\n",
            "    https://scikit-learn.org/stable/modules/preprocessing.html\n",
            "Please also refer to the documentation for alternative solver options:\n",
            "    https://scikit-learn.org/stable/modules/linear_model.html#logistic-regression\n",
            "\n",
            "/usr/local/lib/python3.8/dist-packages/sklearn/linear_model/_logistic.py:814: ConvergenceWarning:\n",
            "\n",
            "lbfgs failed to converge (status=1):\n",
            "STOP: TOTAL NO. of ITERATIONS REACHED LIMIT.\n",
            "\n",
            "Increase the number of iterations (max_iter) or scale the data as shown in:\n",
            "    https://scikit-learn.org/stable/modules/preprocessing.html\n",
            "Please also refer to the documentation for alternative solver options:\n",
            "    https://scikit-learn.org/stable/modules/linear_model.html#logistic-regression\n",
            "\n",
            "/usr/local/lib/python3.8/dist-packages/sklearn/linear_model/_logistic.py:814: ConvergenceWarning:\n",
            "\n",
            "lbfgs failed to converge (status=1):\n",
            "STOP: TOTAL NO. of ITERATIONS REACHED LIMIT.\n",
            "\n",
            "Increase the number of iterations (max_iter) or scale the data as shown in:\n",
            "    https://scikit-learn.org/stable/modules/preprocessing.html\n",
            "Please also refer to the documentation for alternative solver options:\n",
            "    https://scikit-learn.org/stable/modules/linear_model.html#logistic-regression\n",
            "\n",
            "/usr/local/lib/python3.8/dist-packages/sklearn/linear_model/_logistic.py:814: ConvergenceWarning:\n",
            "\n",
            "lbfgs failed to converge (status=1):\n",
            "STOP: TOTAL NO. of ITERATIONS REACHED LIMIT.\n",
            "\n",
            "Increase the number of iterations (max_iter) or scale the data as shown in:\n",
            "    https://scikit-learn.org/stable/modules/preprocessing.html\n",
            "Please also refer to the documentation for alternative solver options:\n",
            "    https://scikit-learn.org/stable/modules/linear_model.html#logistic-regression\n",
            "\n",
            "/usr/local/lib/python3.8/dist-packages/sklearn/linear_model/_logistic.py:814: ConvergenceWarning:\n",
            "\n",
            "lbfgs failed to converge (status=1):\n",
            "STOP: TOTAL NO. of ITERATIONS REACHED LIMIT.\n",
            "\n",
            "Increase the number of iterations (max_iter) or scale the data as shown in:\n",
            "    https://scikit-learn.org/stable/modules/preprocessing.html\n",
            "Please also refer to the documentation for alternative solver options:\n",
            "    https://scikit-learn.org/stable/modules/linear_model.html#logistic-regression\n",
            "\n",
            "/usr/local/lib/python3.8/dist-packages/sklearn/linear_model/_logistic.py:814: ConvergenceWarning:\n",
            "\n",
            "lbfgs failed to converge (status=1):\n",
            "STOP: TOTAL NO. of ITERATIONS REACHED LIMIT.\n",
            "\n",
            "Increase the number of iterations (max_iter) or scale the data as shown in:\n",
            "    https://scikit-learn.org/stable/modules/preprocessing.html\n",
            "Please also refer to the documentation for alternative solver options:\n",
            "    https://scikit-learn.org/stable/modules/linear_model.html#logistic-regression\n",
            "\n",
            "/usr/local/lib/python3.8/dist-packages/sklearn/linear_model/_logistic.py:814: ConvergenceWarning:\n",
            "\n",
            "lbfgs failed to converge (status=1):\n",
            "STOP: TOTAL NO. of ITERATIONS REACHED LIMIT.\n",
            "\n",
            "Increase the number of iterations (max_iter) or scale the data as shown in:\n",
            "    https://scikit-learn.org/stable/modules/preprocessing.html\n",
            "Please also refer to the documentation for alternative solver options:\n",
            "    https://scikit-learn.org/stable/modules/linear_model.html#logistic-regression\n",
            "\n",
            "/usr/local/lib/python3.8/dist-packages/sklearn/linear_model/_logistic.py:814: ConvergenceWarning:\n",
            "\n",
            "lbfgs failed to converge (status=1):\n",
            "STOP: TOTAL NO. of ITERATIONS REACHED LIMIT.\n",
            "\n",
            "Increase the number of iterations (max_iter) or scale the data as shown in:\n",
            "    https://scikit-learn.org/stable/modules/preprocessing.html\n",
            "Please also refer to the documentation for alternative solver options:\n",
            "    https://scikit-learn.org/stable/modules/linear_model.html#logistic-regression\n",
            "\n",
            "/usr/local/lib/python3.8/dist-packages/sklearn/linear_model/_logistic.py:814: ConvergenceWarning:\n",
            "\n",
            "lbfgs failed to converge (status=1):\n",
            "STOP: TOTAL NO. of ITERATIONS REACHED LIMIT.\n",
            "\n",
            "Increase the number of iterations (max_iter) or scale the data as shown in:\n",
            "    https://scikit-learn.org/stable/modules/preprocessing.html\n",
            "Please also refer to the documentation for alternative solver options:\n",
            "    https://scikit-learn.org/stable/modules/linear_model.html#logistic-regression\n",
            "\n",
            "/usr/local/lib/python3.8/dist-packages/sklearn/linear_model/_logistic.py:814: ConvergenceWarning:\n",
            "\n",
            "lbfgs failed to converge (status=1):\n",
            "STOP: TOTAL NO. of ITERATIONS REACHED LIMIT.\n",
            "\n",
            "Increase the number of iterations (max_iter) or scale the data as shown in:\n",
            "    https://scikit-learn.org/stable/modules/preprocessing.html\n",
            "Please also refer to the documentation for alternative solver options:\n",
            "    https://scikit-learn.org/stable/modules/linear_model.html#logistic-regression\n",
            "\n",
            "/usr/local/lib/python3.8/dist-packages/sklearn/linear_model/_logistic.py:814: ConvergenceWarning:\n",
            "\n",
            "lbfgs failed to converge (status=1):\n",
            "STOP: TOTAL NO. of ITERATIONS REACHED LIMIT.\n",
            "\n",
            "Increase the number of iterations (max_iter) or scale the data as shown in:\n",
            "    https://scikit-learn.org/stable/modules/preprocessing.html\n",
            "Please also refer to the documentation for alternative solver options:\n",
            "    https://scikit-learn.org/stable/modules/linear_model.html#logistic-regression\n",
            "\n",
            "/usr/local/lib/python3.8/dist-packages/sklearn/linear_model/_logistic.py:814: ConvergenceWarning:\n",
            "\n",
            "lbfgs failed to converge (status=1):\n",
            "STOP: TOTAL NO. of ITERATIONS REACHED LIMIT.\n",
            "\n",
            "Increase the number of iterations (max_iter) or scale the data as shown in:\n",
            "    https://scikit-learn.org/stable/modules/preprocessing.html\n",
            "Please also refer to the documentation for alternative solver options:\n",
            "    https://scikit-learn.org/stable/modules/linear_model.html#logistic-regression\n",
            "\n",
            "/usr/local/lib/python3.8/dist-packages/sklearn/linear_model/_logistic.py:814: ConvergenceWarning:\n",
            "\n",
            "lbfgs failed to converge (status=1):\n",
            "STOP: TOTAL NO. of ITERATIONS REACHED LIMIT.\n",
            "\n",
            "Increase the number of iterations (max_iter) or scale the data as shown in:\n",
            "    https://scikit-learn.org/stable/modules/preprocessing.html\n",
            "Please also refer to the documentation for alternative solver options:\n",
            "    https://scikit-learn.org/stable/modules/linear_model.html#logistic-regression\n",
            "\n",
            "/usr/local/lib/python3.8/dist-packages/sklearn/linear_model/_logistic.py:814: ConvergenceWarning:\n",
            "\n",
            "lbfgs failed to converge (status=1):\n",
            "STOP: TOTAL NO. of ITERATIONS REACHED LIMIT.\n",
            "\n",
            "Increase the number of iterations (max_iter) or scale the data as shown in:\n",
            "    https://scikit-learn.org/stable/modules/preprocessing.html\n",
            "Please also refer to the documentation for alternative solver options:\n",
            "    https://scikit-learn.org/stable/modules/linear_model.html#logistic-regression\n",
            "\n",
            "/usr/local/lib/python3.8/dist-packages/sklearn/linear_model/_logistic.py:814: ConvergenceWarning:\n",
            "\n",
            "lbfgs failed to converge (status=1):\n",
            "STOP: TOTAL NO. of ITERATIONS REACHED LIMIT.\n",
            "\n",
            "Increase the number of iterations (max_iter) or scale the data as shown in:\n",
            "    https://scikit-learn.org/stable/modules/preprocessing.html\n",
            "Please also refer to the documentation for alternative solver options:\n",
            "    https://scikit-learn.org/stable/modules/linear_model.html#logistic-regression\n",
            "\n",
            "/usr/local/lib/python3.8/dist-packages/sklearn/linear_model/_logistic.py:814: ConvergenceWarning:\n",
            "\n",
            "lbfgs failed to converge (status=1):\n",
            "STOP: TOTAL NO. of ITERATIONS REACHED LIMIT.\n",
            "\n",
            "Increase the number of iterations (max_iter) or scale the data as shown in:\n",
            "    https://scikit-learn.org/stable/modules/preprocessing.html\n",
            "Please also refer to the documentation for alternative solver options:\n",
            "    https://scikit-learn.org/stable/modules/linear_model.html#logistic-regression\n",
            "\n",
            "/usr/local/lib/python3.8/dist-packages/sklearn/linear_model/_logistic.py:814: ConvergenceWarning:\n",
            "\n",
            "lbfgs failed to converge (status=1):\n",
            "STOP: TOTAL NO. of ITERATIONS REACHED LIMIT.\n",
            "\n",
            "Increase the number of iterations (max_iter) or scale the data as shown in:\n",
            "    https://scikit-learn.org/stable/modules/preprocessing.html\n",
            "Please also refer to the documentation for alternative solver options:\n",
            "    https://scikit-learn.org/stable/modules/linear_model.html#logistic-regression\n",
            "\n",
            "/usr/local/lib/python3.8/dist-packages/sklearn/linear_model/_logistic.py:814: ConvergenceWarning:\n",
            "\n",
            "lbfgs failed to converge (status=1):\n",
            "STOP: TOTAL NO. of ITERATIONS REACHED LIMIT.\n",
            "\n",
            "Increase the number of iterations (max_iter) or scale the data as shown in:\n",
            "    https://scikit-learn.org/stable/modules/preprocessing.html\n",
            "Please also refer to the documentation for alternative solver options:\n",
            "    https://scikit-learn.org/stable/modules/linear_model.html#logistic-regression\n",
            "\n",
            "/usr/local/lib/python3.8/dist-packages/sklearn/linear_model/_logistic.py:814: ConvergenceWarning:\n",
            "\n",
            "lbfgs failed to converge (status=1):\n",
            "STOP: TOTAL NO. of ITERATIONS REACHED LIMIT.\n",
            "\n",
            "Increase the number of iterations (max_iter) or scale the data as shown in:\n",
            "    https://scikit-learn.org/stable/modules/preprocessing.html\n",
            "Please also refer to the documentation for alternative solver options:\n",
            "    https://scikit-learn.org/stable/modules/linear_model.html#logistic-regression\n",
            "\n",
            "/usr/local/lib/python3.8/dist-packages/sklearn/linear_model/_logistic.py:814: ConvergenceWarning:\n",
            "\n",
            "lbfgs failed to converge (status=1):\n",
            "STOP: TOTAL NO. of ITERATIONS REACHED LIMIT.\n",
            "\n",
            "Increase the number of iterations (max_iter) or scale the data as shown in:\n",
            "    https://scikit-learn.org/stable/modules/preprocessing.html\n",
            "Please also refer to the documentation for alternative solver options:\n",
            "    https://scikit-learn.org/stable/modules/linear_model.html#logistic-regression\n",
            "\n",
            "/usr/local/lib/python3.8/dist-packages/sklearn/linear_model/_logistic.py:814: ConvergenceWarning:\n",
            "\n",
            "lbfgs failed to converge (status=1):\n",
            "STOP: TOTAL NO. of ITERATIONS REACHED LIMIT.\n",
            "\n",
            "Increase the number of iterations (max_iter) or scale the data as shown in:\n",
            "    https://scikit-learn.org/stable/modules/preprocessing.html\n",
            "Please also refer to the documentation for alternative solver options:\n",
            "    https://scikit-learn.org/stable/modules/linear_model.html#logistic-regression\n",
            "\n",
            "/usr/local/lib/python3.8/dist-packages/sklearn/linear_model/_logistic.py:814: ConvergenceWarning:\n",
            "\n",
            "lbfgs failed to converge (status=1):\n",
            "STOP: TOTAL NO. of ITERATIONS REACHED LIMIT.\n",
            "\n",
            "Increase the number of iterations (max_iter) or scale the data as shown in:\n",
            "    https://scikit-learn.org/stable/modules/preprocessing.html\n",
            "Please also refer to the documentation for alternative solver options:\n",
            "    https://scikit-learn.org/stable/modules/linear_model.html#logistic-regression\n",
            "\n",
            "/usr/local/lib/python3.8/dist-packages/sklearn/linear_model/_logistic.py:814: ConvergenceWarning:\n",
            "\n",
            "lbfgs failed to converge (status=1):\n",
            "STOP: TOTAL NO. of ITERATIONS REACHED LIMIT.\n",
            "\n",
            "Increase the number of iterations (max_iter) or scale the data as shown in:\n",
            "    https://scikit-learn.org/stable/modules/preprocessing.html\n",
            "Please also refer to the documentation for alternative solver options:\n",
            "    https://scikit-learn.org/stable/modules/linear_model.html#logistic-regression\n",
            "\n",
            "/usr/local/lib/python3.8/dist-packages/sklearn/linear_model/_logistic.py:814: ConvergenceWarning:\n",
            "\n",
            "lbfgs failed to converge (status=1):\n",
            "STOP: TOTAL NO. of ITERATIONS REACHED LIMIT.\n",
            "\n",
            "Increase the number of iterations (max_iter) or scale the data as shown in:\n",
            "    https://scikit-learn.org/stable/modules/preprocessing.html\n",
            "Please also refer to the documentation for alternative solver options:\n",
            "    https://scikit-learn.org/stable/modules/linear_model.html#logistic-regression\n",
            "\n",
            "/usr/local/lib/python3.8/dist-packages/sklearn/linear_model/_logistic.py:814: ConvergenceWarning:\n",
            "\n",
            "lbfgs failed to converge (status=1):\n",
            "STOP: TOTAL NO. of ITERATIONS REACHED LIMIT.\n",
            "\n",
            "Increase the number of iterations (max_iter) or scale the data as shown in:\n",
            "    https://scikit-learn.org/stable/modules/preprocessing.html\n",
            "Please also refer to the documentation for alternative solver options:\n",
            "    https://scikit-learn.org/stable/modules/linear_model.html#logistic-regression\n",
            "\n",
            "/usr/local/lib/python3.8/dist-packages/sklearn/linear_model/_logistic.py:814: ConvergenceWarning:\n",
            "\n",
            "lbfgs failed to converge (status=1):\n",
            "STOP: TOTAL NO. of ITERATIONS REACHED LIMIT.\n",
            "\n",
            "Increase the number of iterations (max_iter) or scale the data as shown in:\n",
            "    https://scikit-learn.org/stable/modules/preprocessing.html\n",
            "Please also refer to the documentation for alternative solver options:\n",
            "    https://scikit-learn.org/stable/modules/linear_model.html#logistic-regression\n",
            "\n",
            "/usr/local/lib/python3.8/dist-packages/sklearn/linear_model/_logistic.py:814: ConvergenceWarning:\n",
            "\n",
            "lbfgs failed to converge (status=1):\n",
            "STOP: TOTAL NO. of ITERATIONS REACHED LIMIT.\n",
            "\n",
            "Increase the number of iterations (max_iter) or scale the data as shown in:\n",
            "    https://scikit-learn.org/stable/modules/preprocessing.html\n",
            "Please also refer to the documentation for alternative solver options:\n",
            "    https://scikit-learn.org/stable/modules/linear_model.html#logistic-regression\n",
            "\n",
            "/usr/local/lib/python3.8/dist-packages/sklearn/linear_model/_logistic.py:814: ConvergenceWarning:\n",
            "\n",
            "lbfgs failed to converge (status=1):\n",
            "STOP: TOTAL NO. of ITERATIONS REACHED LIMIT.\n",
            "\n",
            "Increase the number of iterations (max_iter) or scale the data as shown in:\n",
            "    https://scikit-learn.org/stable/modules/preprocessing.html\n",
            "Please also refer to the documentation for alternative solver options:\n",
            "    https://scikit-learn.org/stable/modules/linear_model.html#logistic-regression\n",
            "\n",
            "/usr/local/lib/python3.8/dist-packages/sklearn/linear_model/_logistic.py:814: ConvergenceWarning:\n",
            "\n",
            "lbfgs failed to converge (status=1):\n",
            "STOP: TOTAL NO. of ITERATIONS REACHED LIMIT.\n",
            "\n",
            "Increase the number of iterations (max_iter) or scale the data as shown in:\n",
            "    https://scikit-learn.org/stable/modules/preprocessing.html\n",
            "Please also refer to the documentation for alternative solver options:\n",
            "    https://scikit-learn.org/stable/modules/linear_model.html#logistic-regression\n",
            "\n",
            "/usr/local/lib/python3.8/dist-packages/sklearn/linear_model/_logistic.py:814: ConvergenceWarning:\n",
            "\n",
            "lbfgs failed to converge (status=1):\n",
            "STOP: TOTAL NO. of ITERATIONS REACHED LIMIT.\n",
            "\n",
            "Increase the number of iterations (max_iter) or scale the data as shown in:\n",
            "    https://scikit-learn.org/stable/modules/preprocessing.html\n",
            "Please also refer to the documentation for alternative solver options:\n",
            "    https://scikit-learn.org/stable/modules/linear_model.html#logistic-regression\n",
            "\n",
            "/usr/local/lib/python3.8/dist-packages/sklearn/linear_model/_logistic.py:814: ConvergenceWarning:\n",
            "\n",
            "lbfgs failed to converge (status=1):\n",
            "STOP: TOTAL NO. of ITERATIONS REACHED LIMIT.\n",
            "\n",
            "Increase the number of iterations (max_iter) or scale the data as shown in:\n",
            "    https://scikit-learn.org/stable/modules/preprocessing.html\n",
            "Please also refer to the documentation for alternative solver options:\n",
            "    https://scikit-learn.org/stable/modules/linear_model.html#logistic-regression\n",
            "\n",
            "/usr/local/lib/python3.8/dist-packages/sklearn/linear_model/_logistic.py:814: ConvergenceWarning:\n",
            "\n",
            "lbfgs failed to converge (status=1):\n",
            "STOP: TOTAL NO. of ITERATIONS REACHED LIMIT.\n",
            "\n",
            "Increase the number of iterations (max_iter) or scale the data as shown in:\n",
            "    https://scikit-learn.org/stable/modules/preprocessing.html\n",
            "Please also refer to the documentation for alternative solver options:\n",
            "    https://scikit-learn.org/stable/modules/linear_model.html#logistic-regression\n",
            "\n",
            "/usr/local/lib/python3.8/dist-packages/sklearn/linear_model/_logistic.py:814: ConvergenceWarning:\n",
            "\n",
            "lbfgs failed to converge (status=1):\n",
            "STOP: TOTAL NO. of ITERATIONS REACHED LIMIT.\n",
            "\n",
            "Increase the number of iterations (max_iter) or scale the data as shown in:\n",
            "    https://scikit-learn.org/stable/modules/preprocessing.html\n",
            "Please also refer to the documentation for alternative solver options:\n",
            "    https://scikit-learn.org/stable/modules/linear_model.html#logistic-regression\n",
            "\n",
            "/usr/local/lib/python3.8/dist-packages/sklearn/linear_model/_logistic.py:814: ConvergenceWarning:\n",
            "\n",
            "lbfgs failed to converge (status=1):\n",
            "STOP: TOTAL NO. of ITERATIONS REACHED LIMIT.\n",
            "\n",
            "Increase the number of iterations (max_iter) or scale the data as shown in:\n",
            "    https://scikit-learn.org/stable/modules/preprocessing.html\n",
            "Please also refer to the documentation for alternative solver options:\n",
            "    https://scikit-learn.org/stable/modules/linear_model.html#logistic-regression\n",
            "\n",
            "/usr/local/lib/python3.8/dist-packages/sklearn/linear_model/_logistic.py:814: ConvergenceWarning:\n",
            "\n",
            "lbfgs failed to converge (status=1):\n",
            "STOP: TOTAL NO. of ITERATIONS REACHED LIMIT.\n",
            "\n",
            "Increase the number of iterations (max_iter) or scale the data as shown in:\n",
            "    https://scikit-learn.org/stable/modules/preprocessing.html\n",
            "Please also refer to the documentation for alternative solver options:\n",
            "    https://scikit-learn.org/stable/modules/linear_model.html#logistic-regression\n",
            "\n",
            "/usr/local/lib/python3.8/dist-packages/sklearn/linear_model/_logistic.py:814: ConvergenceWarning:\n",
            "\n",
            "lbfgs failed to converge (status=1):\n",
            "STOP: TOTAL NO. of ITERATIONS REACHED LIMIT.\n",
            "\n",
            "Increase the number of iterations (max_iter) or scale the data as shown in:\n",
            "    https://scikit-learn.org/stable/modules/preprocessing.html\n",
            "Please also refer to the documentation for alternative solver options:\n",
            "    https://scikit-learn.org/stable/modules/linear_model.html#logistic-regression\n",
            "\n",
            "/usr/local/lib/python3.8/dist-packages/sklearn/linear_model/_logistic.py:814: ConvergenceWarning:\n",
            "\n",
            "lbfgs failed to converge (status=1):\n",
            "STOP: TOTAL NO. of ITERATIONS REACHED LIMIT.\n",
            "\n",
            "Increase the number of iterations (max_iter) or scale the data as shown in:\n",
            "    https://scikit-learn.org/stable/modules/preprocessing.html\n",
            "Please also refer to the documentation for alternative solver options:\n",
            "    https://scikit-learn.org/stable/modules/linear_model.html#logistic-regression\n",
            "\n",
            "/usr/local/lib/python3.8/dist-packages/sklearn/linear_model/_logistic.py:814: ConvergenceWarning:\n",
            "\n",
            "lbfgs failed to converge (status=1):\n",
            "STOP: TOTAL NO. of ITERATIONS REACHED LIMIT.\n",
            "\n",
            "Increase the number of iterations (max_iter) or scale the data as shown in:\n",
            "    https://scikit-learn.org/stable/modules/preprocessing.html\n",
            "Please also refer to the documentation for alternative solver options:\n",
            "    https://scikit-learn.org/stable/modules/linear_model.html#logistic-regression\n",
            "\n",
            "/usr/local/lib/python3.8/dist-packages/sklearn/linear_model/_logistic.py:814: ConvergenceWarning:\n",
            "\n",
            "lbfgs failed to converge (status=1):\n",
            "STOP: TOTAL NO. of ITERATIONS REACHED LIMIT.\n",
            "\n",
            "Increase the number of iterations (max_iter) or scale the data as shown in:\n",
            "    https://scikit-learn.org/stable/modules/preprocessing.html\n",
            "Please also refer to the documentation for alternative solver options:\n",
            "    https://scikit-learn.org/stable/modules/linear_model.html#logistic-regression\n",
            "\n"
          ]
        },
        {
          "output_type": "execute_result",
          "data": {
            "text/plain": [
              "GridSearchCV(cv=10, estimator=LogisticRegression(),\n",
              "             param_grid={'C': array([1.e-03, 1.e-02, 1.e-01, 1.e+00, 1.e+01, 1.e+02, 1.e+03])})"
            ]
          },
          "metadata": {},
          "execution_count": 605
        }
      ]
    },
    {
      "cell_type": "code",
      "source": [
        "CV_lr.best_params_"
      ],
      "metadata": {
        "colab": {
          "base_uri": "https://localhost:8080/"
        },
        "id": "jd-qWXM9nd6R",
        "outputId": "7cea0c16-ec86-4715-9595-2afc99aaab21"
      },
      "execution_count": 606,
      "outputs": [
        {
          "output_type": "execute_result",
          "data": {
            "text/plain": [
              "{'C': 100.0}"
            ]
          },
          "metadata": {},
          "execution_count": 606
        }
      ]
    },
    {
      "cell_type": "code",
      "source": [
        "lr1 = LogisticRegression(C=100)\n",
        "lr1.fit(X_train, y_train)\n",
        "pred_lr = lr1.predict(X_test)\n",
        "pred_proba_lr1 = lr1.predict_proba(X_test)[:,1]"
      ],
      "metadata": {
        "colab": {
          "base_uri": "https://localhost:8080/"
        },
        "id": "YiundYnCtMpV",
        "outputId": "c00a61e8-0f64-4ca9-ae57-cd80ce02a418"
      },
      "execution_count": 607,
      "outputs": [
        {
          "output_type": "stream",
          "name": "stderr",
          "text": [
            "/usr/local/lib/python3.8/dist-packages/sklearn/linear_model/_logistic.py:814: ConvergenceWarning:\n",
            "\n",
            "lbfgs failed to converge (status=1):\n",
            "STOP: TOTAL NO. of ITERATIONS REACHED LIMIT.\n",
            "\n",
            "Increase the number of iterations (max_iter) or scale the data as shown in:\n",
            "    https://scikit-learn.org/stable/modules/preprocessing.html\n",
            "Please also refer to the documentation for alternative solver options:\n",
            "    https://scikit-learn.org/stable/modules/linear_model.html#logistic-regression\n",
            "\n"
          ]
        }
      ]
    },
    {
      "cell_type": "code",
      "source": [
        "lr1.score(X_test, y_test)"
      ],
      "metadata": {
        "colab": {
          "base_uri": "https://localhost:8080/"
        },
        "id": "XsbasXi3tOPq",
        "outputId": "d3af6242-a5d9-4a26-83cc-96fef2f01097"
      },
      "execution_count": 608,
      "outputs": [
        {
          "output_type": "execute_result",
          "data": {
            "text/plain": [
              "0.9979450928818018"
            ]
          },
          "metadata": {},
          "execution_count": 608
        }
      ]
    },
    {
      "cell_type": "code",
      "source": [
        "from sklearn import datasets\n",
        "from sklearn.tree import DecisionTreeClassifier\n",
        "from sklearn.model_selection import KFold, cross_val_score\n",
        "\n",
        "\n",
        "k_folds = KFold(n_splits=5)\n",
        "\n",
        "scores = cross_val_score(lr1, X, y, cv = k_folds)\n",
        "print (\"Cross Validation Scores: \", scores)\n",
        "print (\"Average CV Score: \", scores.mean())\n",
        "print (\"Number of CV Scores used in Average: \", len(scores))"
      ],
      "metadata": {
        "colab": {
          "base_uri": "https://localhost:8080/"
        },
        "id": "FhOJN5NDK8gI",
        "outputId": "19496246-d3ab-4ade-b010-202e64d99b56"
      },
      "execution_count": 619,
      "outputs": [
        {
          "output_type": "stream",
          "name": "stderr",
          "text": [
            "/usr/local/lib/python3.8/dist-packages/sklearn/linear_model/_logistic.py:814: ConvergenceWarning:\n",
            "\n",
            "lbfgs failed to converge (status=1):\n",
            "STOP: TOTAL NO. of ITERATIONS REACHED LIMIT.\n",
            "\n",
            "Increase the number of iterations (max_iter) or scale the data as shown in:\n",
            "    https://scikit-learn.org/stable/modules/preprocessing.html\n",
            "Please also refer to the documentation for alternative solver options:\n",
            "    https://scikit-learn.org/stable/modules/linear_model.html#logistic-regression\n",
            "\n",
            "/usr/local/lib/python3.8/dist-packages/sklearn/linear_model/_logistic.py:814: ConvergenceWarning:\n",
            "\n",
            "lbfgs failed to converge (status=1):\n",
            "STOP: TOTAL NO. of ITERATIONS REACHED LIMIT.\n",
            "\n",
            "Increase the number of iterations (max_iter) or scale the data as shown in:\n",
            "    https://scikit-learn.org/stable/modules/preprocessing.html\n",
            "Please also refer to the documentation for alternative solver options:\n",
            "    https://scikit-learn.org/stable/modules/linear_model.html#logistic-regression\n",
            "\n",
            "/usr/local/lib/python3.8/dist-packages/sklearn/linear_model/_logistic.py:814: ConvergenceWarning:\n",
            "\n",
            "lbfgs failed to converge (status=1):\n",
            "STOP: TOTAL NO. of ITERATIONS REACHED LIMIT.\n",
            "\n",
            "Increase the number of iterations (max_iter) or scale the data as shown in:\n",
            "    https://scikit-learn.org/stable/modules/preprocessing.html\n",
            "Please also refer to the documentation for alternative solver options:\n",
            "    https://scikit-learn.org/stable/modules/linear_model.html#logistic-regression\n",
            "\n",
            "/usr/local/lib/python3.8/dist-packages/sklearn/linear_model/_logistic.py:814: ConvergenceWarning:\n",
            "\n",
            "lbfgs failed to converge (status=1):\n",
            "STOP: TOTAL NO. of ITERATIONS REACHED LIMIT.\n",
            "\n",
            "Increase the number of iterations (max_iter) or scale the data as shown in:\n",
            "    https://scikit-learn.org/stable/modules/preprocessing.html\n",
            "Please also refer to the documentation for alternative solver options:\n",
            "    https://scikit-learn.org/stable/modules/linear_model.html#logistic-regression\n",
            "\n"
          ]
        },
        {
          "output_type": "stream",
          "name": "stdout",
          "text": [
            "Cross Validation Scores:  [0.97589693 0.99747241 0.9430368  0.99716417 0.99926022]\n",
            "Average CV Score:  0.9825661069363159\n",
            "Number of CV Scores used in Average:  5\n"
          ]
        },
        {
          "output_type": "stream",
          "name": "stderr",
          "text": [
            "/usr/local/lib/python3.8/dist-packages/sklearn/linear_model/_logistic.py:814: ConvergenceWarning:\n",
            "\n",
            "lbfgs failed to converge (status=1):\n",
            "STOP: TOTAL NO. of ITERATIONS REACHED LIMIT.\n",
            "\n",
            "Increase the number of iterations (max_iter) or scale the data as shown in:\n",
            "    https://scikit-learn.org/stable/modules/preprocessing.html\n",
            "Please also refer to the documentation for alternative solver options:\n",
            "    https://scikit-learn.org/stable/modules/linear_model.html#logistic-regression\n",
            "\n"
          ]
        }
      ]
    },
    {
      "cell_type": "code",
      "source": [
        "x = np.array([1, 2, 3, 4, 5])\n",
        "y = scores\n",
        "\n",
        "plt.title('K-Fold Cross Validation')\n",
        "plt.plot(x, y, color = 'c')\n",
        "plt.ylim(0.93, 1)\n",
        "plt.show()"
      ],
      "metadata": {
        "colab": {
          "base_uri": "https://localhost:8080/",
          "height": 719
        },
        "id": "8OJ9a2njLvxe",
        "outputId": "bd6cc7e6-7375-48e5-8c09-bb67b4d3f9ea"
      },
      "execution_count": 621,
      "outputs": [
        {
          "output_type": "display_data",
          "data": {
            "text/plain": [
              "<Figure size 1008x864 with 1 Axes>"
            ],
            "image/png": "[encoded data removed]"
          },
          "metadata": {}
        }
      ]
    },
    {
      "cell_type": "code",
      "source": [
        "confusion_matrix = pd.crosstab(y_test,pred_lr, rownames=['Actual'], colnames=['Predicted'])\n",
        "confusion_matrix"
      ],
      "metadata": {
        "colab": {
          "base_uri": "https://localhost:8080/",
          "height": 143
        },
        "id": "NH1mMdfUtVmj",
        "outputId": "accf3b00-0ef2-415c-88e0-2efe275b8498"
      },
      "execution_count": 609,
      "outputs": [
        {
          "output_type": "execute_result",
          "data": {
            "text/plain": [
              "Predicted     0     1\n",
              "Actual               \n",
              "0          8721     1\n",
              "1            24  3420"
            ],
            "text/html": [
              "\n",
              "  <div id=\"df-d55400d3-98cc-454f-a766-f323c2d4d451\">\n",
              "    <div class=\"colab-df-container\">\n",
              "      <div>\n",
              "<style scoped>\n",
              "    .dataframe tbody tr th:only-of-type {\n",
              "        vertical-align: middle;\n",
              "    }\n",
              "\n",
              "    .dataframe tbody tr th {\n",
              "        vertical-align: top;\n",
              "    }\n",
              "\n",
              "    .dataframe thead th {\n",
              "        text-align: right;\n",
              "    }\n",
              "</style>\n",
              "<table border=\"1\" class=\"dataframe\">\n",
              "  <thead>\n",
              "    <tr style=\"text-align: right;\">\n",
              "      <th>Predicted</th>\n",
              "      <th>0</th>\n",
              "      <th>1</th>\n",
              "    </tr>\n",
              "    <tr>\n",
              "      <th>Actual</th>\n",
              "      <th></th>\n",
              "      <th></th>\n",
              "    </tr>\n",
              "  </thead>\n",
              "  <tbody>\n",
              "    <tr>\n",
              "      <th>0</th>\n",
              "      <td>8721</td>\n",
              "      <td>1</td>\n",
              "    </tr>\n",
              "    <tr>\n",
              "      <th>1</th>\n",
              "      <td>24</td>\n",
              "      <td>3420</td>\n",
              "    </tr>\n",
              "  </tbody>\n",
              "</table>\n",
              "</div>\n",
              "      <button class=\"colab-df-convert\" onclick=\"convertToInteractive('df-d55400d3-98cc-454f-a766-f323c2d4d451')\"\n",
              "              title=\"Convert this dataframe to an interactive table.\"\n",
              "              style=\"display:none;\">\n",
              "        \n",
              "  <svg xmlns=\"http://www.w3.org/2000/svg\" height=\"24px\"viewBox=\"0 0 24 24\"\n",
              "       width=\"24px\">\n",
              "    <path d=\"M0 0h24v24H0V0z\" fill=\"none\"/>\n",
              "    <path d=\"M18.56 5.44l.94 2.06.94-2.06 2.06-.94-2.06-.94-.94-2.06-.94 2.06-2.06.94zm-11 1L8.5 8.5l.94-2.06 2.06-.94-2.06-.94L8.5 2.5l-.94 2.06-2.06.94zm10 10l.94 2.06.94-2.06 2.06-.94-2.06-.94-.94-2.06-.94 2.06-2.06.94z\"/><path d=\"M17.41 7.96l-1.37-1.37c-.4-.4-.92-.59-1.43-.59-.52 0-1.04.2-1.43.59L10.3 9.45l-7.72 7.72c-.78.78-.78 2.05 0 2.83L4 21.41c.39.39.9.59 1.41.59.51 0 1.02-.2 1.41-.59l7.78-7.78 2.81-2.81c.8-.78.8-2.07 0-2.86zM5.41 20L4 18.59l7.72-7.72 1.47 1.35L5.41 20z\"/>\n",
              "  </svg>\n",
              "      </button>\n",
              "      \n",
              "  <style>\n",
              "    .colab-df-container {\n",
              "      display:flex;\n",
              "      flex-wrap:wrap;\n",
              "      gap: 12px;\n",
              "    }\n",
              "\n",
              "    .colab-df-convert {\n",
              "      background-color: #E8F0FE;\n",
              "      border: none;\n",
              "      border-radius: 50%;\n",
              "      cursor: pointer;\n",
              "      display: none;\n",
              "      fill: #1967D2;\n",
              "      height: 32px;\n",
              "      padding: 0 0 0 0;\n",
              "      width: 32px;\n",
              "    }\n",
              "\n",
              "    .colab-df-convert:hover {\n",
              "      background-color: #E2EBFA;\n",
              "      box-shadow: 0px 1px 2px rgba(60, 64, 67, 0.3), 0px 1px 3px 1px rgba(60, 64, 67, 0.15);\n",
              "      fill: #174EA6;\n",
              "    }\n",
              "\n",
              "    [theme=dark] .colab-df-convert {\n",
              "      background-color: #3B4455;\n",
              "      fill: #D2E3FC;\n",
              "    }\n",
              "\n",
              "    [theme=dark] .colab-df-convert:hover {\n",
              "      background-color: #434B5C;\n",
              "      box-shadow: 0px 1px 3px 1px rgba(0, 0, 0, 0.15);\n",
              "      filter: drop-shadow(0px 1px 2px rgba(0, 0, 0, 0.3));\n",
              "      fill: #FFFFFF;\n",
              "    }\n",
              "  </style>\n",
              "\n",
              "      <script>\n",
              "        const buttonEl =\n",
              "          document.querySelector('#df-d55400d3-98cc-454f-a766-f323c2d4d451 button.colab-df-convert');\n",
              "        buttonEl.style.display =\n",
              "          google.colab.kernel.accessAllowed ? 'block' : 'none';\n",
              "\n",
              "        async function convertToInteractive(key) {\n",
              "          const element = document.querySelector('#df-d55400d3-98cc-454f-a766-f323c2d4d451');\n",
              "          const dataTable =\n",
              "            await google.colab.kernel.invokeFunction('convertToInteractive',\n",
              "                                                     [key], {});\n",
              "          if (!dataTable) return;\n",
              "\n",
              "          const docLinkHtml = 'Like what you see? Visit the ' +\n",
              "            '<a target=\"_blank\" href=https://colab.research.google.com/notebooks/data_table.ipynb>data table notebook</a>'\n",
              "            + ' to learn more about interactive tables.';\n",
              "          element.innerHTML = '';\n",
              "          dataTable['output_type'] = 'display_data';\n",
              "          await google.colab.output.renderOutput(dataTable, element);\n",
              "          const docLink = document.createElement('div');\n",
              "          docLink.innerHTML = docLinkHtml;\n",
              "          element.appendChild(docLink);\n",
              "        }\n",
              "      </script>\n",
              "    </div>\n",
              "  </div>\n",
              "  "
            ]
          },
          "metadata": {},
          "execution_count": 609
        }
      ]
    },
    {
      "cell_type": "code",
      "source": [
        "roc_auc_score(y_test, pred_proba_lr1)"
      ],
      "metadata": {
        "colab": {
          "base_uri": "https://localhost:8080/"
        },
        "id": "3xfaEJB5taYd",
        "outputId": "2937b657-81d3-42c4-82ff-4c61cc14c79c"
      },
      "execution_count": 610,
      "outputs": [
        {
          "output_type": "execute_result",
          "data": {
            "text/plain": [
              "0.9994948494215836"
            ]
          },
          "metadata": {},
          "execution_count": 610
        }
      ]
    },
    {
      "cell_type": "markdown",
      "source": [
        "#### Modelo: Extra Trees"
      ],
      "metadata": {
        "id": "ijShkCO2mRVG"
      }
    },
    {
      "cell_type": "code",
      "source": [
        "from sklearn.ensemble import RandomForestClassifier,ExtraTreesClassifier\n",
        "from sklearn.model_selection import GridSearchCV"
      ],
      "metadata": {
        "id": "n8fUfvpO6nN3"
      },
      "execution_count": 599,
      "outputs": []
    },
    {
      "cell_type": "code",
      "source": [
        "etc = ExtraTreesClassifier(random_state=42)\n",
        "\n",
        "param_grid = { \n",
        "    'n_estimators': [100, 150, 200],\n",
        "    'max_depth' : list(range(1,30,5)),\n",
        "    'criterion' :['gini', 'entropy'],\n",
        "    'bootstrap' :[True, False]\n",
        "}\n",
        "\n",
        "CV_etc = GridSearchCV(estimator = etc, param_grid=param_grid, cv= 5)\n",
        "CV_etc.fit(X_train, y_train)"
      ],
      "metadata": {
        "colab": {
          "base_uri": "https://localhost:8080/"
        },
        "id": "Assjv4UpmeJX",
        "outputId": "da897a0d-c22c-4afb-aa39-72e15ccf297b"
      },
      "execution_count": 600,
      "outputs": [
        {
          "output_type": "execute_result",
          "data": {
            "text/plain": [
              "GridSearchCV(cv=5, estimator=ExtraTreesClassifier(random_state=42),\n",
              "             param_grid={'bootstrap': [True, False],\n",
              "                         'criterion': ['gini', 'entropy'],\n",
              "                         'max_depth': [1, 6, 11, 16, 21, 26],\n",
              "                         'n_estimators': [100, 150, 200]})"
            ]
          },
          "metadata": {},
          "execution_count": 600
        }
      ]
    },
    {
      "cell_type": "code",
      "source": [
        "CV_etc.best_params_"
      ],
      "metadata": {
        "colab": {
          "base_uri": "https://localhost:8080/"
        },
        "id": "oOcBfSi3p8Du",
        "outputId": "73b8de7b-a54e-4289-ca6f-719ffec1253b"
      },
      "execution_count": 601,
      "outputs": [
        {
          "output_type": "execute_result",
          "data": {
            "text/plain": [
              "{'bootstrap': True, 'criterion': 'gini', 'max_depth': 11, 'n_estimators': 100}"
            ]
          },
          "metadata": {},
          "execution_count": 601
        }
      ]
    },
    {
      "cell_type": "code",
      "source": [
        "etc1 = ExtraTreesClassifier(bootstrap = True, random_state=42, max_features='auto', n_estimators= 100, max_depth=11, criterion='gini')\n",
        "etc1.fit(X_train, y_train)\n",
        "\n",
        "pred_etc1 = etc1.predict(X_test)\n",
        "pred_proba_etc1 = etc1.predict_proba(X_test)[:,1]\n",
        " \n",
        "confusion_matrix = pd.crosstab(y_test,pred_etc1, rownames=['Actual'], colnames=['Predicted'])\n",
        "confusion_matrix"
      ],
      "metadata": {
        "colab": {
          "base_uri": "https://localhost:8080/",
          "height": 143
        },
        "id": "koKi8wCnp-YA",
        "outputId": "13a823d2-c4c3-4ed2-d0dd-f45dab3097f8"
      },
      "execution_count": 602,
      "outputs": [
        {
          "output_type": "execute_result",
          "data": {
            "text/plain": [
              "Predicted     0     1\n",
              "Actual               \n",
              "0          8722     0\n",
              "1             0  3444"
            ],
            "text/html": [
              "\n",
              "  <div id=\"df-0a2ea57f-d45d-47d3-aa46-b7e86e7ea1d5\">\n",
              "    <div class=\"colab-df-container\">\n",
              "      <div>\n",
              "<style scoped>\n",
              "    .dataframe tbody tr th:only-of-type {\n",
              "        vertical-align: middle;\n",
              "    }\n",
              "\n",
              "    .dataframe tbody tr th {\n",
              "        vertical-align: top;\n",
              "    }\n",
              "\n",
              "    .dataframe thead th {\n",
              "        text-align: right;\n",
              "    }\n",
              "</style>\n",
              "<table border=\"1\" class=\"dataframe\">\n",
              "  <thead>\n",
              "    <tr style=\"text-align: right;\">\n",
              "      <th>Predicted</th>\n",
              "      <th>0</th>\n",
              "      <th>1</th>\n",
              "    </tr>\n",
              "    <tr>\n",
              "      <th>Actual</th>\n",
              "      <th></th>\n",
              "      <th></th>\n",
              "    </tr>\n",
              "  </thead>\n",
              "  <tbody>\n",
              "    <tr>\n",
              "      <th>0</th>\n",
              "      <td>8722</td>\n",
              "      <td>0</td>\n",
              "    </tr>\n",
              "    <tr>\n",
              "      <th>1</th>\n",
              "      <td>0</td>\n",
              "      <td>3444</td>\n",
              "    </tr>\n",
              "  </tbody>\n",
              "</table>\n",
              "</div>\n",
              "      <button class=\"colab-df-convert\" onclick=\"convertToInteractive('df-0a2ea57f-d45d-47d3-aa46-b7e86e7ea1d5')\"\n",
              "              title=\"Convert this dataframe to an interactive table.\"\n",
              "              style=\"display:none;\">\n",
              "        \n",
              "  <svg xmlns=\"http://www.w3.org/2000/svg\" height=\"24px\"viewBox=\"0 0 24 24\"\n",
              "       width=\"24px\">\n",
              "    <path d=\"M0 0h24v24H0V0z\" fill=\"none\"/>\n",
              "    <path d=\"M18.56 5.44l.94 2.06.94-2.06 2.06-.94-2.06-.94-.94-2.06-.94 2.06-2.06.94zm-11 1L8.5 8.5l.94-2.06 2.06-.94-2.06-.94L8.5 2.5l-.94 2.06-2.06.94zm10 10l.94 2.06.94-2.06 2.06-.94-2.06-.94-.94-2.06-.94 2.06-2.06.94z\"/><path d=\"M17.41 7.96l-1.37-1.37c-.4-.4-.92-.59-1.43-.59-.52 0-1.04.2-1.43.59L10.3 9.45l-7.72 7.72c-.78.78-.78 2.05 0 2.83L4 21.41c.39.39.9.59 1.41.59.51 0 1.02-.2 1.41-.59l7.78-7.78 2.81-2.81c.8-.78.8-2.07 0-2.86zM5.41 20L4 18.59l7.72-7.72 1.47 1.35L5.41 20z\"/>\n",
              "  </svg>\n",
              "      </button>\n",
              "      \n",
              "  <style>\n",
              "    .colab-df-container {\n",
              "      display:flex;\n",
              "      flex-wrap:wrap;\n",
              "      gap: 12px;\n",
              "    }\n",
              "\n",
              "    .colab-df-convert {\n",
              "      background-color: #E8F0FE;\n",
              "      border: none;\n",
              "      border-radius: 50%;\n",
              "      cursor: pointer;\n",
              "      display: none;\n",
              "      fill: #1967D2;\n",
              "      height: 32px;\n",
              "      padding: 0 0 0 0;\n",
              "      width: 32px;\n",
              "    }\n",
              "\n",
              "    .colab-df-convert:hover {\n",
              "      background-color: #E2EBFA;\n",
              "      box-shadow: 0px 1px 2px rgba(60, 64, 67, 0.3), 0px 1px 3px 1px rgba(60, 64, 67, 0.15);\n",
              "      fill: #174EA6;\n",
              "    }\n",
              "\n",
              "    [theme=dark] .colab-df-convert {\n",
              "      background-color: #3B4455;\n",
              "      fill: #D2E3FC;\n",
              "    }\n",
              "\n",
              "    [theme=dark] .colab-df-convert:hover {\n",
              "      background-color: #434B5C;\n",
              "      box-shadow: 0px 1px 3px 1px rgba(0, 0, 0, 0.15);\n",
              "      filter: drop-shadow(0px 1px 2px rgba(0, 0, 0, 0.3));\n",
              "      fill: #FFFFFF;\n",
              "    }\n",
              "  </style>\n",
              "\n",
              "      <script>\n",
              "        const buttonEl =\n",
              "          document.querySelector('#df-0a2ea57f-d45d-47d3-aa46-b7e86e7ea1d5 button.colab-df-convert');\n",
              "        buttonEl.style.display =\n",
              "          google.colab.kernel.accessAllowed ? 'block' : 'none';\n",
              "\n",
              "        async function convertToInteractive(key) {\n",
              "          const element = document.querySelector('#df-0a2ea57f-d45d-47d3-aa46-b7e86e7ea1d5');\n",
              "          const dataTable =\n",
              "            await google.colab.kernel.invokeFunction('convertToInteractive',\n",
              "                                                     [key], {});\n",
              "          if (!dataTable) return;\n",
              "\n",
              "          const docLinkHtml = 'Like what you see? Visit the ' +\n",
              "            '<a target=\"_blank\" href=https://colab.research.google.com/notebooks/data_table.ipynb>data table notebook</a>'\n",
              "            + ' to learn more about interactive tables.';\n",
              "          element.innerHTML = '';\n",
              "          dataTable['output_type'] = 'display_data';\n",
              "          await google.colab.output.renderOutput(dataTable, element);\n",
              "          const docLink = document.createElement('div');\n",
              "          docLink.innerHTML = docLinkHtml;\n",
              "          element.appendChild(docLink);\n",
              "        }\n",
              "      </script>\n",
              "    </div>\n",
              "  </div>\n",
              "  "
            ]
          },
          "metadata": {},
          "execution_count": 602
        }
      ]
    },
    {
      "cell_type": "code",
      "source": [
        "etc1.score(X_test, y_test)"
      ],
      "metadata": {
        "colab": {
          "base_uri": "https://localhost:8080/"
        },
        "id": "f4pYg2f6qUUO",
        "outputId": "2f386b1a-6704-4644-eb77-d97077f2f2f9"
      },
      "execution_count": 603,
      "outputs": [
        {
          "output_type": "execute_result",
          "data": {
            "text/plain": [
              "1.0"
            ]
          },
          "metadata": {},
          "execution_count": 603
        }
      ]
    },
    {
      "cell_type": "code",
      "source": [
        "from sklearn.metrics import roc_auc_score"
      ],
      "metadata": {
        "id": "OdX4dVdXqYUI"
      },
      "execution_count": 581,
      "outputs": []
    },
    {
      "cell_type": "code",
      "source": [
        "roc_auc_score(y_test, pred_proba_etc1)"
      ],
      "metadata": {
        "colab": {
          "base_uri": "https://localhost:8080/"
        },
        "id": "dSTZTLkUqWlv",
        "outputId": "f24542b9-679c-4630-8e7d-0a1f73d8230a"
      },
      "execution_count": 582,
      "outputs": [
        {
          "output_type": "execute_result",
          "data": {
            "text/plain": [
              "1.0"
            ]
          },
          "metadata": {},
          "execution_count": 582
        }
      ]
    },
    {
      "cell_type": "markdown",
      "source": [
        "#### Modelo: Random Forest"
      ],
      "metadata": {
        "id": "ETwhgx9Pqdzw"
      }
    },
    {
      "cell_type": "code",
      "source": [
        "rfc = RandomForestClassifier(random_state=42)\n",
        "\n",
        "param_grid = { \n",
        "    'n_estimators': [100, 150, 200],\n",
        "    'max_depth' : list(range(1,30,5)),\n",
        "    'criterion' :['gini', 'entropy']\n",
        "}\n",
        "\n",
        "CV_rfc = GridSearchCV(estimator=rfc, param_grid=param_grid, cv= 5)\n",
        "CV_rfc.fit(X_train, y_train)"
      ],
      "metadata": {
        "colab": {
          "base_uri": "https://localhost:8080/"
        },
        "id": "UJCHDNuzqfgt",
        "outputId": "84491b14-a468-47c8-9546-77c1f9a0a4b6"
      },
      "execution_count": 611,
      "outputs": [
        {
          "output_type": "execute_result",
          "data": {
            "text/plain": [
              "GridSearchCV(cv=5, estimator=RandomForestClassifier(random_state=42),\n",
              "             param_grid={'criterion': ['gini', 'entropy'],\n",
              "                         'max_depth': [1, 6, 11, 16, 21, 26],\n",
              "                         'n_estimators': [100, 150, 200]})"
            ]
          },
          "metadata": {},
          "execution_count": 611
        }
      ]
    },
    {
      "cell_type": "code",
      "source": [
        "CV_rfc.best_params_"
      ],
      "metadata": {
        "colab": {
          "base_uri": "https://localhost:8080/"
        },
        "id": "pAqgKHvqqpth",
        "outputId": "405104ab-b8b9-438d-e6e2-7abca7eef8f2"
      },
      "execution_count": 612,
      "outputs": [
        {
          "output_type": "execute_result",
          "data": {
            "text/plain": [
              "{'criterion': 'gini', 'max_depth': 6, 'n_estimators': 100}"
            ]
          },
          "metadata": {},
          "execution_count": 612
        }
      ]
    },
    {
      "cell_type": "code",
      "source": [
        "rfc1 = RandomForestClassifier(random_state = 42, n_estimators= 100, max_depth=6, criterion='gini')\n",
        "rfc1.fit(X_train, y_train)\n",
        "\n",
        "pred_rfc1 = rfc1.predict(X_test)\n",
        "pred_proba_rfc1 = rfc1.predict_proba(X_test)[:,1]\n",
        " \n",
        "confusion_matrix = pd.crosstab(y_test,pred_rfc1, rownames=['Actual'], colnames=['Predicted'])\n",
        "confusion_matrix"
      ],
      "metadata": {
        "colab": {
          "base_uri": "https://localhost:8080/",
          "height": 143
        },
        "id": "Zkjn6YPKqrgw",
        "outputId": "4c8949e1-1f4e-46aa-8993-154776448ba9"
      },
      "execution_count": 613,
      "outputs": [
        {
          "output_type": "execute_result",
          "data": {
            "text/plain": [
              "Predicted     0     1\n",
              "Actual               \n",
              "0          8722     0\n",
              "1             0  3444"
            ],
            "text/html": [
              "\n",
              "  <div id=\"df-29485664-0e16-4010-8d12-ea3bb5933905\">\n",
              "    <div class=\"colab-df-container\">\n",
              "      <div>\n",
              "<style scoped>\n",
              "    .dataframe tbody tr th:only-of-type {\n",
              "        vertical-align: middle;\n",
              "    }\n",
              "\n",
              "    .dataframe tbody tr th {\n",
              "        vertical-align: top;\n",
              "    }\n",
              "\n",
              "    .dataframe thead th {\n",
              "        text-align: right;\n",
              "    }\n",
              "</style>\n",
              "<table border=\"1\" class=\"dataframe\">\n",
              "  <thead>\n",
              "    <tr style=\"text-align: right;\">\n",
              "      <th>Predicted</th>\n",
              "      <th>0</th>\n",
              "      <th>1</th>\n",
              "    </tr>\n",
              "    <tr>\n",
              "      <th>Actual</th>\n",
              "      <th></th>\n",
              "      <th></th>\n",
              "    </tr>\n",
              "  </thead>\n",
              "  <tbody>\n",
              "    <tr>\n",
              "      <th>0</th>\n",
              "      <td>8722</td>\n",
              "      <td>0</td>\n",
              "    </tr>\n",
              "    <tr>\n",
              "      <th>1</th>\n",
              "      <td>0</td>\n",
              "      <td>3444</td>\n",
              "    </tr>\n",
              "  </tbody>\n",
              "</table>\n",
              "</div>\n",
              "      <button class=\"colab-df-convert\" onclick=\"convertToInteractive('df-29485664-0e16-4010-8d12-ea3bb5933905')\"\n",
              "              title=\"Convert this dataframe to an interactive table.\"\n",
              "              style=\"display:none;\">\n",
              "        \n",
              "  <svg xmlns=\"http://www.w3.org/2000/svg\" height=\"24px\"viewBox=\"0 0 24 24\"\n",
              "       width=\"24px\">\n",
              "    <path d=\"M0 0h24v24H0V0z\" fill=\"none\"/>\n",
              "    <path d=\"M18.56 5.44l.94 2.06.94-2.06 2.06-.94-2.06-.94-.94-2.06-.94 2.06-2.06.94zm-11 1L8.5 8.5l.94-2.06 2.06-.94-2.06-.94L8.5 2.5l-.94 2.06-2.06.94zm10 10l.94 2.06.94-2.06 2.06-.94-2.06-.94-.94-2.06-.94 2.06-2.06.94z\"/><path d=\"M17.41 7.96l-1.37-1.37c-.4-.4-.92-.59-1.43-.59-.52 0-1.04.2-1.43.59L10.3 9.45l-7.72 7.72c-.78.78-.78 2.05 0 2.83L4 21.41c.39.39.9.59 1.41.59.51 0 1.02-.2 1.41-.59l7.78-7.78 2.81-2.81c.8-.78.8-2.07 0-2.86zM5.41 20L4 18.59l7.72-7.72 1.47 1.35L5.41 20z\"/>\n",
              "  </svg>\n",
              "      </button>\n",
              "      \n",
              "  <style>\n",
              "    .colab-df-container {\n",
              "      display:flex;\n",
              "      flex-wrap:wrap;\n",
              "      gap: 12px;\n",
              "    }\n",
              "\n",
              "    .colab-df-convert {\n",
              "      background-color: #E8F0FE;\n",
              "      border: none;\n",
              "      border-radius: 50%;\n",
              "      cursor: pointer;\n",
              "      display: none;\n",
              "      fill: #1967D2;\n",
              "      height: 32px;\n",
              "      padding: 0 0 0 0;\n",
              "      width: 32px;\n",
              "    }\n",
              "\n",
              "    .colab-df-convert:hover {\n",
              "      background-color: #E2EBFA;\n",
              "      box-shadow: 0px 1px 2px rgba(60, 64, 67, 0.3), 0px 1px 3px 1px rgba(60, 64, 67, 0.15);\n",
              "      fill: #174EA6;\n",
              "    }\n",
              "\n",
              "    [theme=dark] .colab-df-convert {\n",
              "      background-color: #3B4455;\n",
              "      fill: #D2E3FC;\n",
              "    }\n",
              "\n",
              "    [theme=dark] .colab-df-convert:hover {\n",
              "      background-color: #434B5C;\n",
              "      box-shadow: 0px 1px 3px 1px rgba(0, 0, 0, 0.15);\n",
              "      filter: drop-shadow(0px 1px 2px rgba(0, 0, 0, 0.3));\n",
              "      fill: #FFFFFF;\n",
              "    }\n",
              "  </style>\n",
              "\n",
              "      <script>\n",
              "        const buttonEl =\n",
              "          document.querySelector('#df-29485664-0e16-4010-8d12-ea3bb5933905 button.colab-df-convert');\n",
              "        buttonEl.style.display =\n",
              "          google.colab.kernel.accessAllowed ? 'block' : 'none';\n",
              "\n",
              "        async function convertToInteractive(key) {\n",
              "          const element = document.querySelector('#df-29485664-0e16-4010-8d12-ea3bb5933905');\n",
              "          const dataTable =\n",
              "            await google.colab.kernel.invokeFunction('convertToInteractive',\n",
              "                                                     [key], {});\n",
              "          if (!dataTable) return;\n",
              "\n",
              "          const docLinkHtml = 'Like what you see? Visit the ' +\n",
              "            '<a target=\"_blank\" href=https://colab.research.google.com/notebooks/data_table.ipynb>data table notebook</a>'\n",
              "            + ' to learn more about interactive tables.';\n",
              "          element.innerHTML = '';\n",
              "          dataTable['output_type'] = 'display_data';\n",
              "          await google.colab.output.renderOutput(dataTable, element);\n",
              "          const docLink = document.createElement('div');\n",
              "          docLink.innerHTML = docLinkHtml;\n",
              "          element.appendChild(docLink);\n",
              "        }\n",
              "      </script>\n",
              "    </div>\n",
              "  </div>\n",
              "  "
            ]
          },
          "metadata": {},
          "execution_count": 613
        }
      ]
    },
    {
      "cell_type": "code",
      "source": [
        "rfc1.score(X_test, y_test)"
      ],
      "metadata": {
        "colab": {
          "base_uri": "https://localhost:8080/"
        },
        "id": "Mqmy0AJbqv6a",
        "outputId": "cb2dcdac-366d-4c6a-f61e-a5b9a6b412e4"
      },
      "execution_count": 614,
      "outputs": [
        {
          "output_type": "execute_result",
          "data": {
            "text/plain": [
              "1.0"
            ]
          },
          "metadata": {},
          "execution_count": 614
        }
      ]
    },
    {
      "cell_type": "code",
      "source": [
        "roc_auc_score(y_test, pred_proba_rfc1)"
      ],
      "metadata": {
        "colab": {
          "base_uri": "https://localhost:8080/"
        },
        "id": "qPeIgALgqxyX",
        "outputId": "35dcacab-c8a6-4c02-c90c-a1f7d7880e8c"
      },
      "execution_count": 615,
      "outputs": [
        {
          "output_type": "execute_result",
          "data": {
            "text/plain": [
              "1.0"
            ]
          },
          "metadata": {},
          "execution_count": 615
        }
      ]
    },
    {
      "cell_type": "code",
      "source": [
        "importances = []\n",
        "\n",
        "# regr3 = RandomForestClassifier(max_depth=16,random_state=42,n_estimators=100,min_samples_leaf=1,max_features=.1)\n",
        "# fregr3 = regr3.fit(X_train,y_train)\n",
        "\n",
        "for i in range(len(cols_seleccionadas)):\n",
        "  importances.append([cols_seleccionadas[i], rfc1.feature_importances_[i]])\n",
        "\n",
        "importances = pd.DataFrame(importances, columns=[\"feature\", \"importance\"])\n",
        "importances.sort_values(by='importance',ascending = False)"
      ],
      "metadata": {
        "colab": {
          "base_uri": "https://localhost:8080/",
          "height": 394
        },
        "id": "sDpgbFsWq0az",
        "outputId": "b9959503-3201-4886-e9a6-13689086cac0"
      },
      "execution_count": 588,
      "outputs": [
        {
          "output_type": "execute_result",
          "data": {
            "text/plain": [
              "                        feature  importance\n",
              "0            reservation_status    0.874854\n",
              "2   required_car_parking_spaces    0.021140\n",
              "1                     lead_time    0.019400\n",
              "9                           PRT    0.018413\n",
              "5                         agent    0.018366\n",
              "10    total_of_special_requests    0.011451\n",
              "3                  deposit_type    0.011220\n",
              "7                 customer_type    0.011024\n",
              "6        previous_cancellations    0.006664\n",
              "4                           adr    0.004744\n",
              "8               booking_changes    0.002726"
            ],
            "text/html": [
              "\n",
              "  <div id=\"df-201f4458-765c-491a-a8a9-ff2b2a2af9eb\">\n",
              "    <div class=\"colab-df-container\">\n",
              "      <div>\n",
              "<style scoped>\n",
              "    .dataframe tbody tr th:only-of-type {\n",
              "        vertical-align: middle;\n",
              "    }\n",
              "\n",
              "    .dataframe tbody tr th {\n",
              "        vertical-align: top;\n",
              "    }\n",
              "\n",
              "    .dataframe thead th {\n",
              "        text-align: right;\n",
              "    }\n",
              "</style>\n",
              "<table border=\"1\" class=\"dataframe\">\n",
              "  <thead>\n",
              "    <tr style=\"text-align: right;\">\n",
              "      <th></th>\n",
              "      <th>feature</th>\n",
              "      <th>importance</th>\n",
              "    </tr>\n",
              "  </thead>\n",
              "  <tbody>\n",
              "    <tr>\n",
              "      <th>0</th>\n",
              "      <td>reservation_status</td>\n",
              "      <td>0.874854</td>\n",
              "    </tr>\n",
              "    <tr>\n",
              "      <th>2</th>\n",
              "      <td>required_car_parking_spaces</td>\n",
              "      <td>0.021140</td>\n",
              "    </tr>\n",
              "    <tr>\n",
              "      <th>1</th>\n",
              "      <td>lead_time</td>\n",
              "      <td>0.019400</td>\n",
              "    </tr>\n",
              "    <tr>\n",
              "      <th>9</th>\n",
              "      <td>PRT</td>\n",
              "      <td>0.018413</td>\n",
              "    </tr>\n",
              "    <tr>\n",
              "      <th>5</th>\n",
              "      <td>agent</td>\n",
              "      <td>0.018366</td>\n",
              "    </tr>\n",
              "    <tr>\n",
              "      <th>10</th>\n",
              "      <td>total_of_special_requests</td>\n",
              "      <td>0.011451</td>\n",
              "    </tr>\n",
              "    <tr>\n",
              "      <th>3</th>\n",
              "      <td>deposit_type</td>\n",
              "      <td>0.011220</td>\n",
              "    </tr>\n",
              "    <tr>\n",
              "      <th>7</th>\n",
              "      <td>customer_type</td>\n",
              "      <td>0.011024</td>\n",
              "    </tr>\n",
              "    <tr>\n",
              "      <th>6</th>\n",
              "      <td>previous_cancellations</td>\n",
              "      <td>0.006664</td>\n",
              "    </tr>\n",
              "    <tr>\n",
              "      <th>4</th>\n",
              "      <td>adr</td>\n",
              "      <td>0.004744</td>\n",
              "    </tr>\n",
              "    <tr>\n",
              "      <th>8</th>\n",
              "      <td>booking_changes</td>\n",
              "      <td>0.002726</td>\n",
              "    </tr>\n",
              "  </tbody>\n",
              "</table>\n",
              "</div>\n",
              "      <button class=\"colab-df-convert\" onclick=\"convertToInteractive('df-201f4458-765c-491a-a8a9-ff2b2a2af9eb')\"\n",
              "              title=\"Convert this dataframe to an interactive table.\"\n",
              "              style=\"display:none;\">\n",
              "        \n",
              "  <svg xmlns=\"http://www.w3.org/2000/svg\" height=\"24px\"viewBox=\"0 0 24 24\"\n",
              "       width=\"24px\">\n",
              "    <path d=\"M0 0h24v24H0V0z\" fill=\"none\"/>\n",
              "    <path d=\"M18.56 5.44l.94 2.06.94-2.06 2.06-.94-2.06-.94-.94-2.06-.94 2.06-2.06.94zm-11 1L8.5 8.5l.94-2.06 2.06-.94-2.06-.94L8.5 2.5l-.94 2.06-2.06.94zm10 10l.94 2.06.94-2.06 2.06-.94-2.06-.94-.94-2.06-.94 2.06-2.06.94z\"/><path d=\"M17.41 7.96l-1.37-1.37c-.4-.4-.92-.59-1.43-.59-.52 0-1.04.2-1.43.59L10.3 9.45l-7.72 7.72c-.78.78-.78 2.05 0 2.83L4 21.41c.39.39.9.59 1.41.59.51 0 1.02-.2 1.41-.59l7.78-7.78 2.81-2.81c.8-.78.8-2.07 0-2.86zM5.41 20L4 18.59l7.72-7.72 1.47 1.35L5.41 20z\"/>\n",
              "  </svg>\n",
              "      </button>\n",
              "      \n",
              "  <style>\n",
              "    .colab-df-container {\n",
              "      display:flex;\n",
              "      flex-wrap:wrap;\n",
              "      gap: 12px;\n",
              "    }\n",
              "\n",
              "    .colab-df-convert {\n",
              "      background-color: #E8F0FE;\n",
              "      border: none;\n",
              "      border-radius: 50%;\n",
              "      cursor: pointer;\n",
              "      display: none;\n",
              "      fill: #1967D2;\n",
              "      height: 32px;\n",
              "      padding: 0 0 0 0;\n",
              "      width: 32px;\n",
              "    }\n",
              "\n",
              "    .colab-df-convert:hover {\n",
              "      background-color: #E2EBFA;\n",
              "      box-shadow: 0px 1px 2px rgba(60, 64, 67, 0.3), 0px 1px 3px 1px rgba(60, 64, 67, 0.15);\n",
              "      fill: #174EA6;\n",
              "    }\n",
              "\n",
              "    [theme=dark] .colab-df-convert {\n",
              "      background-color: #3B4455;\n",
              "      fill: #D2E3FC;\n",
              "    }\n",
              "\n",
              "    [theme=dark] .colab-df-convert:hover {\n",
              "      background-color: #434B5C;\n",
              "      box-shadow: 0px 1px 3px 1px rgba(0, 0, 0, 0.15);\n",
              "      filter: drop-shadow(0px 1px 2px rgba(0, 0, 0, 0.3));\n",
              "      fill: #FFFFFF;\n",
              "    }\n",
              "  </style>\n",
              "\n",
              "      <script>\n",
              "        const buttonEl =\n",
              "          document.querySelector('#df-201f4458-765c-491a-a8a9-ff2b2a2af9eb button.colab-df-convert');\n",
              "        buttonEl.style.display =\n",
              "          google.colab.kernel.accessAllowed ? 'block' : 'none';\n",
              "\n",
              "        async function convertToInteractive(key) {\n",
              "          const element = document.querySelector('#df-201f4458-765c-491a-a8a9-ff2b2a2af9eb');\n",
              "          const dataTable =\n",
              "            await google.colab.kernel.invokeFunction('convertToInteractive',\n",
              "                                                     [key], {});\n",
              "          if (!dataTable) return;\n",
              "\n",
              "          const docLinkHtml = 'Like what you see? Visit the ' +\n",
              "            '<a target=\"_blank\" href=https://colab.research.google.com/notebooks/data_table.ipynb>data table notebook</a>'\n",
              "            + ' to learn more about interactive tables.';\n",
              "          element.innerHTML = '';\n",
              "          dataTable['output_type'] = 'display_data';\n",
              "          await google.colab.output.renderOutput(dataTable, element);\n",
              "          const docLink = document.createElement('div');\n",
              "          docLink.innerHTML = docLinkHtml;\n",
              "          element.appendChild(docLink);\n",
              "        }\n",
              "      </script>\n",
              "    </div>\n",
              "  </div>\n",
              "  "
            ]
          },
          "metadata": {},
          "execution_count": 588
        }
      ]
    },
    {
      "cell_type": "markdown",
      "source": [
        "#### Modelo: KNN"
      ],
      "metadata": {
        "id": "T7BB04iUnlWX"
      }
    },
    {
      "cell_type": "code",
      "source": [],
      "metadata": {
        "id": "MhBwpJ_mor_u"
      },
      "execution_count": null,
      "outputs": []
    }
  ]
}